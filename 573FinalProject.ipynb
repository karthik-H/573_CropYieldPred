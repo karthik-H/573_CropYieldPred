{
 "cells": [
  {
   "cell_type": "code",
   "execution_count": 21,
   "id": "c2492e46",
   "metadata": {},
   "outputs": [],
   "source": [
    "\n",
    "import time\n",
    "import pandas as pd\n",
    "import numpy as np\n",
    "import matplotlib.pyplot as plt\n",
    "import seaborn as sns\n",
    "np.set_printoptions(precision=3, suppress=True)"
   ]
  },
  {
   "cell_type": "code",
   "execution_count": 22,
   "id": "a8f1fba7",
   "metadata": {},
   "outputs": [
    {
     "data": {
      "text/html": [
       "        <script type=\"text/javascript\">\n",
       "        window.PlotlyConfig = {MathJaxConfig: 'local'};\n",
       "        if (window.MathJax && window.MathJax.Hub && window.MathJax.Hub.Config) {window.MathJax.Hub.Config({SVG: {font: \"STIX-Web\"}});}\n",
       "        if (typeof require !== 'undefined') {\n",
       "        require.undef(\"plotly\");\n",
       "        requirejs.config({\n",
       "            paths: {\n",
       "                'plotly': ['https://cdn.plot.ly/plotly-2.12.1.min']\n",
       "            }\n",
       "        });\n",
       "        require(['plotly'], function(Plotly) {\n",
       "            window._Plotly = Plotly;\n",
       "        });\n",
       "        }\n",
       "        </script>\n",
       "        "
      ]
     },
     "metadata": {},
     "output_type": "display_data"
    }
   ],
   "source": [
    "import plotly.express as px\n",
    "import plotly.offline as py\n",
    "from plotly.offline import iplot, init_notebook_mode\n",
    "init_notebook_mode(connected=True)\n",
    "import warnings\n",
    "warnings.filterwarnings(\"ignore\")"
   ]
  },
  {
   "cell_type": "code",
   "execution_count": 23,
   "id": "2b9da0b3",
   "metadata": {},
   "outputs": [],
   "source": [
    "import tensorflow as tf\n",
    "import tensorflow.keras as keras\n",
    "import keras.layers as layers\n",
    "\n",
    "from sklearn.model_selection import train_test_split\n",
    "from sklearn.preprocessing import MinMaxScaler\n",
    "import gc"
   ]
  },
  {
   "cell_type": "markdown",
   "id": "aaa40362",
   "metadata": {},
   "source": [
    "**Meteorological parameters**\n",
    "\n",
    "\n",
    "dd : wind direction in degrees\n",
    "\n",
    "ff : wind speed in m.s-1\n",
    "\n",
    "precip : precipitation during the reporting period in kg.m2\n",
    "\n",
    "hu : humidity in %\n",
    "\n",
    "td : dew point temperature in Kelvin\n",
    "\n",
    "t : temperature in Kelvin\n",
    "\n",
    "psl : pressure reduced to sea level in Pa"
   ]
  },
  {
   "cell_type": "code",
   "execution_count": 24,
   "id": "240f0724",
   "metadata": {},
   "outputs": [],
   "source": [
    "paths = ['archive/NW_Ground_Stations/NW_Ground_Stations/NW_Ground_Stations_2017.csv',\n",
    "         'archive/NW_Ground_Stations/NW_Ground_Stations/NW_Ground_Stations_2018.csv']"
   ]
  },
  {
   "cell_type": "code",
   "execution_count": 25,
   "id": "71f76daa",
   "metadata": {},
   "outputs": [],
   "source": [
    "dtype = {\n",
    "    'height_sta': 'int',\n",
    "    'dd': 'float',  # Assuming dd is wind direction\n",
    "    'ff': 'float',  # Assuming ff is wind speed\n",
    "    'precip': 'float',\n",
    "    'hu': 'float',  # Assuming hu is humidity\n",
    "    'td': 'float',  # Assuming td is dew point temperature\n",
    "    't': 'float',   # Assuming t is temperature\n",
    "    'psl': 'float'  # Assuming psl is pressure at sea level\n",
    "}\n",
    "#reading csv\n",
    "def open_csv(path:str):\n",
    "    df =  pd.read_csv(\n",
    "      path,\n",
    "      header = 0,\n",
    "      dtype = dtype\n",
    "  )\n",
    "    return df"
   ]
  },
  {
   "cell_type": "code",
   "execution_count": 26,
   "id": "c6909877",
   "metadata": {},
   "outputs": [
    {
     "name": "stdout",
     "output_type": "stream",
     "text": [
      "<class 'pandas.core.frame.DataFrame'>\n",
      "Index: 13050786 entries, 0 to 22034570\n",
      "Data columns (total 12 columns):\n",
      " #   Column      Dtype         \n",
      "---  ------      -----         \n",
      " 0   number_sta  int64         \n",
      " 1   lat         float64       \n",
      " 2   lon         float64       \n",
      " 3   height_sta  int64         \n",
      " 4   date        datetime64[ns]\n",
      " 5   dd          float64       \n",
      " 6   ff          float64       \n",
      " 7   precip      float64       \n",
      " 8   hu          float64       \n",
      " 9   td          float64       \n",
      " 10  t           float64       \n",
      " 11  psl         float64       \n",
      "dtypes: datetime64[ns](1), float64(9), int64(2)\n",
      "memory usage: 1.3 GB\n"
     ]
    }
   ],
   "source": [
    "weather_data = pd.concat((open_csv(_) for _ in paths))\n",
    "\n",
    "#dd= wind direction and ff= wind speed,hu= Humidity, td= Dew Point temperature, \n",
    "num_cols = ['height_sta','dd', 'ff', 'precip','hu', 'td', 't', 'psl']\n",
    "dtype = dict([(k,'float32') for k in num_cols])\n",
    "weather_data = weather_data.loc[weather_data['lat']>48.4]\n",
    "weather_data = weather_data.loc[weather_data['lon']>-1.6]\n",
    "weather_data['date'] = pd.to_datetime(weather_data['date'])\n",
    "values = {_:np.mean(weather_data[_]) for _ in num_cols}\n",
    "weather_data = weather_data.fillna(value = values)\n",
    "weather_data.info()\n"
   ]
  },
  {
   "cell_type": "code",
   "execution_count": 27,
   "id": "6a832700",
   "metadata": {},
   "outputs": [
    {
     "data": {
      "text/html": [
       "<div>\n",
       "<style scoped>\n",
       "    .dataframe tbody tr th:only-of-type {\n",
       "        vertical-align: middle;\n",
       "    }\n",
       "\n",
       "    .dataframe tbody tr th {\n",
       "        vertical-align: top;\n",
       "    }\n",
       "\n",
       "    .dataframe thead th {\n",
       "        text-align: right;\n",
       "    }\n",
       "</style>\n",
       "<table border=\"1\" class=\"dataframe\">\n",
       "  <thead>\n",
       "    <tr style=\"text-align: right;\">\n",
       "      <th></th>\n",
       "      <th>number_sta</th>\n",
       "      <th>lat</th>\n",
       "      <th>lon</th>\n",
       "      <th>height_sta</th>\n",
       "      <th>date</th>\n",
       "      <th>dd</th>\n",
       "      <th>ff</th>\n",
       "      <th>precip</th>\n",
       "      <th>hu</th>\n",
       "      <th>td</th>\n",
       "      <th>t</th>\n",
       "      <th>psl</th>\n",
       "    </tr>\n",
       "  </thead>\n",
       "  <tbody>\n",
       "    <tr>\n",
       "      <th>0</th>\n",
       "      <td>14066001</td>\n",
       "      <td>49.33</td>\n",
       "      <td>-0.43</td>\n",
       "      <td>2</td>\n",
       "      <td>2017-01-01</td>\n",
       "      <td>180.000000</td>\n",
       "      <td>1.700000</td>\n",
       "      <td>0.0</td>\n",
       "      <td>95.000000</td>\n",
       "      <td>269.550000</td>\n",
       "      <td>270.25</td>\n",
       "      <td>101688.953203</td>\n",
       "    </tr>\n",
       "    <tr>\n",
       "      <th>1</th>\n",
       "      <td>14126001</td>\n",
       "      <td>49.15</td>\n",
       "      <td>0.04</td>\n",
       "      <td>125</td>\n",
       "      <td>2017-01-01</td>\n",
       "      <td>188.995678</td>\n",
       "      <td>3.823897</td>\n",
       "      <td>0.0</td>\n",
       "      <td>96.000000</td>\n",
       "      <td>267.750000</td>\n",
       "      <td>268.25</td>\n",
       "      <td>101688.953203</td>\n",
       "    </tr>\n",
       "    <tr>\n",
       "      <th>2</th>\n",
       "      <td>14137001</td>\n",
       "      <td>49.18</td>\n",
       "      <td>-0.46</td>\n",
       "      <td>67</td>\n",
       "      <td>2017-01-01</td>\n",
       "      <td>0.000000</td>\n",
       "      <td>0.000000</td>\n",
       "      <td>0.0</td>\n",
       "      <td>98.000000</td>\n",
       "      <td>267.850000</td>\n",
       "      <td>268.15</td>\n",
       "      <td>102750.000000</td>\n",
       "    </tr>\n",
       "    <tr>\n",
       "      <th>3</th>\n",
       "      <td>14216001</td>\n",
       "      <td>48.93</td>\n",
       "      <td>-0.15</td>\n",
       "      <td>155</td>\n",
       "      <td>2017-01-01</td>\n",
       "      <td>210.000000</td>\n",
       "      <td>4.100000</td>\n",
       "      <td>0.0</td>\n",
       "      <td>90.000000</td>\n",
       "      <td>267.450000</td>\n",
       "      <td>268.85</td>\n",
       "      <td>101688.953203</td>\n",
       "    </tr>\n",
       "    <tr>\n",
       "      <th>4</th>\n",
       "      <td>14296001</td>\n",
       "      <td>48.80</td>\n",
       "      <td>-1.03</td>\n",
       "      <td>339</td>\n",
       "      <td>2017-01-01</td>\n",
       "      <td>188.995678</td>\n",
       "      <td>3.823897</td>\n",
       "      <td>0.0</td>\n",
       "      <td>80.597329</td>\n",
       "      <td>280.947985</td>\n",
       "      <td>271.05</td>\n",
       "      <td>101688.953203</td>\n",
       "    </tr>\n",
       "  </tbody>\n",
       "</table>\n",
       "</div>"
      ],
      "text/plain": [
       "   number_sta    lat   lon  height_sta       date          dd        ff  \\\n",
       "0    14066001  49.33 -0.43           2 2017-01-01  180.000000  1.700000   \n",
       "1    14126001  49.15  0.04         125 2017-01-01  188.995678  3.823897   \n",
       "2    14137001  49.18 -0.46          67 2017-01-01    0.000000  0.000000   \n",
       "3    14216001  48.93 -0.15         155 2017-01-01  210.000000  4.100000   \n",
       "4    14296001  48.80 -1.03         339 2017-01-01  188.995678  3.823897   \n",
       "\n",
       "   precip         hu          td       t            psl  \n",
       "0     0.0  95.000000  269.550000  270.25  101688.953203  \n",
       "1     0.0  96.000000  267.750000  268.25  101688.953203  \n",
       "2     0.0  98.000000  267.850000  268.15  102750.000000  \n",
       "3     0.0  90.000000  267.450000  268.85  101688.953203  \n",
       "4     0.0  80.597329  280.947985  271.05  101688.953203  "
      ]
     },
     "execution_count": 27,
     "metadata": {},
     "output_type": "execute_result"
    }
   ],
   "source": [
    "weather_data.head()"
   ]
  },
  {
   "cell_type": "code",
   "execution_count": 28,
   "id": "a80fd08c",
   "metadata": {},
   "outputs": [],
   "source": [
    "loc = weather_data['number_sta'].sample(1).values[0]\n",
    "station_id = np.unique(weather_data['number_sta'])\n",
    "coordinates = [\n",
    "    [\n",
    "        np.mean(weather_data.loc[weather_data['number_sta'] == k,'lat']),\n",
    "        np.mean(weather_data.loc[weather_data['number_sta'] == k,'lon'])\n",
    "    ]\n",
    "                for k in station_id\n",
    "]\n",
    "stations = {k:v for k,v in zip(station_id,coordinates)}"
   ]
  },
  {
   "cell_type": "code",
   "execution_count": 29,
   "id": "df2a77ae",
   "metadata": {
    "scrolled": false
   },
   "outputs": [
    {
     "name": "stdout",
     "output_type": "stream",
     "text": [
      "Average annual precipitation in mm\n"
     ]
    },
    {
     "data": {
      "application/vnd.plotly.v1+json": {
       "config": {
        "plotlyServerURL": "https://plot.ly"
       },
       "data": [
        {
         "hovertemplate": "lat=%{lat}<br>lon=%{lon}<br>precip=%{marker.color}<extra></extra>",
         "lat": [
          49.33153178029007,
          49.14811458069127,
          49.17999999999998,
          48.9286638237141,
          48.79617460399359,
          48.92845437219666,
          49.168084921119785,
          49.10199999999998,
          48.88999999999999,
          49.34962516285889,
          49.27999999999998,
          49.361527881829936,
          48.98961689994521,
          49.05999999999998,
          48.85038300216969,
          49.1003720034172,
          49.36040090324199,
          49.02808423726876,
          49.22400000000002,
          48.80038221439679,
          48.46038333771686,
          48.726,
          48.707,
          48.480383128646785,
          48.65038945994545,
          48.40846426834916,
          48.47900000000002,
          49.03600000000002,
          49.05100000000001,
          49.69885028132291,
          49.651150670197865,
          48.860766242365436,
          48.57808449249141,
          48.56153258096003,
          49.4015270296565,
          48.759000000000015,
          49.51923200851303,
          48.407094102914485,
          48.452,
          49.30847241436525,
          49.62115278358428,
          48.44846596801767,
          48.71924745292827,
          48.75,
          48.7207804506469,
          48.7584540411908,
          48.710386056436874,
          48.724000000000004,
          48.50148279456555,
          48.55700453273964,
          48.911165336466375,
          48.5880770641466,
          50.87,
          50.750378663779294,
          50.73115049375942,
          50.96000000000003,
          50.51153528659791,
          49.38114905605446,
          49.73299999999997,
          49.53923380136985,
          49.50923375763458,
          49.930766892721856,
          49.649999999999984,
          49.49153234387488,
          49.531151746787344,
          49.50961535243314,
          49.84000000000002,
          49.81500000000002,
          48.96146754497675,
          48.84000000000003,
          48.96297898631824,
          48.8597549720859,
          48.868000000000016,
          48.707,
          50.13846704849789,
          50.18776313852241,
          49.958864776708424,
          48.52654655423087,
          49.10799999999997
         ],
         "legendgroup": "",
         "lon": [
          -0.4303829450725132,
          0.04075416772348914,
          -0.45846727798015324,
          -0.14933191185705316,
          -1.0356361958160623,
          -0.6911592208525017,
          0.2288509526718778,
          -0.7650000000000003,
          -0.38847511066064266,
          -0.7711245114233863,
          -0.5617284780874394,
          0.16885408862756338,
          -0.009616899945200477,
          -0.2315422897008287,
          -0.8996169978303077,
          0.5588839897484181,
          0.39120270972598065,
          1.2207663050924875,
          1.2800000000000002,
          1.4911466431903404,
          1.500383337716841,
          1.3870000000000002,
          1.1730000000000005,
          1.011149385940348,
          1.3700000000000008,
          1.558080335436485,
          -1.1299999999999992,
          -1.298000000000001,
          -1.0399999999999996,
          -1.2680838022048397,
          -1.4615342269305052,
          -1.5711493635481477,
          -1.469999999999999,
          -1.0988505642799653,
          -1.1692364851717463,
          -0.843,
          -1.508848012769537,
          -0.4407264742713701,
          -0.1829999999999999,
          1.8796181035913098,
          1.7903842611947556,
          0.11000000000000007,
          0.01037627353586693,
          -0.59,
          -0.26156090129379267,
          0.6615459588092271,
          0.2996139435631378,
          -0.73,
          -0.701112095924155,
          0.529251133184906,
          0.24805777255601025,
          0.668846238487945,
          1.5829999999999989,
          1.9088640086620907,
          1.6000000000000008,
          1.9584666301094442,
          1.6211514649484366,
          1.1807660373696254,
          1.5019999999999991,
          1.4400000000000004,
          1.7184675152691362,
          1.0896165536390692,
          0.8167087447068192,
          0.7703830859687179,
          0.09076783119156875,
          0.07038464756686746,
          1.1670000000000003,
          0.5679999999999997,
          1.9218344312209508,
          1.979618049367572,
          1.6729789863182656,
          1.6909801116564334,
          1.6730000000000005,
          1.745999999999999,
          1.831532951502104,
          1.5207456204925296,
          1.77,
          1.9940931084617626,
          1.8310000000000004
         ],
         "marker": {
          "color": [
           716.9000000000001,
           569.5,
           693.7429238324969,
           711.5303654790621,
           1183.8586758511606,
           932.3260275534818,
           845.7,
           902.2780826604455,
           729.5500000000001,
           745.8108691700611,
           758.75,
           962.9561653208909,
           668.35,
           581.55,
           851.2086758511607,
           719.0303654790621,
           800.7808380086262,
           609.1084481395076,
           584.893379255803,
           571.1,
           658.7852158488087,
           655.7772237509053,
           583.4869919253451,
           726.0086758511607,
           653.35,
           571.7043379255804,
           932.8716896279016,
           987.7751167068695,
           380.11735170232123,
           758.6511288877532,
           852.5061653208909,
           754.5043379255803,
           714.9000000000001,
           861.5,
           827.1801377674092,
           1109.9954343627667,
           1044.5500000000002,
           845.1173517023212,
           820.8477171813834,
           619.949777990433,
           849.3150688837045,
           702.4627860650878,
           655.05,
           759.4954343627667,
           717.25,
           658.0255892364337,
           766.35,
           99.7,
           784.7586758511607,
           684.6045713393194,
           795.6086758511606,
           701.3641580370922,
           649.7803654790621,
           941.0504611253922,
           748.4424684091907,
           629.8257998418287,
           802.9563930325439,
           806.9885859069166,
           711.6867585116061,
           846.4543379255804,
           740.7,
           721.8929409387549,
           674.2342479813364,
           726.35,
           759.3351645300346,
           777.5235170232121,
           132,
           778.2020551069636,
           491.7630137767409,
           749.7063263411717,
           694.0433792558031,
           451.56301377674095,
           196.0173517023212,
           725.2454343627667,
           823.3392975523059,
           665.4931515441499,
           763.1,
           686.2168962790151,
           650.8563930325439
          ],
          "coloraxis": "coloraxis",
          "size": 12
         },
         "mode": "markers",
         "name": "",
         "showlegend": false,
         "subplot": "mapbox",
         "type": "scattermapbox"
        }
       ],
       "layout": {
        "coloraxis": {
         "colorbar": {
          "title": {
           "text": "precip"
          }
         },
         "colorscale": [
          [
           0,
           "rgb(255,255,217)"
          ],
          [
           0.125,
           "rgb(237,248,177)"
          ],
          [
           0.25,
           "rgb(199,233,180)"
          ],
          [
           0.375,
           "rgb(127,205,187)"
          ],
          [
           0.5,
           "rgb(65,182,196)"
          ],
          [
           0.625,
           "rgb(29,145,192)"
          ],
          [
           0.75,
           "rgb(34,94,168)"
          ],
          [
           0.875,
           "rgb(37,52,148)"
          ],
          [
           1,
           "rgb(8,29,88)"
          ]
         ]
        },
        "legend": {
         "tracegroupgap": 0
        },
        "mapbox": {
         "center": {
          "lat": 49.17666523166652,
          "lon": 0.44478407105858536
         },
         "domain": {
          "x": [
           0,
           1
          ],
          "y": [
           0,
           1
          ]
         },
         "style": "carto-darkmatter",
         "zoom": 6
        },
        "margin": {
         "b": 0,
         "l": 0,
         "r": 0,
         "t": 0
        },
        "template": {
         "data": {
          "bar": [
           {
            "error_x": {
             "color": "#2a3f5f"
            },
            "error_y": {
             "color": "#2a3f5f"
            },
            "marker": {
             "line": {
              "color": "#E5ECF6",
              "width": 0.5
             },
             "pattern": {
              "fillmode": "overlay",
              "size": 10,
              "solidity": 0.2
             }
            },
            "type": "bar"
           }
          ],
          "barpolar": [
           {
            "marker": {
             "line": {
              "color": "#E5ECF6",
              "width": 0.5
             },
             "pattern": {
              "fillmode": "overlay",
              "size": 10,
              "solidity": 0.2
             }
            },
            "type": "barpolar"
           }
          ],
          "carpet": [
           {
            "aaxis": {
             "endlinecolor": "#2a3f5f",
             "gridcolor": "white",
             "linecolor": "white",
             "minorgridcolor": "white",
             "startlinecolor": "#2a3f5f"
            },
            "baxis": {
             "endlinecolor": "#2a3f5f",
             "gridcolor": "white",
             "linecolor": "white",
             "minorgridcolor": "white",
             "startlinecolor": "#2a3f5f"
            },
            "type": "carpet"
           }
          ],
          "choropleth": [
           {
            "colorbar": {
             "outlinewidth": 0,
             "ticks": ""
            },
            "type": "choropleth"
           }
          ],
          "contour": [
           {
            "colorbar": {
             "outlinewidth": 0,
             "ticks": ""
            },
            "colorscale": [
             [
              0,
              "#0d0887"
             ],
             [
              0.1111111111111111,
              "#46039f"
             ],
             [
              0.2222222222222222,
              "#7201a8"
             ],
             [
              0.3333333333333333,
              "#9c179e"
             ],
             [
              0.4444444444444444,
              "#bd3786"
             ],
             [
              0.5555555555555556,
              "#d8576b"
             ],
             [
              0.6666666666666666,
              "#ed7953"
             ],
             [
              0.7777777777777778,
              "#fb9f3a"
             ],
             [
              0.8888888888888888,
              "#fdca26"
             ],
             [
              1,
              "#f0f921"
             ]
            ],
            "type": "contour"
           }
          ],
          "contourcarpet": [
           {
            "colorbar": {
             "outlinewidth": 0,
             "ticks": ""
            },
            "type": "contourcarpet"
           }
          ],
          "heatmap": [
           {
            "colorbar": {
             "outlinewidth": 0,
             "ticks": ""
            },
            "colorscale": [
             [
              0,
              "#0d0887"
             ],
             [
              0.1111111111111111,
              "#46039f"
             ],
             [
              0.2222222222222222,
              "#7201a8"
             ],
             [
              0.3333333333333333,
              "#9c179e"
             ],
             [
              0.4444444444444444,
              "#bd3786"
             ],
             [
              0.5555555555555556,
              "#d8576b"
             ],
             [
              0.6666666666666666,
              "#ed7953"
             ],
             [
              0.7777777777777778,
              "#fb9f3a"
             ],
             [
              0.8888888888888888,
              "#fdca26"
             ],
             [
              1,
              "#f0f921"
             ]
            ],
            "type": "heatmap"
           }
          ],
          "heatmapgl": [
           {
            "colorbar": {
             "outlinewidth": 0,
             "ticks": ""
            },
            "colorscale": [
             [
              0,
              "#0d0887"
             ],
             [
              0.1111111111111111,
              "#46039f"
             ],
             [
              0.2222222222222222,
              "#7201a8"
             ],
             [
              0.3333333333333333,
              "#9c179e"
             ],
             [
              0.4444444444444444,
              "#bd3786"
             ],
             [
              0.5555555555555556,
              "#d8576b"
             ],
             [
              0.6666666666666666,
              "#ed7953"
             ],
             [
              0.7777777777777778,
              "#fb9f3a"
             ],
             [
              0.8888888888888888,
              "#fdca26"
             ],
             [
              1,
              "#f0f921"
             ]
            ],
            "type": "heatmapgl"
           }
          ],
          "histogram": [
           {
            "marker": {
             "pattern": {
              "fillmode": "overlay",
              "size": 10,
              "solidity": 0.2
             }
            },
            "type": "histogram"
           }
          ],
          "histogram2d": [
           {
            "colorbar": {
             "outlinewidth": 0,
             "ticks": ""
            },
            "colorscale": [
             [
              0,
              "#0d0887"
             ],
             [
              0.1111111111111111,
              "#46039f"
             ],
             [
              0.2222222222222222,
              "#7201a8"
             ],
             [
              0.3333333333333333,
              "#9c179e"
             ],
             [
              0.4444444444444444,
              "#bd3786"
             ],
             [
              0.5555555555555556,
              "#d8576b"
             ],
             [
              0.6666666666666666,
              "#ed7953"
             ],
             [
              0.7777777777777778,
              "#fb9f3a"
             ],
             [
              0.8888888888888888,
              "#fdca26"
             ],
             [
              1,
              "#f0f921"
             ]
            ],
            "type": "histogram2d"
           }
          ],
          "histogram2dcontour": [
           {
            "colorbar": {
             "outlinewidth": 0,
             "ticks": ""
            },
            "colorscale": [
             [
              0,
              "#0d0887"
             ],
             [
              0.1111111111111111,
              "#46039f"
             ],
             [
              0.2222222222222222,
              "#7201a8"
             ],
             [
              0.3333333333333333,
              "#9c179e"
             ],
             [
              0.4444444444444444,
              "#bd3786"
             ],
             [
              0.5555555555555556,
              "#d8576b"
             ],
             [
              0.6666666666666666,
              "#ed7953"
             ],
             [
              0.7777777777777778,
              "#fb9f3a"
             ],
             [
              0.8888888888888888,
              "#fdca26"
             ],
             [
              1,
              "#f0f921"
             ]
            ],
            "type": "histogram2dcontour"
           }
          ],
          "mesh3d": [
           {
            "colorbar": {
             "outlinewidth": 0,
             "ticks": ""
            },
            "type": "mesh3d"
           }
          ],
          "parcoords": [
           {
            "line": {
             "colorbar": {
              "outlinewidth": 0,
              "ticks": ""
             }
            },
            "type": "parcoords"
           }
          ],
          "pie": [
           {
            "automargin": true,
            "type": "pie"
           }
          ],
          "scatter": [
           {
            "fillpattern": {
             "fillmode": "overlay",
             "size": 10,
             "solidity": 0.2
            },
            "type": "scatter"
           }
          ],
          "scatter3d": [
           {
            "line": {
             "colorbar": {
              "outlinewidth": 0,
              "ticks": ""
             }
            },
            "marker": {
             "colorbar": {
              "outlinewidth": 0,
              "ticks": ""
             }
            },
            "type": "scatter3d"
           }
          ],
          "scattercarpet": [
           {
            "marker": {
             "colorbar": {
              "outlinewidth": 0,
              "ticks": ""
             }
            },
            "type": "scattercarpet"
           }
          ],
          "scattergeo": [
           {
            "marker": {
             "colorbar": {
              "outlinewidth": 0,
              "ticks": ""
             }
            },
            "type": "scattergeo"
           }
          ],
          "scattergl": [
           {
            "marker": {
             "colorbar": {
              "outlinewidth": 0,
              "ticks": ""
             }
            },
            "type": "scattergl"
           }
          ],
          "scattermapbox": [
           {
            "marker": {
             "colorbar": {
              "outlinewidth": 0,
              "ticks": ""
             }
            },
            "type": "scattermapbox"
           }
          ],
          "scatterpolar": [
           {
            "marker": {
             "colorbar": {
              "outlinewidth": 0,
              "ticks": ""
             }
            },
            "type": "scatterpolar"
           }
          ],
          "scatterpolargl": [
           {
            "marker": {
             "colorbar": {
              "outlinewidth": 0,
              "ticks": ""
             }
            },
            "type": "scatterpolargl"
           }
          ],
          "scatterternary": [
           {
            "marker": {
             "colorbar": {
              "outlinewidth": 0,
              "ticks": ""
             }
            },
            "type": "scatterternary"
           }
          ],
          "surface": [
           {
            "colorbar": {
             "outlinewidth": 0,
             "ticks": ""
            },
            "colorscale": [
             [
              0,
              "#0d0887"
             ],
             [
              0.1111111111111111,
              "#46039f"
             ],
             [
              0.2222222222222222,
              "#7201a8"
             ],
             [
              0.3333333333333333,
              "#9c179e"
             ],
             [
              0.4444444444444444,
              "#bd3786"
             ],
             [
              0.5555555555555556,
              "#d8576b"
             ],
             [
              0.6666666666666666,
              "#ed7953"
             ],
             [
              0.7777777777777778,
              "#fb9f3a"
             ],
             [
              0.8888888888888888,
              "#fdca26"
             ],
             [
              1,
              "#f0f921"
             ]
            ],
            "type": "surface"
           }
          ],
          "table": [
           {
            "cells": {
             "fill": {
              "color": "#EBF0F8"
             },
             "line": {
              "color": "white"
             }
            },
            "header": {
             "fill": {
              "color": "#C8D4E3"
             },
             "line": {
              "color": "white"
             }
            },
            "type": "table"
           }
          ]
         },
         "layout": {
          "annotationdefaults": {
           "arrowcolor": "#2a3f5f",
           "arrowhead": 0,
           "arrowwidth": 1
          },
          "autotypenumbers": "strict",
          "coloraxis": {
           "colorbar": {
            "outlinewidth": 0,
            "ticks": ""
           }
          },
          "colorscale": {
           "diverging": [
            [
             0,
             "#8e0152"
            ],
            [
             0.1,
             "#c51b7d"
            ],
            [
             0.2,
             "#de77ae"
            ],
            [
             0.3,
             "#f1b6da"
            ],
            [
             0.4,
             "#fde0ef"
            ],
            [
             0.5,
             "#f7f7f7"
            ],
            [
             0.6,
             "#e6f5d0"
            ],
            [
             0.7,
             "#b8e186"
            ],
            [
             0.8,
             "#7fbc41"
            ],
            [
             0.9,
             "#4d9221"
            ],
            [
             1,
             "#276419"
            ]
           ],
           "sequential": [
            [
             0,
             "#0d0887"
            ],
            [
             0.1111111111111111,
             "#46039f"
            ],
            [
             0.2222222222222222,
             "#7201a8"
            ],
            [
             0.3333333333333333,
             "#9c179e"
            ],
            [
             0.4444444444444444,
             "#bd3786"
            ],
            [
             0.5555555555555556,
             "#d8576b"
            ],
            [
             0.6666666666666666,
             "#ed7953"
            ],
            [
             0.7777777777777778,
             "#fb9f3a"
            ],
            [
             0.8888888888888888,
             "#fdca26"
            ],
            [
             1,
             "#f0f921"
            ]
           ],
           "sequentialminus": [
            [
             0,
             "#0d0887"
            ],
            [
             0.1111111111111111,
             "#46039f"
            ],
            [
             0.2222222222222222,
             "#7201a8"
            ],
            [
             0.3333333333333333,
             "#9c179e"
            ],
            [
             0.4444444444444444,
             "#bd3786"
            ],
            [
             0.5555555555555556,
             "#d8576b"
            ],
            [
             0.6666666666666666,
             "#ed7953"
            ],
            [
             0.7777777777777778,
             "#fb9f3a"
            ],
            [
             0.8888888888888888,
             "#fdca26"
            ],
            [
             1,
             "#f0f921"
            ]
           ]
          },
          "colorway": [
           "#636efa",
           "#EF553B",
           "#00cc96",
           "#ab63fa",
           "#FFA15A",
           "#19d3f3",
           "#FF6692",
           "#B6E880",
           "#FF97FF",
           "#FECB52"
          ],
          "font": {
           "color": "#2a3f5f"
          },
          "geo": {
           "bgcolor": "white",
           "lakecolor": "white",
           "landcolor": "#E5ECF6",
           "showlakes": true,
           "showland": true,
           "subunitcolor": "white"
          },
          "hoverlabel": {
           "align": "left"
          },
          "hovermode": "closest",
          "mapbox": {
           "style": "light"
          },
          "paper_bgcolor": "white",
          "plot_bgcolor": "#E5ECF6",
          "polar": {
           "angularaxis": {
            "gridcolor": "white",
            "linecolor": "white",
            "ticks": ""
           },
           "bgcolor": "#E5ECF6",
           "radialaxis": {
            "gridcolor": "white",
            "linecolor": "white",
            "ticks": ""
           }
          },
          "scene": {
           "xaxis": {
            "backgroundcolor": "#E5ECF6",
            "gridcolor": "white",
            "gridwidth": 2,
            "linecolor": "white",
            "showbackground": true,
            "ticks": "",
            "zerolinecolor": "white"
           },
           "yaxis": {
            "backgroundcolor": "#E5ECF6",
            "gridcolor": "white",
            "gridwidth": 2,
            "linecolor": "white",
            "showbackground": true,
            "ticks": "",
            "zerolinecolor": "white"
           },
           "zaxis": {
            "backgroundcolor": "#E5ECF6",
            "gridcolor": "white",
            "gridwidth": 2,
            "linecolor": "white",
            "showbackground": true,
            "ticks": "",
            "zerolinecolor": "white"
           }
          },
          "shapedefaults": {
           "line": {
            "color": "#2a3f5f"
           }
          },
          "ternary": {
           "aaxis": {
            "gridcolor": "white",
            "linecolor": "white",
            "ticks": ""
           },
           "baxis": {
            "gridcolor": "white",
            "linecolor": "white",
            "ticks": ""
           },
           "bgcolor": "#E5ECF6",
           "caxis": {
            "gridcolor": "white",
            "linecolor": "white",
            "ticks": ""
           }
          },
          "title": {
           "x": 0.05
          },
          "xaxis": {
           "automargin": true,
           "gridcolor": "white",
           "linecolor": "white",
           "ticks": "",
           "title": {
            "standoff": 15
           },
           "zerolinecolor": "white",
           "zerolinewidth": 2
          },
          "yaxis": {
           "automargin": true,
           "gridcolor": "white",
           "linecolor": "white",
           "ticks": "",
           "title": {
            "standoff": 15
           },
           "zerolinecolor": "white",
           "zerolinewidth": 2
          }
         }
        }
       }
      },
      "text/html": [
       "<div>                            <div id=\"f7e43dbc-55f4-4475-a2f3-05b85250b48c\" class=\"plotly-graph-div\" style=\"height:525px; width:100%;\"></div>            <script type=\"text/javascript\">                require([\"plotly\"], function(Plotly) {                    window.PLOTLYENV=window.PLOTLYENV || {};                                    if (document.getElementById(\"f7e43dbc-55f4-4475-a2f3-05b85250b48c\")) {                    Plotly.newPlot(                        \"f7e43dbc-55f4-4475-a2f3-05b85250b48c\",                        [{\"hovertemplate\":\"lat=%{lat}<br>lon=%{lon}<br>precip=%{marker.color}<extra></extra>\",\"lat\":[49.33153178029007,49.14811458069127,49.17999999999998,48.9286638237141,48.79617460399359,48.92845437219666,49.168084921119785,49.10199999999998,48.88999999999999,49.34962516285889,49.27999999999998,49.361527881829936,48.98961689994521,49.05999999999998,48.85038300216969,49.1003720034172,49.36040090324199,49.02808423726876,49.22400000000002,48.80038221439679,48.46038333771686,48.726,48.707,48.480383128646785,48.65038945994545,48.40846426834916,48.47900000000002,49.03600000000002,49.05100000000001,49.69885028132291,49.651150670197865,48.860766242365436,48.57808449249141,48.56153258096003,49.4015270296565,48.759000000000015,49.51923200851303,48.407094102914485,48.452,49.30847241436525,49.62115278358428,48.44846596801767,48.71924745292827,48.75,48.7207804506469,48.7584540411908,48.710386056436874,48.724000000000004,48.50148279456555,48.55700453273964,48.911165336466375,48.5880770641466,50.87,50.750378663779294,50.73115049375942,50.96000000000003,50.51153528659791,49.38114905605446,49.73299999999997,49.53923380136985,49.50923375763458,49.930766892721856,49.649999999999984,49.49153234387488,49.531151746787344,49.50961535243314,49.84000000000002,49.81500000000002,48.96146754497675,48.84000000000003,48.96297898631824,48.8597549720859,48.868000000000016,48.707,50.13846704849789,50.18776313852241,49.958864776708424,48.52654655423087,49.10799999999997],\"legendgroup\":\"\",\"lon\":[-0.4303829450725132,0.04075416772348914,-0.45846727798015324,-0.14933191185705316,-1.0356361958160623,-0.6911592208525017,0.2288509526718778,-0.7650000000000003,-0.38847511066064266,-0.7711245114233863,-0.5617284780874394,0.16885408862756338,-0.009616899945200477,-0.2315422897008287,-0.8996169978303077,0.5588839897484181,0.39120270972598065,1.2207663050924875,1.2800000000000002,1.4911466431903404,1.500383337716841,1.3870000000000002,1.1730000000000005,1.011149385940348,1.3700000000000008,1.558080335436485,-1.1299999999999992,-1.298000000000001,-1.0399999999999996,-1.2680838022048397,-1.4615342269305052,-1.5711493635481477,-1.469999999999999,-1.0988505642799653,-1.1692364851717463,-0.843,-1.508848012769537,-0.4407264742713701,-0.1829999999999999,1.8796181035913098,1.7903842611947556,0.11000000000000007,0.01037627353586693,-0.59,-0.26156090129379267,0.6615459588092271,0.2996139435631378,-0.73,-0.701112095924155,0.529251133184906,0.24805777255601025,0.668846238487945,1.5829999999999989,1.9088640086620907,1.6000000000000008,1.9584666301094442,1.6211514649484366,1.1807660373696254,1.5019999999999991,1.4400000000000004,1.7184675152691362,1.0896165536390692,0.8167087447068192,0.7703830859687179,0.09076783119156875,0.07038464756686746,1.1670000000000003,0.5679999999999997,1.9218344312209508,1.979618049367572,1.6729789863182656,1.6909801116564334,1.6730000000000005,1.745999999999999,1.831532951502104,1.5207456204925296,1.77,1.9940931084617626,1.8310000000000004],\"marker\":{\"color\":[716.9000000000001,569.5,693.7429238324969,711.5303654790621,1183.8586758511606,932.3260275534818,845.7,902.2780826604455,729.5500000000001,745.8108691700611,758.75,962.9561653208909,668.35,581.55,851.2086758511607,719.0303654790621,800.7808380086262,609.1084481395076,584.893379255803,571.1,658.7852158488087,655.7772237509053,583.4869919253451,726.0086758511607,653.35,571.7043379255804,932.8716896279016,987.7751167068695,380.11735170232123,758.6511288877532,852.5061653208909,754.5043379255803,714.9000000000001,861.5,827.1801377674092,1109.9954343627667,1044.5500000000002,845.1173517023212,820.8477171813834,619.949777990433,849.3150688837045,702.4627860650878,655.05,759.4954343627667,717.25,658.0255892364337,766.35,99.7,784.7586758511607,684.6045713393194,795.6086758511606,701.3641580370922,649.7803654790621,941.0504611253922,748.4424684091907,629.8257998418287,802.9563930325439,806.9885859069166,711.6867585116061,846.4543379255804,740.7,721.8929409387549,674.2342479813364,726.35,759.3351645300346,777.5235170232121,132.0,778.2020551069636,491.7630137767409,749.7063263411717,694.0433792558031,451.56301377674095,196.0173517023212,725.2454343627667,823.3392975523059,665.4931515441499,763.1,686.2168962790151,650.8563930325439],\"coloraxis\":\"coloraxis\",\"size\":12},\"mode\":\"markers\",\"name\":\"\",\"showlegend\":false,\"subplot\":\"mapbox\",\"type\":\"scattermapbox\"}],                        {\"template\":{\"data\":{\"histogram2dcontour\":[{\"type\":\"histogram2dcontour\",\"colorbar\":{\"outlinewidth\":0,\"ticks\":\"\"},\"colorscale\":[[0.0,\"#0d0887\"],[0.1111111111111111,\"#46039f\"],[0.2222222222222222,\"#7201a8\"],[0.3333333333333333,\"#9c179e\"],[0.4444444444444444,\"#bd3786\"],[0.5555555555555556,\"#d8576b\"],[0.6666666666666666,\"#ed7953\"],[0.7777777777777778,\"#fb9f3a\"],[0.8888888888888888,\"#fdca26\"],[1.0,\"#f0f921\"]]}],\"choropleth\":[{\"type\":\"choropleth\",\"colorbar\":{\"outlinewidth\":0,\"ticks\":\"\"}}],\"histogram2d\":[{\"type\":\"histogram2d\",\"colorbar\":{\"outlinewidth\":0,\"ticks\":\"\"},\"colorscale\":[[0.0,\"#0d0887\"],[0.1111111111111111,\"#46039f\"],[0.2222222222222222,\"#7201a8\"],[0.3333333333333333,\"#9c179e\"],[0.4444444444444444,\"#bd3786\"],[0.5555555555555556,\"#d8576b\"],[0.6666666666666666,\"#ed7953\"],[0.7777777777777778,\"#fb9f3a\"],[0.8888888888888888,\"#fdca26\"],[1.0,\"#f0f921\"]]}],\"heatmap\":[{\"type\":\"heatmap\",\"colorbar\":{\"outlinewidth\":0,\"ticks\":\"\"},\"colorscale\":[[0.0,\"#0d0887\"],[0.1111111111111111,\"#46039f\"],[0.2222222222222222,\"#7201a8\"],[0.3333333333333333,\"#9c179e\"],[0.4444444444444444,\"#bd3786\"],[0.5555555555555556,\"#d8576b\"],[0.6666666666666666,\"#ed7953\"],[0.7777777777777778,\"#fb9f3a\"],[0.8888888888888888,\"#fdca26\"],[1.0,\"#f0f921\"]]}],\"heatmapgl\":[{\"type\":\"heatmapgl\",\"colorbar\":{\"outlinewidth\":0,\"ticks\":\"\"},\"colorscale\":[[0.0,\"#0d0887\"],[0.1111111111111111,\"#46039f\"],[0.2222222222222222,\"#7201a8\"],[0.3333333333333333,\"#9c179e\"],[0.4444444444444444,\"#bd3786\"],[0.5555555555555556,\"#d8576b\"],[0.6666666666666666,\"#ed7953\"],[0.7777777777777778,\"#fb9f3a\"],[0.8888888888888888,\"#fdca26\"],[1.0,\"#f0f921\"]]}],\"contourcarpet\":[{\"type\":\"contourcarpet\",\"colorbar\":{\"outlinewidth\":0,\"ticks\":\"\"}}],\"contour\":[{\"type\":\"contour\",\"colorbar\":{\"outlinewidth\":0,\"ticks\":\"\"},\"colorscale\":[[0.0,\"#0d0887\"],[0.1111111111111111,\"#46039f\"],[0.2222222222222222,\"#7201a8\"],[0.3333333333333333,\"#9c179e\"],[0.4444444444444444,\"#bd3786\"],[0.5555555555555556,\"#d8576b\"],[0.6666666666666666,\"#ed7953\"],[0.7777777777777778,\"#fb9f3a\"],[0.8888888888888888,\"#fdca26\"],[1.0,\"#f0f921\"]]}],\"surface\":[{\"type\":\"surface\",\"colorbar\":{\"outlinewidth\":0,\"ticks\":\"\"},\"colorscale\":[[0.0,\"#0d0887\"],[0.1111111111111111,\"#46039f\"],[0.2222222222222222,\"#7201a8\"],[0.3333333333333333,\"#9c179e\"],[0.4444444444444444,\"#bd3786\"],[0.5555555555555556,\"#d8576b\"],[0.6666666666666666,\"#ed7953\"],[0.7777777777777778,\"#fb9f3a\"],[0.8888888888888888,\"#fdca26\"],[1.0,\"#f0f921\"]]}],\"mesh3d\":[{\"type\":\"mesh3d\",\"colorbar\":{\"outlinewidth\":0,\"ticks\":\"\"}}],\"scatter\":[{\"fillpattern\":{\"fillmode\":\"overlay\",\"size\":10,\"solidity\":0.2},\"type\":\"scatter\"}],\"parcoords\":[{\"type\":\"parcoords\",\"line\":{\"colorbar\":{\"outlinewidth\":0,\"ticks\":\"\"}}}],\"scatterpolargl\":[{\"type\":\"scatterpolargl\",\"marker\":{\"colorbar\":{\"outlinewidth\":0,\"ticks\":\"\"}}}],\"bar\":[{\"error_x\":{\"color\":\"#2a3f5f\"},\"error_y\":{\"color\":\"#2a3f5f\"},\"marker\":{\"line\":{\"color\":\"#E5ECF6\",\"width\":0.5},\"pattern\":{\"fillmode\":\"overlay\",\"size\":10,\"solidity\":0.2}},\"type\":\"bar\"}],\"scattergeo\":[{\"type\":\"scattergeo\",\"marker\":{\"colorbar\":{\"outlinewidth\":0,\"ticks\":\"\"}}}],\"scatterpolar\":[{\"type\":\"scatterpolar\",\"marker\":{\"colorbar\":{\"outlinewidth\":0,\"ticks\":\"\"}}}],\"histogram\":[{\"marker\":{\"pattern\":{\"fillmode\":\"overlay\",\"size\":10,\"solidity\":0.2}},\"type\":\"histogram\"}],\"scattergl\":[{\"type\":\"scattergl\",\"marker\":{\"colorbar\":{\"outlinewidth\":0,\"ticks\":\"\"}}}],\"scatter3d\":[{\"type\":\"scatter3d\",\"line\":{\"colorbar\":{\"outlinewidth\":0,\"ticks\":\"\"}},\"marker\":{\"colorbar\":{\"outlinewidth\":0,\"ticks\":\"\"}}}],\"scattermapbox\":[{\"type\":\"scattermapbox\",\"marker\":{\"colorbar\":{\"outlinewidth\":0,\"ticks\":\"\"}}}],\"scatterternary\":[{\"type\":\"scatterternary\",\"marker\":{\"colorbar\":{\"outlinewidth\":0,\"ticks\":\"\"}}}],\"scattercarpet\":[{\"type\":\"scattercarpet\",\"marker\":{\"colorbar\":{\"outlinewidth\":0,\"ticks\":\"\"}}}],\"carpet\":[{\"aaxis\":{\"endlinecolor\":\"#2a3f5f\",\"gridcolor\":\"white\",\"linecolor\":\"white\",\"minorgridcolor\":\"white\",\"startlinecolor\":\"#2a3f5f\"},\"baxis\":{\"endlinecolor\":\"#2a3f5f\",\"gridcolor\":\"white\",\"linecolor\":\"white\",\"minorgridcolor\":\"white\",\"startlinecolor\":\"#2a3f5f\"},\"type\":\"carpet\"}],\"table\":[{\"cells\":{\"fill\":{\"color\":\"#EBF0F8\"},\"line\":{\"color\":\"white\"}},\"header\":{\"fill\":{\"color\":\"#C8D4E3\"},\"line\":{\"color\":\"white\"}},\"type\":\"table\"}],\"barpolar\":[{\"marker\":{\"line\":{\"color\":\"#E5ECF6\",\"width\":0.5},\"pattern\":{\"fillmode\":\"overlay\",\"size\":10,\"solidity\":0.2}},\"type\":\"barpolar\"}],\"pie\":[{\"automargin\":true,\"type\":\"pie\"}]},\"layout\":{\"autotypenumbers\":\"strict\",\"colorway\":[\"#636efa\",\"#EF553B\",\"#00cc96\",\"#ab63fa\",\"#FFA15A\",\"#19d3f3\",\"#FF6692\",\"#B6E880\",\"#FF97FF\",\"#FECB52\"],\"font\":{\"color\":\"#2a3f5f\"},\"hovermode\":\"closest\",\"hoverlabel\":{\"align\":\"left\"},\"paper_bgcolor\":\"white\",\"plot_bgcolor\":\"#E5ECF6\",\"polar\":{\"bgcolor\":\"#E5ECF6\",\"angularaxis\":{\"gridcolor\":\"white\",\"linecolor\":\"white\",\"ticks\":\"\"},\"radialaxis\":{\"gridcolor\":\"white\",\"linecolor\":\"white\",\"ticks\":\"\"}},\"ternary\":{\"bgcolor\":\"#E5ECF6\",\"aaxis\":{\"gridcolor\":\"white\",\"linecolor\":\"white\",\"ticks\":\"\"},\"baxis\":{\"gridcolor\":\"white\",\"linecolor\":\"white\",\"ticks\":\"\"},\"caxis\":{\"gridcolor\":\"white\",\"linecolor\":\"white\",\"ticks\":\"\"}},\"coloraxis\":{\"colorbar\":{\"outlinewidth\":0,\"ticks\":\"\"}},\"colorscale\":{\"sequential\":[[0.0,\"#0d0887\"],[0.1111111111111111,\"#46039f\"],[0.2222222222222222,\"#7201a8\"],[0.3333333333333333,\"#9c179e\"],[0.4444444444444444,\"#bd3786\"],[0.5555555555555556,\"#d8576b\"],[0.6666666666666666,\"#ed7953\"],[0.7777777777777778,\"#fb9f3a\"],[0.8888888888888888,\"#fdca26\"],[1.0,\"#f0f921\"]],\"sequentialminus\":[[0.0,\"#0d0887\"],[0.1111111111111111,\"#46039f\"],[0.2222222222222222,\"#7201a8\"],[0.3333333333333333,\"#9c179e\"],[0.4444444444444444,\"#bd3786\"],[0.5555555555555556,\"#d8576b\"],[0.6666666666666666,\"#ed7953\"],[0.7777777777777778,\"#fb9f3a\"],[0.8888888888888888,\"#fdca26\"],[1.0,\"#f0f921\"]],\"diverging\":[[0,\"#8e0152\"],[0.1,\"#c51b7d\"],[0.2,\"#de77ae\"],[0.3,\"#f1b6da\"],[0.4,\"#fde0ef\"],[0.5,\"#f7f7f7\"],[0.6,\"#e6f5d0\"],[0.7,\"#b8e186\"],[0.8,\"#7fbc41\"],[0.9,\"#4d9221\"],[1,\"#276419\"]]},\"xaxis\":{\"gridcolor\":\"white\",\"linecolor\":\"white\",\"ticks\":\"\",\"title\":{\"standoff\":15},\"zerolinecolor\":\"white\",\"automargin\":true,\"zerolinewidth\":2},\"yaxis\":{\"gridcolor\":\"white\",\"linecolor\":\"white\",\"ticks\":\"\",\"title\":{\"standoff\":15},\"zerolinecolor\":\"white\",\"automargin\":true,\"zerolinewidth\":2},\"scene\":{\"xaxis\":{\"backgroundcolor\":\"#E5ECF6\",\"gridcolor\":\"white\",\"linecolor\":\"white\",\"showbackground\":true,\"ticks\":\"\",\"zerolinecolor\":\"white\",\"gridwidth\":2},\"yaxis\":{\"backgroundcolor\":\"#E5ECF6\",\"gridcolor\":\"white\",\"linecolor\":\"white\",\"showbackground\":true,\"ticks\":\"\",\"zerolinecolor\":\"white\",\"gridwidth\":2},\"zaxis\":{\"backgroundcolor\":\"#E5ECF6\",\"gridcolor\":\"white\",\"linecolor\":\"white\",\"showbackground\":true,\"ticks\":\"\",\"zerolinecolor\":\"white\",\"gridwidth\":2}},\"shapedefaults\":{\"line\":{\"color\":\"#2a3f5f\"}},\"annotationdefaults\":{\"arrowcolor\":\"#2a3f5f\",\"arrowhead\":0,\"arrowwidth\":1},\"geo\":{\"bgcolor\":\"white\",\"landcolor\":\"#E5ECF6\",\"subunitcolor\":\"white\",\"showland\":true,\"showlakes\":true,\"lakecolor\":\"white\"},\"title\":{\"x\":0.05},\"mapbox\":{\"style\":\"light\"}}},\"mapbox\":{\"domain\":{\"x\":[0.0,1.0],\"y\":[0.0,1.0]},\"center\":{\"lat\":49.17666523166652,\"lon\":0.44478407105858536},\"zoom\":6,\"style\":\"carto-darkmatter\"},\"coloraxis\":{\"colorbar\":{\"title\":{\"text\":\"precip\"}},\"colorscale\":[[0.0,\"rgb(255,255,217)\"],[0.125,\"rgb(237,248,177)\"],[0.25,\"rgb(199,233,180)\"],[0.375,\"rgb(127,205,187)\"],[0.5,\"rgb(65,182,196)\"],[0.625,\"rgb(29,145,192)\"],[0.75,\"rgb(34,94,168)\"],[0.875,\"rgb(37,52,148)\"],[1.0,\"rgb(8,29,88)\"]]},\"legend\":{\"tracegroupgap\":0},\"margin\":{\"t\":0,\"r\":0,\"l\":0,\"b\":0}},                        {\"responsive\": true}                    ).then(function(){\n",
       "                            \n",
       "var gd = document.getElementById('f7e43dbc-55f4-4475-a2f3-05b85250b48c');\n",
       "var x = new MutationObserver(function (mutations, observer) {{\n",
       "        var display = window.getComputedStyle(gd).display;\n",
       "        if (!display || display === 'none') {{\n",
       "            console.log([gd, 'removed!']);\n",
       "            Plotly.purge(gd);\n",
       "            observer.disconnect();\n",
       "        }}\n",
       "}});\n",
       "\n",
       "// Listen for the removal of the full notebook cells\n",
       "var notebookContainer = gd.closest('#notebook-container');\n",
       "if (notebookContainer) {{\n",
       "    x.observe(notebookContainer, {childList: true});\n",
       "}}\n",
       "\n",
       "// Listen for the clearing of the current output cell\n",
       "var outputEl = gd.closest('.output');\n",
       "if (outputEl) {{\n",
       "    x.observe(outputEl, {childList: true});\n",
       "}}\n",
       "\n",
       "                        })                };                });            </script>        </div>"
      ]
     },
     "metadata": {},
     "output_type": "display_data"
    }
   ],
   "source": [
    "annual_rainfall = weather_data.groupby([weather_data['date'].dt.year,'number_sta'])['precip'].sum()\n",
    "annual_rainfall = annual_rainfall.reset_index(1).groupby('number_sta')['precip'].mean()\n",
    "df = pd.DataFrame(annual_rainfall)\n",
    "df['lat'] = [stations[_][0] for _ in df.index]\n",
    "df['lon'] = [stations[_][1] for _ in df.index]\n",
    "fig = px.scatter_mapbox(\n",
    "    df, lat='lat', lon='lon',\n",
    "    zoom = 6,\n",
    "    color = 'precip',\n",
    "    color_continuous_scale=px.colors.sequential.YlGnBu\n",
    ")\n",
    "\n",
    "print('Average annual precipitation in mm')\n",
    "fig.update_layout(mapbox_style=\"carto-darkmatter\")\n",
    "fig.update_layout(margin={\"r\":0,\"t\":0,\"l\":0,\"b\":0})\n",
    "fig.update_traces(marker_size=12)\n",
    "fig.show()"
   ]
  },
  {
   "cell_type": "code",
   "execution_count": 30,
   "id": "8cd8261c",
   "metadata": {},
   "outputs": [
    {
     "data": {
      "image/png": "[encoded data removed]",
      "text/plain": [
       "<Figure size 800x800 with 3 Axes>"
      ]
     },
     "metadata": {},
     "output_type": "display_data"
    }
   ],
   "source": [
    "df = df.reset_index(0)\n",
    "df['height_sta'] = [weather_data.loc[weather_data['number_sta'] == _,'height_sta'].values[0] for _ in df['number_sta']]\n",
    "df['Atm. pressure'] = [weather_data.loc[weather_data['number_sta'] == _,'psl'].values[0] for _ in df['number_sta']]\n",
    "df['ff'] = weather_data.groupby([weather_data['date'].dt.year,'number_sta'])['ff'].mean().groupby('number_sta').mean().values\n",
    "features = ['height_sta','Atm. pressure', 'ff']\n",
    "\n",
    "fig, axs = plt.subplots(2,2, sharey = True, figsize = [8,8])\n",
    "for ax,i in zip(axs.flatten(),features) :\n",
    "    sns.scatterplot(df, x = i, y = 'precip', ax = ax)\n",
    "plt.delaxes(axs[1,1])"
   ]
  },
  {
   "cell_type": "code",
   "execution_count": 31,
   "id": "5f5b6667",
   "metadata": {},
   "outputs": [
    {
     "data": {
      "text/html": [
       "<style type=\"text/css\">\n",
       "#T_f0338_row0_col0, #T_f0338_row0_col2, #T_f0338_row0_col3, #T_f0338_row1_col1, #T_f0338_row2_col0, #T_f0338_row2_col2, #T_f0338_row2_col3, #T_f0338_row3_col0, #T_f0338_row3_col2, #T_f0338_row3_col3 {\n",
       "  color: black;\n",
       "}\n",
       "#T_f0338_row0_col1, #T_f0338_row1_col0, #T_f0338_row1_col2, #T_f0338_row1_col3, #T_f0338_row2_col1, #T_f0338_row3_col1 {\n",
       "  color: red;\n",
       "}\n",
       "</style>\n",
       "<table id=\"T_f0338\">\n",
       "  <thead>\n",
       "    <tr>\n",
       "      <th class=\"blank level0\" >&nbsp;</th>\n",
       "      <th id=\"T_f0338_level0_col0\" class=\"col_heading level0 col0\" >precip</th>\n",
       "      <th id=\"T_f0338_level0_col1\" class=\"col_heading level0 col1\" >height_sta</th>\n",
       "      <th id=\"T_f0338_level0_col2\" class=\"col_heading level0 col2\" >Atm. pressure</th>\n",
       "      <th id=\"T_f0338_level0_col3\" class=\"col_heading level0 col3\" >ff</th>\n",
       "    </tr>\n",
       "  </thead>\n",
       "  <tbody>\n",
       "    <tr>\n",
       "      <th id=\"T_f0338_level0_row0\" class=\"row_heading level0 row0\" >precip</th>\n",
       "      <td id=\"T_f0338_row0_col0\" class=\"data row0 col0\" >1.000000</td>\n",
       "      <td id=\"T_f0338_row0_col1\" class=\"data row0 col1\" >0.206452</td>\n",
       "      <td id=\"T_f0338_row0_col2\" class=\"data row0 col2\" >0.064526</td>\n",
       "      <td id=\"T_f0338_row0_col3\" class=\"data row0 col3\" >-0.004665</td>\n",
       "    </tr>\n",
       "    <tr>\n",
       "      <th id=\"T_f0338_level0_row1\" class=\"row_heading level0 row1\" >height_sta</th>\n",
       "      <td id=\"T_f0338_row1_col0\" class=\"data row1 col0\" >0.206452</td>\n",
       "      <td id=\"T_f0338_row1_col1\" class=\"data row1 col1\" >1.000000</td>\n",
       "      <td id=\"T_f0338_row1_col2\" class=\"data row1 col2\" >-0.150925</td>\n",
       "      <td id=\"T_f0338_row1_col3\" class=\"data row1 col3\" >-0.227349</td>\n",
       "    </tr>\n",
       "    <tr>\n",
       "      <th id=\"T_f0338_level0_row2\" class=\"row_heading level0 row2\" >Atm. pressure</th>\n",
       "      <td id=\"T_f0338_row2_col0\" class=\"data row2 col0\" >0.064526</td>\n",
       "      <td id=\"T_f0338_row2_col1\" class=\"data row2 col1\" >-0.150925</td>\n",
       "      <td id=\"T_f0338_row2_col2\" class=\"data row2 col2\" >1.000000</td>\n",
       "      <td id=\"T_f0338_row2_col3\" class=\"data row2 col3\" >0.096669</td>\n",
       "    </tr>\n",
       "    <tr>\n",
       "      <th id=\"T_f0338_level0_row3\" class=\"row_heading level0 row3\" >ff</th>\n",
       "      <td id=\"T_f0338_row3_col0\" class=\"data row3 col0\" >-0.004665</td>\n",
       "      <td id=\"T_f0338_row3_col1\" class=\"data row3 col1\" >-0.227349</td>\n",
       "      <td id=\"T_f0338_row3_col2\" class=\"data row3 col2\" >0.096669</td>\n",
       "      <td id=\"T_f0338_row3_col3\" class=\"data row3 col3\" >1.000000</td>\n",
       "    </tr>\n",
       "  </tbody>\n",
       "</table>\n"
      ],
      "text/plain": [
       "<pandas.io.formats.style.Styler at 0x135f4c7d0>"
      ]
     },
     "execution_count": 31,
     "metadata": {},
     "output_type": "execute_result"
    }
   ],
   "source": [
    "def color_strong_corr(val):\n",
    "    color = 'red' if (abs(val) > 0.1) & (abs(val) <1.0) else 'black'\n",
    "    return 'color: %s' % color\n",
    "df[['precip','height_sta','Atm. pressure','ff']].corr().\\\n",
    "    style.applymap(color_strong_corr)"
   ]
  },
  {
   "cell_type": "code",
   "execution_count": 36,
   "id": "f6c9f77f",
   "metadata": {},
   "outputs": [
    {
     "data": {
      "application/vnd.plotly.v1+json": {
       "config": {
        "plotlyServerURL": "https://plot.ly"
       },
       "data": [
        {
         "hovertemplate": "variable=t<br>date=%{x}<br>value=%{y}<extra></extra>",
         "legendgroup": "t",
         "line": {
          "color": "#636efa",
          "dash": "solid"
         },
         "marker": {
          "symbol": "circle"
         },
         "mode": "lines",
         "name": "t",
         "showlegend": true,
         "type": "scattergl",
         "x": [
          "2017-01-01T00:00:00",
          "2017-01-02T00:00:00",
          "2017-01-03T00:00:00",
          "2017-01-04T00:00:00",
          "2017-01-05T00:00:00",
          "2017-01-06T00:00:00",
          "2017-01-07T00:00:00",
          "2017-01-08T00:00:00",
          "2017-01-09T00:00:00",
          "2017-01-10T00:00:00",
          "2017-01-11T00:00:00",
          "2017-01-12T00:00:00",
          "2017-01-13T00:00:00",
          "2017-01-14T00:00:00",
          "2017-01-15T00:00:00",
          "2017-01-16T00:00:00",
          "2017-01-17T00:00:00",
          "2017-01-18T00:00:00",
          "2017-01-19T00:00:00",
          "2017-01-20T00:00:00",
          "2017-01-21T00:00:00",
          "2017-01-22T00:00:00",
          "2017-01-23T00:00:00",
          "2017-01-24T00:00:00",
          "2017-01-25T00:00:00",
          "2017-01-26T00:00:00",
          "2017-01-27T00:00:00",
          "2017-01-28T00:00:00",
          "2017-01-29T00:00:00",
          "2017-01-30T00:00:00",
          "2017-01-31T00:00:00",
          "2017-02-01T00:00:00",
          "2017-02-02T00:00:00",
          "2017-02-03T00:00:00",
          "2017-02-04T00:00:00",
          "2017-02-05T00:00:00",
          "2017-02-06T00:00:00",
          "2017-02-07T00:00:00",
          "2017-02-08T00:00:00",
          "2017-02-09T00:00:00",
          "2017-02-10T00:00:00",
          "2017-02-11T00:00:00",
          "2017-02-12T00:00:00",
          "2017-02-13T00:00:00",
          "2017-02-14T00:00:00",
          "2017-02-15T00:00:00",
          "2017-02-16T00:00:00",
          "2017-02-17T00:00:00",
          "2017-02-18T00:00:00",
          "2017-02-19T00:00:00",
          "2017-02-20T00:00:00",
          "2017-02-21T00:00:00",
          "2017-02-22T00:00:00",
          "2017-02-23T00:00:00",
          "2017-02-24T00:00:00",
          "2017-02-25T00:00:00",
          "2017-02-26T00:00:00",
          "2017-02-27T00:00:00",
          "2017-02-28T00:00:00",
          "2017-03-01T00:00:00",
          "2017-03-02T00:00:00",
          "2017-03-03T00:00:00",
          "2017-03-04T00:00:00",
          "2017-03-05T00:00:00",
          "2017-03-06T00:00:00",
          "2017-03-07T00:00:00",
          "2017-03-08T00:00:00",
          "2017-03-09T00:00:00",
          "2017-03-10T00:00:00",
          "2017-03-11T00:00:00",
          "2017-03-12T00:00:00",
          "2017-03-13T00:00:00",
          "2017-03-14T00:00:00",
          "2017-03-15T00:00:00",
          "2017-03-16T00:00:00",
          "2017-03-17T00:00:00",
          "2017-03-18T00:00:00",
          "2017-03-19T00:00:00",
          "2017-03-20T00:00:00",
          "2017-03-21T00:00:00",
          "2017-03-22T00:00:00",
          "2017-03-23T00:00:00",
          "2017-03-24T00:00:00",
          "2017-03-25T00:00:00",
          "2017-03-26T00:00:00",
          "2017-03-27T00:00:00",
          "2017-03-28T00:00:00",
          "2017-03-29T00:00:00",
          "2017-03-30T00:00:00",
          "2017-03-31T00:00:00",
          "2017-04-01T00:00:00",
          "2017-04-02T00:00:00",
          "2017-04-03T00:00:00",
          "2017-04-04T00:00:00",
          "2017-04-05T00:00:00",
          "2017-04-06T00:00:00",
          "2017-04-07T00:00:00",
          "2017-04-08T00:00:00",
          "2017-04-09T00:00:00",
          "2017-04-10T00:00:00",
          "2017-04-11T00:00:00",
          "2017-04-12T00:00:00",
          "2017-04-13T00:00:00",
          "2017-04-14T00:00:00",
          "2017-04-15T00:00:00",
          "2017-04-16T00:00:00",
          "2017-04-17T00:00:00",
          "2017-04-18T00:00:00",
          "2017-04-19T00:00:00",
          "2017-04-20T00:00:00",
          "2017-04-21T00:00:00",
          "2017-04-22T00:00:00",
          "2017-04-23T00:00:00",
          "2017-04-24T00:00:00",
          "2017-04-25T00:00:00",
          "2017-04-26T00:00:00",
          "2017-04-27T00:00:00",
          "2017-04-28T00:00:00",
          "2017-04-29T00:00:00",
          "2017-04-30T00:00:00",
          "2017-05-01T00:00:00",
          "2017-05-02T00:00:00",
          "2017-05-03T00:00:00",
          "2017-05-04T00:00:00",
          "2017-05-05T00:00:00",
          "2017-05-06T00:00:00",
          "2017-05-07T00:00:00",
          "2017-05-08T00:00:00",
          "2017-05-09T00:00:00",
          "2017-05-10T00:00:00",
          "2017-05-11T00:00:00",
          "2017-05-12T00:00:00",
          "2017-05-13T00:00:00",
          "2017-05-14T00:00:00",
          "2017-05-15T00:00:00",
          "2017-05-16T00:00:00",
          "2017-05-17T00:00:00",
          "2017-05-18T00:00:00",
          "2017-05-19T00:00:00",
          "2017-05-20T00:00:00",
          "2017-05-21T00:00:00",
          "2017-05-22T00:00:00",
          "2017-05-23T00:00:00",
          "2017-05-24T00:00:00",
          "2017-05-25T00:00:00",
          "2017-05-26T00:00:00",
          "2017-05-27T00:00:00",
          "2017-05-28T00:00:00",
          "2017-05-29T00:00:00",
          "2017-05-30T00:00:00",
          "2017-05-31T00:00:00",
          "2017-06-01T00:00:00",
          "2017-06-02T00:00:00",
          "2017-06-03T00:00:00",
          "2017-06-04T00:00:00",
          "2017-06-05T00:00:00",
          "2017-06-06T00:00:00",
          "2017-06-07T00:00:00",
          "2017-06-08T00:00:00",
          "2017-06-09T00:00:00",
          "2017-06-10T00:00:00",
          "2017-06-11T00:00:00",
          "2017-06-12T00:00:00",
          "2017-06-13T00:00:00",
          "2017-06-14T00:00:00",
          "2017-06-15T00:00:00",
          "2017-06-16T00:00:00",
          "2017-06-17T00:00:00",
          "2017-06-18T00:00:00",
          "2017-06-19T00:00:00",
          "2017-06-20T00:00:00",
          "2017-06-21T00:00:00",
          "2017-06-22T00:00:00",
          "2017-06-23T00:00:00",
          "2017-06-24T00:00:00",
          "2017-06-25T00:00:00",
          "2017-06-26T00:00:00",
          "2017-06-27T00:00:00",
          "2017-06-28T00:00:00",
          "2017-06-29T00:00:00",
          "2017-06-30T00:00:00",
          "2017-07-01T00:00:00",
          "2017-07-02T00:00:00",
          "2017-07-03T00:00:00",
          "2017-07-04T00:00:00",
          "2017-07-05T00:00:00",
          "2017-07-06T00:00:00",
          "2017-07-07T00:00:00",
          "2017-07-08T00:00:00",
          "2017-07-09T00:00:00",
          "2017-07-10T00:00:00",
          "2017-07-11T00:00:00",
          "2017-07-12T00:00:00",
          "2017-07-13T00:00:00",
          "2017-07-14T00:00:00",
          "2017-07-15T00:00:00",
          "2017-07-16T00:00:00",
          "2017-07-17T00:00:00",
          "2017-07-18T00:00:00",
          "2017-07-19T00:00:00",
          "2017-07-20T00:00:00",
          "2017-07-21T00:00:00",
          "2017-07-22T00:00:00",
          "2017-07-23T00:00:00",
          "2017-07-24T00:00:00",
          "2017-07-25T00:00:00",
          "2017-07-26T00:00:00",
          "2017-07-27T00:00:00",
          "2017-07-28T00:00:00",
          "2017-07-29T00:00:00",
          "2017-07-30T00:00:00",
          "2017-07-31T00:00:00",
          "2017-08-01T00:00:00",
          "2017-08-02T00:00:00",
          "2017-08-03T00:00:00",
          "2017-08-04T00:00:00",
          "2017-08-05T00:00:00",
          "2017-08-06T00:00:00",
          "2017-08-07T00:00:00",
          "2017-08-08T00:00:00",
          "2017-08-09T00:00:00",
          "2017-08-10T00:00:00",
          "2017-08-11T00:00:00",
          "2017-08-12T00:00:00",
          "2017-08-13T00:00:00",
          "2017-08-14T00:00:00",
          "2017-08-15T00:00:00",
          "2017-08-16T00:00:00",
          "2017-08-17T00:00:00",
          "2017-08-18T00:00:00",
          "2017-08-19T00:00:00",
          "2017-08-20T00:00:00",
          "2017-08-21T00:00:00",
          "2017-08-22T00:00:00",
          "2017-08-23T00:00:00",
          "2017-08-24T00:00:00",
          "2017-08-25T00:00:00",
          "2017-08-26T00:00:00",
          "2017-08-27T00:00:00",
          "2017-08-28T00:00:00",
          "2017-08-29T00:00:00",
          "2017-08-30T00:00:00",
          "2017-08-31T00:00:00",
          "2017-09-01T00:00:00",
          "2017-09-02T00:00:00",
          "2017-09-03T00:00:00",
          "2017-09-04T00:00:00",
          "2017-09-05T00:00:00",
          "2017-09-06T00:00:00",
          "2017-09-07T00:00:00",
          "2017-09-08T00:00:00",
          "2017-09-09T00:00:00",
          "2017-09-10T00:00:00",
          "2017-09-11T00:00:00",
          "2017-09-12T00:00:00",
          "2017-09-13T00:00:00",
          "2017-09-14T00:00:00",
          "2017-09-15T00:00:00",
          "2017-09-16T00:00:00",
          "2017-09-17T00:00:00",
          "2017-09-18T00:00:00",
          "2017-09-19T00:00:00",
          "2017-09-20T00:00:00",
          "2017-09-21T00:00:00",
          "2017-09-22T00:00:00",
          "2017-09-23T00:00:00",
          "2017-09-24T00:00:00",
          "2017-09-25T00:00:00",
          "2017-09-26T00:00:00",
          "2017-09-27T00:00:00",
          "2017-09-28T00:00:00",
          "2017-09-29T00:00:00",
          "2017-09-30T00:00:00",
          "2017-10-01T00:00:00",
          "2017-10-02T00:00:00",
          "2017-10-03T00:00:00",
          "2017-10-04T00:00:00",
          "2017-10-05T00:00:00",
          "2017-10-06T00:00:00",
          "2017-10-07T00:00:00",
          "2017-10-08T00:00:00",
          "2017-10-09T00:00:00",
          "2017-10-10T00:00:00",
          "2017-10-11T00:00:00",
          "2017-10-12T00:00:00",
          "2017-10-13T00:00:00",
          "2017-10-14T00:00:00",
          "2017-10-15T00:00:00",
          "2017-10-16T00:00:00",
          "2017-10-17T00:00:00",
          "2017-10-18T00:00:00",
          "2017-10-19T00:00:00",
          "2017-10-20T00:00:00",
          "2017-10-21T00:00:00",
          "2017-10-22T00:00:00",
          "2017-10-23T00:00:00",
          "2017-10-24T00:00:00",
          "2017-10-25T00:00:00",
          "2017-10-26T00:00:00",
          "2017-10-27T00:00:00",
          "2017-10-28T00:00:00",
          "2017-10-29T00:00:00",
          "2017-10-30T00:00:00",
          "2017-10-31T00:00:00",
          "2017-11-01T00:00:00",
          "2017-11-02T00:00:00",
          "2017-11-03T00:00:00",
          "2017-11-04T00:00:00",
          "2017-11-05T00:00:00",
          "2017-11-06T00:00:00",
          "2017-11-07T00:00:00",
          "2017-11-08T00:00:00",
          "2017-11-09T00:00:00",
          "2017-11-10T00:00:00",
          "2017-11-11T00:00:00",
          "2017-11-12T00:00:00",
          "2017-11-13T00:00:00",
          "2017-11-14T00:00:00",
          "2017-11-15T00:00:00",
          "2017-11-16T00:00:00",
          "2017-11-17T00:00:00",
          "2017-11-18T00:00:00",
          "2017-11-19T00:00:00",
          "2017-11-20T00:00:00",
          "2017-11-21T00:00:00",
          "2017-11-22T00:00:00",
          "2017-11-23T00:00:00",
          "2017-11-24T00:00:00",
          "2017-11-25T00:00:00",
          "2017-11-26T00:00:00",
          "2017-11-27T00:00:00",
          "2017-11-28T00:00:00",
          "2017-11-29T00:00:00",
          "2017-11-30T00:00:00",
          "2017-12-01T00:00:00",
          "2017-12-02T00:00:00",
          "2017-12-03T00:00:00",
          "2017-12-04T00:00:00",
          "2017-12-05T00:00:00",
          "2017-12-06T00:00:00",
          "2017-12-07T00:00:00",
          "2017-12-08T00:00:00",
          "2017-12-09T00:00:00",
          "2017-12-10T00:00:00",
          "2017-12-11T00:00:00",
          "2017-12-12T00:00:00",
          "2017-12-13T00:00:00",
          "2017-12-14T00:00:00",
          "2017-12-15T00:00:00",
          "2017-12-16T00:00:00",
          "2017-12-17T00:00:00",
          "2017-12-18T00:00:00",
          "2017-12-19T00:00:00",
          "2017-12-20T00:00:00",
          "2017-12-21T00:00:00",
          "2017-12-22T00:00:00",
          "2017-12-23T00:00:00",
          "2017-12-24T00:00:00",
          "2017-12-25T00:00:00",
          "2017-12-26T00:00:00",
          "2017-12-27T00:00:00",
          "2017-12-28T00:00:00",
          "2017-12-29T00:00:00",
          "2017-12-30T00:00:00",
          "2017-12-31T00:00:00",
          "2018-01-01T00:00:00",
          "2018-01-02T00:00:00",
          "2018-01-03T00:00:00",
          "2018-01-04T00:00:00",
          "2018-01-05T00:00:00",
          "2018-01-06T00:00:00",
          "2018-01-07T00:00:00",
          "2018-01-08T00:00:00",
          "2018-01-09T00:00:00",
          "2018-01-10T00:00:00",
          "2018-01-11T00:00:00",
          "2018-01-12T00:00:00",
          "2018-01-13T00:00:00",
          "2018-01-14T00:00:00",
          "2018-01-15T00:00:00",
          "2018-01-16T00:00:00",
          "2018-01-17T00:00:00",
          "2018-01-18T00:00:00",
          "2018-01-19T00:00:00",
          "2018-01-20T00:00:00",
          "2018-01-21T00:00:00",
          "2018-01-22T00:00:00",
          "2018-01-23T00:00:00",
          "2018-01-24T00:00:00",
          "2018-01-25T00:00:00",
          "2018-01-26T00:00:00",
          "2018-01-27T00:00:00",
          "2018-01-28T00:00:00",
          "2018-01-29T00:00:00",
          "2018-01-30T00:00:00",
          "2018-01-31T00:00:00",
          "2018-02-01T00:00:00",
          "2018-02-02T00:00:00",
          "2018-02-03T00:00:00",
          "2018-02-04T00:00:00",
          "2018-02-05T00:00:00",
          "2018-02-06T00:00:00",
          "2018-02-07T00:00:00",
          "2018-02-08T00:00:00",
          "2018-02-09T00:00:00",
          "2018-02-10T00:00:00",
          "2018-02-11T00:00:00",
          "2018-02-12T00:00:00",
          "2018-02-13T00:00:00",
          "2018-02-14T00:00:00",
          "2018-02-15T00:00:00",
          "2018-02-16T00:00:00",
          "2018-02-17T00:00:00",
          "2018-02-18T00:00:00",
          "2018-02-19T00:00:00",
          "2018-02-20T00:00:00",
          "2018-02-21T00:00:00",
          "2018-02-22T00:00:00",
          "2018-02-23T00:00:00",
          "2018-02-24T00:00:00",
          "2018-02-25T00:00:00",
          "2018-02-26T00:00:00",
          "2018-02-27T00:00:00",
          "2018-02-28T00:00:00",
          "2018-03-01T00:00:00",
          "2018-03-02T00:00:00",
          "2018-03-03T00:00:00",
          "2018-03-04T00:00:00",
          "2018-03-05T00:00:00",
          "2018-03-06T00:00:00",
          "2018-03-07T00:00:00",
          "2018-03-08T00:00:00",
          "2018-03-09T00:00:00",
          "2018-03-10T00:00:00",
          "2018-03-11T00:00:00",
          "2018-03-12T00:00:00",
          "2018-03-13T00:00:00",
          "2018-03-14T00:00:00",
          "2018-03-15T00:00:00",
          "2018-03-16T00:00:00",
          "2018-03-17T00:00:00",
          "2018-03-18T00:00:00",
          "2018-03-19T00:00:00",
          "2018-03-20T00:00:00",
          "2018-03-21T00:00:00",
          "2018-03-22T00:00:00",
          "2018-03-23T00:00:00",
          "2018-03-24T00:00:00",
          "2018-03-25T00:00:00",
          "2018-03-26T00:00:00",
          "2018-03-27T00:00:00",
          "2018-03-28T00:00:00",
          "2018-03-29T00:00:00",
          "2018-03-30T00:00:00",
          "2018-03-31T00:00:00",
          "2018-04-01T00:00:00",
          "2018-04-02T00:00:00",
          "2018-04-03T00:00:00",
          "2018-04-04T00:00:00",
          "2018-04-05T00:00:00",
          "2018-04-06T00:00:00",
          "2018-04-07T00:00:00",
          "2018-04-08T00:00:00",
          "2018-04-09T00:00:00",
          "2018-04-10T00:00:00",
          "2018-04-11T00:00:00",
          "2018-04-12T00:00:00",
          "2018-04-13T00:00:00",
          "2018-04-14T00:00:00",
          "2018-04-15T00:00:00",
          "2018-04-16T00:00:00",
          "2018-04-17T00:00:00",
          "2018-04-18T00:00:00",
          "2018-04-19T00:00:00",
          "2018-04-20T00:00:00",
          "2018-04-21T00:00:00",
          "2018-04-22T00:00:00",
          "2018-04-23T00:00:00",
          "2018-04-24T00:00:00",
          "2018-04-25T00:00:00",
          "2018-04-26T00:00:00",
          "2018-04-27T00:00:00",
          "2018-04-28T00:00:00",
          "2018-04-29T00:00:00",
          "2018-04-30T00:00:00",
          "2018-05-01T00:00:00",
          "2018-05-02T00:00:00",
          "2018-05-03T00:00:00",
          "2018-05-04T00:00:00",
          "2018-05-05T00:00:00",
          "2018-05-06T00:00:00",
          "2018-05-07T00:00:00",
          "2018-05-08T00:00:00",
          "2018-05-09T00:00:00",
          "2018-05-10T00:00:00",
          "2018-05-11T00:00:00",
          "2018-05-12T00:00:00",
          "2018-05-13T00:00:00",
          "2018-05-14T00:00:00",
          "2018-05-15T00:00:00",
          "2018-05-16T00:00:00",
          "2018-05-17T00:00:00",
          "2018-05-18T00:00:00",
          "2018-05-19T00:00:00",
          "2018-05-20T00:00:00",
          "2018-05-21T00:00:00",
          "2018-05-22T00:00:00",
          "2018-05-23T00:00:00",
          "2018-05-24T00:00:00",
          "2018-05-25T00:00:00",
          "2018-05-26T00:00:00",
          "2018-05-27T00:00:00",
          "2018-05-28T00:00:00",
          "2018-05-29T00:00:00",
          "2018-05-30T00:00:00",
          "2018-05-31T00:00:00",
          "2018-06-01T00:00:00",
          "2018-06-02T00:00:00",
          "2018-06-03T00:00:00",
          "2018-06-04T00:00:00",
          "2018-06-05T00:00:00",
          "2018-06-06T00:00:00",
          "2018-06-07T00:00:00",
          "2018-06-08T00:00:00",
          "2018-06-09T00:00:00",
          "2018-06-10T00:00:00",
          "2018-06-11T00:00:00",
          "2018-06-12T00:00:00",
          "2018-06-13T00:00:00",
          "2018-06-14T00:00:00",
          "2018-06-15T00:00:00",
          "2018-06-16T00:00:00",
          "2018-06-17T00:00:00",
          "2018-06-18T00:00:00",
          "2018-06-19T00:00:00",
          "2018-06-20T00:00:00",
          "2018-06-21T00:00:00",
          "2018-06-22T00:00:00",
          "2018-06-23T00:00:00",
          "2018-06-24T00:00:00",
          "2018-06-25T00:00:00",
          "2018-06-26T00:00:00",
          "2018-06-27T00:00:00",
          "2018-06-28T00:00:00",
          "2018-06-29T00:00:00",
          "2018-06-30T00:00:00",
          "2018-07-01T00:00:00",
          "2018-07-02T00:00:00",
          "2018-07-03T00:00:00",
          "2018-07-04T00:00:00",
          "2018-07-05T00:00:00",
          "2018-07-06T00:00:00",
          "2018-07-07T00:00:00",
          "2018-07-08T00:00:00",
          "2018-07-09T00:00:00",
          "2018-07-10T00:00:00",
          "2018-07-11T00:00:00",
          "2018-07-12T00:00:00",
          "2018-07-13T00:00:00",
          "2018-07-14T00:00:00",
          "2018-07-15T00:00:00",
          "2018-07-16T00:00:00",
          "2018-07-17T00:00:00",
          "2018-07-18T00:00:00",
          "2018-07-19T00:00:00",
          "2018-07-20T00:00:00",
          "2018-07-21T00:00:00",
          "2018-07-22T00:00:00",
          "2018-07-23T00:00:00",
          "2018-07-24T00:00:00",
          "2018-07-25T00:00:00",
          "2018-07-26T00:00:00",
          "2018-07-27T00:00:00",
          "2018-07-28T00:00:00",
          "2018-07-29T00:00:00",
          "2018-07-30T00:00:00",
          "2018-07-31T00:00:00",
          "2018-08-01T00:00:00",
          "2018-08-02T00:00:00",
          "2018-08-03T00:00:00",
          "2018-08-04T00:00:00",
          "2018-08-05T00:00:00",
          "2018-08-06T00:00:00",
          "2018-08-07T00:00:00",
          "2018-08-08T00:00:00",
          "2018-08-09T00:00:00",
          "2018-08-10T00:00:00",
          "2018-08-11T00:00:00",
          "2018-08-12T00:00:00",
          "2018-08-13T00:00:00",
          "2018-08-14T00:00:00",
          "2018-08-15T00:00:00",
          "2018-08-16T00:00:00",
          "2018-08-17T00:00:00",
          "2018-08-18T00:00:00",
          "2018-08-19T00:00:00",
          "2018-08-20T00:00:00",
          "2018-08-21T00:00:00",
          "2018-08-22T00:00:00",
          "2018-08-23T00:00:00",
          "2018-08-24T00:00:00",
          "2018-08-25T00:00:00",
          "2018-08-26T00:00:00",
          "2018-08-27T00:00:00",
          "2018-08-28T00:00:00",
          "2018-08-29T00:00:00",
          "2018-08-30T00:00:00",
          "2018-08-31T00:00:00",
          "2018-09-01T00:00:00",
          "2018-09-02T00:00:00",
          "2018-09-03T00:00:00",
          "2018-09-04T00:00:00",
          "2018-09-05T00:00:00",
          "2018-09-06T00:00:00",
          "2018-09-07T00:00:00",
          "2018-09-08T00:00:00",
          "2018-09-09T00:00:00",
          "2018-09-10T00:00:00",
          "2018-09-11T00:00:00",
          "2018-09-12T00:00:00",
          "2018-09-13T00:00:00",
          "2018-09-14T00:00:00",
          "2018-09-15T00:00:00",
          "2018-09-16T00:00:00",
          "2018-09-17T00:00:00",
          "2018-09-18T00:00:00",
          "2018-09-19T00:00:00",
          "2018-09-20T00:00:00",
          "2018-09-21T00:00:00",
          "2018-09-22T00:00:00",
          "2018-09-23T00:00:00",
          "2018-09-24T00:00:00",
          "2018-09-25T00:00:00",
          "2018-09-26T00:00:00",
          "2018-09-27T00:00:00",
          "2018-09-28T00:00:00",
          "2018-09-29T00:00:00",
          "2018-09-30T00:00:00",
          "2018-10-01T00:00:00",
          "2018-10-02T00:00:00",
          "2018-10-03T00:00:00",
          "2018-10-04T00:00:00",
          "2018-10-05T00:00:00",
          "2018-10-06T00:00:00",
          "2018-10-07T00:00:00",
          "2018-10-08T00:00:00",
          "2018-10-09T00:00:00",
          "2018-10-10T00:00:00",
          "2018-10-11T00:00:00",
          "2018-10-12T00:00:00",
          "2018-10-13T00:00:00",
          "2018-10-14T00:00:00",
          "2018-10-15T00:00:00",
          "2018-10-16T00:00:00",
          "2018-10-17T00:00:00",
          "2018-10-18T00:00:00",
          "2018-10-19T00:00:00",
          "2018-10-20T00:00:00",
          "2018-10-21T00:00:00",
          "2018-10-22T00:00:00",
          "2018-10-23T00:00:00",
          "2018-10-24T00:00:00",
          "2018-10-25T00:00:00",
          "2018-10-26T00:00:00",
          "2018-10-27T00:00:00",
          "2018-10-28T00:00:00",
          "2018-10-29T00:00:00",
          "2018-10-30T00:00:00",
          "2018-10-31T00:00:00",
          "2018-11-01T00:00:00",
          "2018-11-02T00:00:00",
          "2018-11-03T00:00:00",
          "2018-11-04T00:00:00",
          "2018-11-05T00:00:00",
          "2018-11-06T00:00:00",
          "2018-11-07T00:00:00",
          "2018-11-08T00:00:00",
          "2018-11-09T00:00:00",
          "2018-11-10T00:00:00",
          "2018-11-11T00:00:00",
          "2018-11-12T00:00:00",
          "2018-11-13T00:00:00",
          "2018-11-14T00:00:00",
          "2018-11-15T00:00:00",
          "2018-11-16T00:00:00",
          "2018-11-17T00:00:00",
          "2018-11-18T00:00:00",
          "2018-11-19T00:00:00",
          "2018-11-20T00:00:00",
          "2018-11-21T00:00:00",
          "2018-11-22T00:00:00",
          "2018-11-23T00:00:00",
          "2018-11-24T00:00:00",
          "2018-11-25T00:00:00",
          "2018-11-26T00:00:00",
          "2018-11-27T00:00:00",
          "2018-11-28T00:00:00",
          "2018-11-29T00:00:00",
          "2018-11-30T00:00:00",
          "2018-12-01T00:00:00",
          "2018-12-02T00:00:00",
          "2018-12-03T00:00:00",
          "2018-12-04T00:00:00",
          "2018-12-05T00:00:00",
          "2018-12-06T00:00:00",
          "2018-12-07T00:00:00",
          "2018-12-08T00:00:00",
          "2018-12-09T00:00:00",
          "2018-12-10T00:00:00",
          "2018-12-11T00:00:00",
          "2018-12-12T00:00:00",
          "2018-12-13T00:00:00",
          "2018-12-14T00:00:00",
          "2018-12-15T00:00:00",
          "2018-12-16T00:00:00",
          "2018-12-17T00:00:00",
          "2018-12-18T00:00:00",
          "2018-12-19T00:00:00",
          "2018-12-20T00:00:00",
          "2018-12-21T00:00:00",
          "2018-12-22T00:00:00",
          "2018-12-23T00:00:00",
          "2018-12-24T00:00:00",
          "2018-12-25T00:00:00",
          "2018-12-26T00:00:00",
          "2018-12-27T00:00:00",
          "2018-12-28T00:00:00",
          "2018-12-29T00:00:00",
          "2018-12-30T00:00:00"
         ],
         "xaxis": "x",
         "y": [
          -0.8180508194898657,
          1.9839604524119927,
          0.3086091702027263,
          3.621729018141814,
          1.9234260591301695,
          -0.2885354022308749,
          1.9648197027973056,
          6.473079146948417,
          6.9667698111366585,
          6.037257581028094,
          7.887556292064519,
          5.685088473770374,
          3.331033386114025,
          3.287264920136711,
          3.9864856953303325,
          3.1000675123052788,
          -0.712133976675298,
          -1.4638934553191185,
          -1.4081288065973832,
          -2.5102393140056884,
          -2.7305688262353542,
          -0.3128036708513094,
          -0.19608691515266927,
          0.5557187801609232,
          -0.9923896409432502,
          -0.9535507959317227,
          3.61729815201025,
          6.315772533510123,
          5.4319545687700055,
          9.06416418182814,
          9.866349698815299,
          9.234054079474362,
          9.343049798409924,
          6.995604746410841,
          5.5500633274431195,
          5.847306870659593,
          5.4290364698155,
          6.8036416865342,
          4.769516647693321,
          2.8320335316286998,
          1.6367891674548316,
          0.6651064693323216,
          2.346988092388029,
          6.8752626741735865,
          8.045987897130548,
          9.018229597968764,
          6.325576790992229,
          5.522828542953564,
          5.174799412748568,
          5.712363323924928,
          8.974620452573067,
          9.380429557468817,
          9.581526392588641,
          8.48824275212115,
          4.952323849598372,
          5.713610792990037,
          9.061231238506986,
          7.404499957597648,
          5.192128549302086,
          7.645466328461362,
          7.237457071540014,
          9.266655494075232,
          7.676802921064706,
          6.499913323924929,
          5.943534414617665,
          6.619513656780369,
          9.98028891158177,
          10.787890167363054,
          9.76754523215579,
          9.78057057784592,
          8.974813282432136,
          8.840540576179162,
          7.670040178089345,
          9.681978853817917,
          9.820910445187193,
          8.449926246032355,
          9.623463864287864,
          10.263963323924928,
          9.86093736904199,
          7.348452289442544,
          5.899841066384124,
          7.079125351780879,
          8.259120399547076,
          9.88885961046175,
          9.90520394746297,
          10.931443335408023,
          10.44490136304099,
          12.96476022840744,
          15.078825285099393,
          12.927584740613579,
          9.988937704652827,
          9.311043710980156,
          10.001091001152915,
          9.471732370749956,
          9.920414443237805,
          8.669597688475651,
          9.564347913951007,
          12.174560592401711,
          14.464414878207707,
          10.151270020688383,
          8.73491623904178,
          8.803162367007689,
          9.47947662392966,
          9.311921118529671,
          9.75816803686708,
          8.828199934139606,
          8.882017563965794,
          7.1309122553580755,
          6.260594127995981,
          6.069474860865941,
          8.85117925445336,
          9.231627307750534,
          8.351460822810651,
          9.03771136318643,
          6.369451072511763,
          4.593326624069424,
          5.777192903608233,
          8.111043478518175,
          9.758987830715803,
          9.591703186680864,
          8.710642757771932,
          10.178889259740224,
          9.227980940787775,
          10.274896030289996,
          11.430983843476259,
          10.517866424384748,
          10.434915229478067,
          8.89054841388788,
          9.762657191269367,
          12.189593978838532,
          13.624148462134627,
          13.983833433592121,
          13.535919180465738,
          13.165992227400944,
          15.948518726279753,
          18.807168757953992,
          17.559232128476435,
          11.603533297938043,
          10.090519338386649,
          10.985579516359701,
          13.748040666295216,
          16.487185054337637,
          15.513024129687714,
          15.83850201366193,
          18.262074589489306,
          19.907013320808183,
          19.28614997388745,
          19.611937452928824,
          18.144126927737563,
          14.733736430203937,
          14.99303962229345,
          17.986638416979094,
          18.053092748970094,
          13.679230625963248,
          13.738979680024633,
          14.706681846183518,
          12.252836426505345,
          13.47638987488062,
          16.966045294376293,
          15.806453931530324,
          18.17050923901854,
          17.45975851062675,
          14.023437989874898,
          15.339674364312035,
          19.616571462493344,
          17.98120472152344,
          15.53615981475749,
          18.45916212809379,
          21.113478202302762,
          22.854141409316764,
          24.33782778022304,
          25.480082742063004,
          19.764858892346428,
          16.083572403191262,
          17.479079738153228,
          18.036175152387987,
          18.761076549057854,
          17.192551385189947,
          15.796979153357215,
          14.84730738178736,
          14.591787913563968,
          14.926112770366665,
          15.5876872942266,
          15.563042731153445,
          17.536581503285234,
          20.893488571866843,
          23.372853733677047,
          20.912708668920352,
          19.38126684790709,
          19.60432843343945,
          16.833807606057835,
          16.888091314151723,
          16.884803459322487,
          17.02150802598193,
          15.419650526731967,
          16.635339472755234,
          18.318346937303367,
          20.010191154801262,
          23.452560758618908,
          21.200724435036037,
          16.289147083314088,
          16.311021519192003,
          15.021719721656316,
          14.912707768369373,
          15.156081679947135,
          16.567102920382492,
          16.35006890244797,
          16.427747267762207,
          17.08777171763996,
          19.447223972364768,
          17.807776163072276,
          16.458805637228295,
          16.835620176139027,
          18.14005884931223,
          18.61406637604825,
          17.402298897198282,
          16.028460930695005,
          14.882729298262282,
          16.093447880367663,
          14.182597326936614,
          13.727878013960634,
          14.19722726567102,
          15.287744928190515,
          15.450285736638243,
          15.52732495169197,
          17.67840374717231,
          18.11616298813924,
          17.04604386096474,
          18.21784610964564,
          16.870172297463185,
          14.853223326424636,
          15.296315142219635,
          17.753064226644742,
          19.842731528914637,
          17.665946417175096,
          16.719900904708183,
          17.880204716003618,
          18.745061931607484,
          19.5662600282066,
          21.389327101628638,
          22.060377578234945,
          14.56132242722289,
          13.835380059587257,
          13.719590011564602,
          13.85489226471519,
          13.392439976932756,
          16.93800528653989,
          17.32515776614564,
          14.725488350464225,
          14.482313679433034,
          14.677684749453102,
          12.998383174600319,
          13.703662570563411,
          13.060604134479195,
          13.610257220774214,
          13.882730021087703,
          11.86880072636908,
          10.409399139299556,
          10.026832997993628,
          10.596869723390801,
          10.779469898115739,
          11.697340671593906,
          11.892271555795446,
          13.374727929332586,
          12.72834151381191,
          12.707527631015541,
          15.709612148171846,
          15.409344313780922,
          15.256264019927142,
          14.992665694241275,
          16.129090188367538,
          15.957858146330919,
          13.765943758995872,
          14.851007768369374,
          15.25179725634371,
          11.979184927790724,
          11.180407507124517,
          11.903149960029378,
          9.947501379940464,
          10.83043445917266,
          12.627271909692674,
          12.674239586078164,
          13.591398957200328,
          14.35305255198626,
          15.058013361038928,
          15.29999061365524,
          14.523443706558991,
          16.928454884132137,
          17.498313547470982,
          13.614263437728187,
          14.490587101092721,
          14.529989665233828,
          12.35565378330918,
          12.639868316609183,
          10.281321701926606,
          12.187820980646075,
          15.080565188620866,
          13.788427017418286,
          12.01853420341283,
          11.053550772165602,
          9.630511957100287,
          11.515521614681328,
          7.599532513137744,
          6.620784392575719,
          8.329882734436643,
          9.746086191259847,
          11.12842256143092,
          11.299090629360526,
          6.989822604160392,
          5.490590049978053,
          4.812236127863651,
          6.8950126153120666,
          8.082309971948783,
          10.186145246057672,
          11.005735755053088,
          8.527631529192295,
          5.994260072290173,
          6.365171679196901,
          8.700135157925699,
          7.784122028183796,
          7.162670013759919,
          6.365670438057998,
          7.120780182367829,
          8.414432488062154,
          10.069912376614703,
          11.073469475665295,
          11.52472487734484,
          8.115552697836609,
          4.655726320646334,
          4.606253992722458,
          7.412444504207294,
          5.214235199613516,
          3.3058157210058066,
          2.6503767284908415,
          2.543324061793165,
          1.717707765597689,
          4.338590048291102,
          6.596655175973464,
          6.812872837167566,
          6.258175209865743,
          5.899312022128888,
          3.725995420076915,
          2.3349065311880257,
          6.09718693046194,
          4.7905399895422045,
          3.2284842512400744,
          7.126218056595463,
          4.925318768752049,
          4.745037482906858,
          4.432336920674805,
          4.677768257467463,
          6.072719120900713,
          2.5340135506640387,
          6.774964710853309,
          8.928979990591596,
          8.827203360577425,
          8.597913323924928,
          8.19186833890696,
          6.25066155392796,
          5.993988729203194,
          4.327623128450603,
          2.6263096536145203,
          5.731016770232732,
          11.816717122934918,
          10.591057279106563,
          7.154074043423744,
          8.321936345031231,
          9.055383409036626,
          10.442028281465248,
          7.738256275316419,
          5.547985508570277,
          4.627683855354114,
          4.318804796601992,
          5.470852729282046,
          6.658435899210791,
          4.825437017137666,
          4.492118906502596,
          3.6966168420903753,
          2.6734292591389113,
          6.876690054977243,
          6.815965177484226,
          5.368119131081428,
          8.280193391908437,
          4.857169309171397,
          7.390565794825302,
          7.703215040314945,
          9.789864042267324,
          9.406342927067255,
          10.879465013157375,
          7.342498016168257,
          5.434333787404548,
          4.7812784044554855,
          9.032671510833675,
          9.078000094563112,
          8.467404515776737,
          7.278952371124713,
          4.368170241207169,
          4.1321340351929825,
          3.7630197557061464,
          2.6500209439503246,
          0.12965319995719496,
          0.7800952354288084,
          0.3335416956672379,
          0.6999493806788503,
          1.9194384755005878,
          2.844753847765574,
          4.944376448447253,
          2.4007450357148636,
          1.838836579963231,
          2.6034122776872186,
          7.688205573527809,
          4.315377457726698,
          4.6649870009719825,
          4.724378984253364,
          6.298502641932031,
          6.283455589109974,
          2.809917075712732,
          1.1555657658813574,
          0.27831072068494556,
          0.8820955998136928,
          0.2419090918565671,
          -2.159231425210533,
          -3.4781646501451293,
          -4.156065575630864,
          -1.6480707958780743,
          2.909627569675982,
          5.065936486858995,
          5.390717100824245,
          6.682415837547091,
          6.30006149938766,
          5.554866807598686,
          6.147794911349102,
          8.706639062378144,
          11.551665666546176,
          10.991327767928864,
          8.815452693167158,
          7.4477700036131615,
          8.324720711185176,
          9.146330864950095,
          7.722423413887877,
          2.7658299454194095,
          0.7822881500467896,
          0.2358381468774577,
          2.7142280206576532,
          3.2349564019227772,
          4.664161551545763,
          5.980917862938522,
          7.741011583919567,
          7.828534512100761,
          7.543967446796957,
          7.99014842604754,
          7.2042074423324856,
          5.500942770367691,
          5.73119030577977,
          5.814889630104094,
          7.044717468347979,
          9.875019262954492,
          10.05446014348205,
          9.541149537984769,
          7.5096202925774715,
          10.921738069888024,
          12.353453819293284,
          11.557049343274024,
          11.044666431747165,
          10.572747062622698,
          10.57198330311471,
          9.597368919706712,
          10.279874353112099,
          10.115955687544847,
          10.743871154906328,
          10.430904159340447,
          13.002168945501083,
          16.20721130911893,
          17.46571233913668,
          17.449723910116006,
          17.95490302998548,
          16.117281910803907,
          11.018798523468114,
          12.030789717682445,
          10.996784345208996,
          9.728297807537093,
          10.806583134099045,
          10.438362030817242,
          8.244568577734801,
          5.466125720718365,
          8.028706531188025,
          8.691928501762764,
          9.103707964541874,
          10.104150256883477,
          13.253599019567345,
          16.395144880619206,
          17.72745527870351,
          15.187951054983083,
          12.366702403864567,
          10.649060620608394,
          12.721946027783785,
          10.726145608007235,
          9.970006619447323,
          11.707830769195144,
          13.099831353171929,
          12.546354153955317,
          11.424381324963013,
          10.339150317788045,
          11.056683836646885,
          12.725976084086257,
          14.650467772235867,
          14.781649147897298,
          13.408047534973488,
          14.807141905337854,
          14.821764241723907,
          18.321459322150027,
          18.934395085593252,
          18.32886035859211,
          16.580993724949852,
          17.6796045478874,
          17.15124556858616,
          15.470554728847663,
          15.715643317785677,
          17.767315023360844,
          16.482548255747886,
          14.505176777736432,
          14.520681747920356,
          17.31744179881828,
          17.487700140034462,
          17.072919876242562,
          17.339285823720196,
          16.57099135940251,
          14.925322404191883,
          14.049077615904606,
          14.280118093295462,
          14.538013646983194,
          14.67387816543371,
          14.974365679881119,
          16.273529992236266,
          17.19357708756372,
          18.431659294973876,
          14.443436822757223,
          13.644148081989421,
          14.744983149234319,
          16.164115223459905,
          17.54940090906681,
          18.640865850311382,
          18.94411667096298,
          19.35180117576311,
          19.88464567003713,
          21.088346584994465,
          22.457931769790612,
          21.18159617854288,
          20.172760216752508,
          19.832149230039818,
          18.61451287289414,
          19.35936477190945,
          21.05582394898311,
          21.002982369256404,
          20.06147877854814,
          17.29561525721917,
          16.65921837071343,
          17.28422611864579,
          18.941424786976917,
          19.617339217162915,
          19.959929290373832,
          19.779681117219646,
          18.109256538043084,
          18.999395827414574,
          20.078625580902347,
          17.223731800710485,
          17.296969693689302,
          18.76655605906117,
          20.430910194348282,
          20.964690344271887,
          21.29128805586217,
          23.746491834131202,
          21.411943179407444,
          18.614351542925913,
          18.472420928777197,
          20.358763387224368,
          18.952317729353084,
          18.57247036547936,
          20.139271313366304,
          22.685782451317607,
          21.690509786267384,
          20.89579350123175,
          22.526731431894667,
          21.60272321743798,
          18.292282286846415,
          14.648427555812786,
          15.46227176611797,
          17.388793816722448,
          18.625391085378304,
          17.271953174547146,
          17.66676949399767,
          17.941337232697197,
          17.602375254664008,
          16.052504610611905,
          15.811375122689698,
          18.21477740299609,
          19.208861832820652,
          18.89514918639205,
          18.60547644104554,
          17.60603790210334,
          14.764847482118379,
          13.384235546147151,
          14.838194351381231,
          16.15566650419908,
          16.889284776088793,
          15.467769903778404,
          14.834897641167148,
          15.534229815618252,
          15.871273229702398,
          15.47972117298958,
          16.22488651856379,
          16.17598554614715,
          16.525675916125504,
          16.106710898464236,
          14.592320123149513,
          14.586542570424237,
          16.81581308650449,
          16.299760292068168,
          17.306533476636194,
          16.52885608819816,
          14.179207887429042,
          12.650627183697846,
          13.657535078434687,
          14.96051753457504,
          17.966416657382055,
          18.471382180357544,
          17.832084467871,
          18.542488111661797,
          14.203742937215395,
          13.339369261165325,
          14.044002212813817,
          10.28094172434457,
          10.101309333216015,
          11.53655899775793,
          14.672753395735164,
          13.468763148610126,
          10.669626361039281,
          10.173461909198549,
          10.697691694924675,
          12.620163695726133,
          14.426639599168727,
          13.945608162924641,
          14.266619798159935,
          13.0552620348017,
          11.345983479117917,
          10.13564789443961,
          13.210873395292094,
          16.41039443066366,
          15.93601839815193,
          16.723396022902712,
          18.833208468262754,
          17.355212717702187,
          16.345086783328497,
          14.587791855223937,
          13.001771100606613,
          13.41948788372873,
          11.439756412297948,
          10.170862870227843,
          10.615183906480377,
          10.939302442944914,
          9.822718444668185,
          12.640550854886943,
          10.58440720465202,
          9.276809706555191,
          5.0771896836978465,
          5.144695166153987,
          4.535634991110752,
          6.463357446855741,
          7.056433104750477,
          9.304377183697845,
          6.312732446855741,
          4.796397271267543,
          7.297376087206619,
          11.343441601687063,
          11.554340743101594,
          10.320986214232384,
          7.848303162713432,
          9.91888986452136,
          11.100333008519103,
          10.635724128761309,
          10.305527010979272,
          9.883009376876863,
          9.08813022990444,
          9.141667634556022,
          7.969173111918008,
          5.179184076830289,
          4.10638802419871,
          2.764331270603468,
          1.9896226733215163,
          1.3374856328520335,
          2.4696906784385604,
          5.159425896303442,
          6.215176099271868,
          5.946921043346969,
          5.064929318255569,
          5.912264212036471,
          10.718177265673498,
          10.771402028404829,
          8.780654929491439,
          9.355256212120201,
          13.225242374910168,
          11.871201103453938,
          8.989363140287248,
          10.311859499439805,
          11.351802817733148,
          9.370542693548579,
          9.312732011241906,
          9.124478982893457,
          7.219504487878072,
          4.545017656821969,
          2.532479824277403,
          0.8503243036216016,
          -1.2554357913245262,
          0.36480193888791734,
          5.2857577941997596,
          6.610689054849098,
          7.199315366931149,
          7.477237736057565,
          7.804418645532382,
          11.878141412640305,
          10.146233011041542,
          11.04730162088594,
          8.024370082337208,
          3.3314949469118216,
          1.8368178559138229,
          0.6631947960307746,
          2.9365598958810524,
          6.266625531961511,
          8.204485623174886
         ],
         "yaxis": "y"
        },
        {
         "hovertemplate": "variable=hu<br>date=%{x}<br>value=%{y}<extra></extra>",
         "legendgroup": "hu",
         "line": {
          "color": "#EF553B",
          "dash": "solid"
         },
         "marker": {
          "symbol": "circle"
         },
         "mode": "lines",
         "name": "hu",
         "showlegend": true,
         "type": "scattergl",
         "x": [
          "2017-01-01T00:00:00",
          "2017-01-02T00:00:00",
          "2017-01-03T00:00:00",
          "2017-01-04T00:00:00",
          "2017-01-05T00:00:00",
          "2017-01-06T00:00:00",
          "2017-01-07T00:00:00",
          "2017-01-08T00:00:00",
          "2017-01-09T00:00:00",
          "2017-01-10T00:00:00",
          "2017-01-11T00:00:00",
          "2017-01-12T00:00:00",
          "2017-01-13T00:00:00",
          "2017-01-14T00:00:00",
          "2017-01-15T00:00:00",
          "2017-01-16T00:00:00",
          "2017-01-17T00:00:00",
          "2017-01-18T00:00:00",
          "2017-01-19T00:00:00",
          "2017-01-20T00:00:00",
          "2017-01-21T00:00:00",
          "2017-01-22T00:00:00",
          "2017-01-23T00:00:00",
          "2017-01-24T00:00:00",
          "2017-01-25T00:00:00",
          "2017-01-26T00:00:00",
          "2017-01-27T00:00:00",
          "2017-01-28T00:00:00",
          "2017-01-29T00:00:00",
          "2017-01-30T00:00:00",
          "2017-01-31T00:00:00",
          "2017-02-01T00:00:00",
          "2017-02-02T00:00:00",
          "2017-02-03T00:00:00",
          "2017-02-04T00:00:00",
          "2017-02-05T00:00:00",
          "2017-02-06T00:00:00",
          "2017-02-07T00:00:00",
          "2017-02-08T00:00:00",
          "2017-02-09T00:00:00",
          "2017-02-10T00:00:00",
          "2017-02-11T00:00:00",
          "2017-02-12T00:00:00",
          "2017-02-13T00:00:00",
          "2017-02-14T00:00:00",
          "2017-02-15T00:00:00",
          "2017-02-16T00:00:00",
          "2017-02-17T00:00:00",
          "2017-02-18T00:00:00",
          "2017-02-19T00:00:00",
          "2017-02-20T00:00:00",
          "2017-02-21T00:00:00",
          "2017-02-22T00:00:00",
          "2017-02-23T00:00:00",
          "2017-02-24T00:00:00",
          "2017-02-25T00:00:00",
          "2017-02-26T00:00:00",
          "2017-02-27T00:00:00",
          "2017-02-28T00:00:00",
          "2017-03-01T00:00:00",
          "2017-03-02T00:00:00",
          "2017-03-03T00:00:00",
          "2017-03-04T00:00:00",
          "2017-03-05T00:00:00",
          "2017-03-06T00:00:00",
          "2017-03-07T00:00:00",
          "2017-03-08T00:00:00",
          "2017-03-09T00:00:00",
          "2017-03-10T00:00:00",
          "2017-03-11T00:00:00",
          "2017-03-12T00:00:00",
          "2017-03-13T00:00:00",
          "2017-03-14T00:00:00",
          "2017-03-15T00:00:00",
          "2017-03-16T00:00:00",
          "2017-03-17T00:00:00",
          "2017-03-18T00:00:00",
          "2017-03-19T00:00:00",
          "2017-03-20T00:00:00",
          "2017-03-21T00:00:00",
          "2017-03-22T00:00:00",
          "2017-03-23T00:00:00",
          "2017-03-24T00:00:00",
          "2017-03-25T00:00:00",
          "2017-03-26T00:00:00",
          "2017-03-27T00:00:00",
          "2017-03-28T00:00:00",
          "2017-03-29T00:00:00",
          "2017-03-30T00:00:00",
          "2017-03-31T00:00:00",
          "2017-04-01T00:00:00",
          "2017-04-02T00:00:00",
          "2017-04-03T00:00:00",
          "2017-04-04T00:00:00",
          "2017-04-05T00:00:00",
          "2017-04-06T00:00:00",
          "2017-04-07T00:00:00",
          "2017-04-08T00:00:00",
          "2017-04-09T00:00:00",
          "2017-04-10T00:00:00",
          "2017-04-11T00:00:00",
          "2017-04-12T00:00:00",
          "2017-04-13T00:00:00",
          "2017-04-14T00:00:00",
          "2017-04-15T00:00:00",
          "2017-04-16T00:00:00",
          "2017-04-17T00:00:00",
          "2017-04-18T00:00:00",
          "2017-04-19T00:00:00",
          "2017-04-20T00:00:00",
          "2017-04-21T00:00:00",
          "2017-04-22T00:00:00",
          "2017-04-23T00:00:00",
          "2017-04-24T00:00:00",
          "2017-04-25T00:00:00",
          "2017-04-26T00:00:00",
          "2017-04-27T00:00:00",
          "2017-04-28T00:00:00",
          "2017-04-29T00:00:00",
          "2017-04-30T00:00:00",
          "2017-05-01T00:00:00",
          "2017-05-02T00:00:00",
          "2017-05-03T00:00:00",
          "2017-05-04T00:00:00",
          "2017-05-05T00:00:00",
          "2017-05-06T00:00:00",
          "2017-05-07T00:00:00",
          "2017-05-08T00:00:00",
          "2017-05-09T00:00:00",
          "2017-05-10T00:00:00",
          "2017-05-11T00:00:00",
          "2017-05-12T00:00:00",
          "2017-05-13T00:00:00",
          "2017-05-14T00:00:00",
          "2017-05-15T00:00:00",
          "2017-05-16T00:00:00",
          "2017-05-17T00:00:00",
          "2017-05-18T00:00:00",
          "2017-05-19T00:00:00",
          "2017-05-20T00:00:00",
          "2017-05-21T00:00:00",
          "2017-05-22T00:00:00",
          "2017-05-23T00:00:00",
          "2017-05-24T00:00:00",
          "2017-05-25T00:00:00",
          "2017-05-26T00:00:00",
          "2017-05-27T00:00:00",
          "2017-05-28T00:00:00",
          "2017-05-29T00:00:00",
          "2017-05-30T00:00:00",
          "2017-05-31T00:00:00",
          "2017-06-01T00:00:00",
          "2017-06-02T00:00:00",
          "2017-06-03T00:00:00",
          "2017-06-04T00:00:00",
          "2017-06-05T00:00:00",
          "2017-06-06T00:00:00",
          "2017-06-07T00:00:00",
          "2017-06-08T00:00:00",
          "2017-06-09T00:00:00",
          "2017-06-10T00:00:00",
          "2017-06-11T00:00:00",
          "2017-06-12T00:00:00",
          "2017-06-13T00:00:00",
          "2017-06-14T00:00:00",
          "2017-06-15T00:00:00",
          "2017-06-16T00:00:00",
          "2017-06-17T00:00:00",
          "2017-06-18T00:00:00",
          "2017-06-19T00:00:00",
          "2017-06-20T00:00:00",
          "2017-06-21T00:00:00",
          "2017-06-22T00:00:00",
          "2017-06-23T00:00:00",
          "2017-06-24T00:00:00",
          "2017-06-25T00:00:00",
          "2017-06-26T00:00:00",
          "2017-06-27T00:00:00",
          "2017-06-28T00:00:00",
          "2017-06-29T00:00:00",
          "2017-06-30T00:00:00",
          "2017-07-01T00:00:00",
          "2017-07-02T00:00:00",
          "2017-07-03T00:00:00",
          "2017-07-04T00:00:00",
          "2017-07-05T00:00:00",
          "2017-07-06T00:00:00",
          "2017-07-07T00:00:00",
          "2017-07-08T00:00:00",
          "2017-07-09T00:00:00",
          "2017-07-10T00:00:00",
          "2017-07-11T00:00:00",
          "2017-07-12T00:00:00",
          "2017-07-13T00:00:00",
          "2017-07-14T00:00:00",
          "2017-07-15T00:00:00",
          "2017-07-16T00:00:00",
          "2017-07-17T00:00:00",
          "2017-07-18T00:00:00",
          "2017-07-19T00:00:00",
          "2017-07-20T00:00:00",
          "2017-07-21T00:00:00",
          "2017-07-22T00:00:00",
          "2017-07-23T00:00:00",
          "2017-07-24T00:00:00",
          "2017-07-25T00:00:00",
          "2017-07-26T00:00:00",
          "2017-07-27T00:00:00",
          "2017-07-28T00:00:00",
          "2017-07-29T00:00:00",
          "2017-07-30T00:00:00",
          "2017-07-31T00:00:00",
          "2017-08-01T00:00:00",
          "2017-08-02T00:00:00",
          "2017-08-03T00:00:00",
          "2017-08-04T00:00:00",
          "2017-08-05T00:00:00",
          "2017-08-06T00:00:00",
          "2017-08-07T00:00:00",
          "2017-08-08T00:00:00",
          "2017-08-09T00:00:00",
          "2017-08-10T00:00:00",
          "2017-08-11T00:00:00",
          "2017-08-12T00:00:00",
          "2017-08-13T00:00:00",
          "2017-08-14T00:00:00",
          "2017-08-15T00:00:00",
          "2017-08-16T00:00:00",
          "2017-08-17T00:00:00",
          "2017-08-18T00:00:00",
          "2017-08-19T00:00:00",
          "2017-08-20T00:00:00",
          "2017-08-21T00:00:00",
          "2017-08-22T00:00:00",
          "2017-08-23T00:00:00",
          "2017-08-24T00:00:00",
          "2017-08-25T00:00:00",
          "2017-08-26T00:00:00",
          "2017-08-27T00:00:00",
          "2017-08-28T00:00:00",
          "2017-08-29T00:00:00",
          "2017-08-30T00:00:00",
          "2017-08-31T00:00:00",
          "2017-09-01T00:00:00",
          "2017-09-02T00:00:00",
          "2017-09-03T00:00:00",
          "2017-09-04T00:00:00",
          "2017-09-05T00:00:00",
          "2017-09-06T00:00:00",
          "2017-09-07T00:00:00",
          "2017-09-08T00:00:00",
          "2017-09-09T00:00:00",
          "2017-09-10T00:00:00",
          "2017-09-11T00:00:00",
          "2017-09-12T00:00:00",
          "2017-09-13T00:00:00",
          "2017-09-14T00:00:00",
          "2017-09-15T00:00:00",
          "2017-09-16T00:00:00",
          "2017-09-17T00:00:00",
          "2017-09-18T00:00:00",
          "2017-09-19T00:00:00",
          "2017-09-20T00:00:00",
          "2017-09-21T00:00:00",
          "2017-09-22T00:00:00",
          "2017-09-23T00:00:00",
          "2017-09-24T00:00:00",
          "2017-09-25T00:00:00",
          "2017-09-26T00:00:00",
          "2017-09-27T00:00:00",
          "2017-09-28T00:00:00",
          "2017-09-29T00:00:00",
          "2017-09-30T00:00:00",
          "2017-10-01T00:00:00",
          "2017-10-02T00:00:00",
          "2017-10-03T00:00:00",
          "2017-10-04T00:00:00",
          "2017-10-05T00:00:00",
          "2017-10-06T00:00:00",
          "2017-10-07T00:00:00",
          "2017-10-08T00:00:00",
          "2017-10-09T00:00:00",
          "2017-10-10T00:00:00",
          "2017-10-11T00:00:00",
          "2017-10-12T00:00:00",
          "2017-10-13T00:00:00",
          "2017-10-14T00:00:00",
          "2017-10-15T00:00:00",
          "2017-10-16T00:00:00",
          "2017-10-17T00:00:00",
          "2017-10-18T00:00:00",
          "2017-10-19T00:00:00",
          "2017-10-20T00:00:00",
          "2017-10-21T00:00:00",
          "2017-10-22T00:00:00",
          "2017-10-23T00:00:00",
          "2017-10-24T00:00:00",
          "2017-10-25T00:00:00",
          "2017-10-26T00:00:00",
          "2017-10-27T00:00:00",
          "2017-10-28T00:00:00",
          "2017-10-29T00:00:00",
          "2017-10-30T00:00:00",
          "2017-10-31T00:00:00",
          "2017-11-01T00:00:00",
          "2017-11-02T00:00:00",
          "2017-11-03T00:00:00",
          "2017-11-04T00:00:00",
          "2017-11-05T00:00:00",
          "2017-11-06T00:00:00",
          "2017-11-07T00:00:00",
          "2017-11-08T00:00:00",
          "2017-11-09T00:00:00",
          "2017-11-10T00:00:00",
          "2017-11-11T00:00:00",
          "2017-11-12T00:00:00",
          "2017-11-13T00:00:00",
          "2017-11-14T00:00:00",
          "2017-11-15T00:00:00",
          "2017-11-16T00:00:00",
          "2017-11-17T00:00:00",
          "2017-11-18T00:00:00",
          "2017-11-19T00:00:00",
          "2017-11-20T00:00:00",
          "2017-11-21T00:00:00",
          "2017-11-22T00:00:00",
          "2017-11-23T00:00:00",
          "2017-11-24T00:00:00",
          "2017-11-25T00:00:00",
          "2017-11-26T00:00:00",
          "2017-11-27T00:00:00",
          "2017-11-28T00:00:00",
          "2017-11-29T00:00:00",
          "2017-11-30T00:00:00",
          "2017-12-01T00:00:00",
          "2017-12-02T00:00:00",
          "2017-12-03T00:00:00",
          "2017-12-04T00:00:00",
          "2017-12-05T00:00:00",
          "2017-12-06T00:00:00",
          "2017-12-07T00:00:00",
          "2017-12-08T00:00:00",
          "2017-12-09T00:00:00",
          "2017-12-10T00:00:00",
          "2017-12-11T00:00:00",
          "2017-12-12T00:00:00",
          "2017-12-13T00:00:00",
          "2017-12-14T00:00:00",
          "2017-12-15T00:00:00",
          "2017-12-16T00:00:00",
          "2017-12-17T00:00:00",
          "2017-12-18T00:00:00",
          "2017-12-19T00:00:00",
          "2017-12-20T00:00:00",
          "2017-12-21T00:00:00",
          "2017-12-22T00:00:00",
          "2017-12-23T00:00:00",
          "2017-12-24T00:00:00",
          "2017-12-25T00:00:00",
          "2017-12-26T00:00:00",
          "2017-12-27T00:00:00",
          "2017-12-28T00:00:00",
          "2017-12-29T00:00:00",
          "2017-12-30T00:00:00",
          "2017-12-31T00:00:00",
          "2018-01-01T00:00:00",
          "2018-01-02T00:00:00",
          "2018-01-03T00:00:00",
          "2018-01-04T00:00:00",
          "2018-01-05T00:00:00",
          "2018-01-06T00:00:00",
          "2018-01-07T00:00:00",
          "2018-01-08T00:00:00",
          "2018-01-09T00:00:00",
          "2018-01-10T00:00:00",
          "2018-01-11T00:00:00",
          "2018-01-12T00:00:00",
          "2018-01-13T00:00:00",
          "2018-01-14T00:00:00",
          "2018-01-15T00:00:00",
          "2018-01-16T00:00:00",
          "2018-01-17T00:00:00",
          "2018-01-18T00:00:00",
          "2018-01-19T00:00:00",
          "2018-01-20T00:00:00",
          "2018-01-21T00:00:00",
          "2018-01-22T00:00:00",
          "2018-01-23T00:00:00",
          "2018-01-24T00:00:00",
          "2018-01-25T00:00:00",
          "2018-01-26T00:00:00",
          "2018-01-27T00:00:00",
          "2018-01-28T00:00:00",
          "2018-01-29T00:00:00",
          "2018-01-30T00:00:00",
          "2018-01-31T00:00:00",
          "2018-02-01T00:00:00",
          "2018-02-02T00:00:00",
          "2018-02-03T00:00:00",
          "2018-02-04T00:00:00",
          "2018-02-05T00:00:00",
          "2018-02-06T00:00:00",
          "2018-02-07T00:00:00",
          "2018-02-08T00:00:00",
          "2018-02-09T00:00:00",
          "2018-02-10T00:00:00",
          "2018-02-11T00:00:00",
          "2018-02-12T00:00:00",
          "2018-02-13T00:00:00",
          "2018-02-14T00:00:00",
          "2018-02-15T00:00:00",
          "2018-02-16T00:00:00",
          "2018-02-17T00:00:00",
          "2018-02-18T00:00:00",
          "2018-02-19T00:00:00",
          "2018-02-20T00:00:00",
          "2018-02-21T00:00:00",
          "2018-02-22T00:00:00",
          "2018-02-23T00:00:00",
          "2018-02-24T00:00:00",
          "2018-02-25T00:00:00",
          "2018-02-26T00:00:00",
          "2018-02-27T00:00:00",
          "2018-02-28T00:00:00",
          "2018-03-01T00:00:00",
          "2018-03-02T00:00:00",
          "2018-03-03T00:00:00",
          "2018-03-04T00:00:00",
          "2018-03-05T00:00:00",
          "2018-03-06T00:00:00",
          "2018-03-07T00:00:00",
          "2018-03-08T00:00:00",
          "2018-03-09T00:00:00",
          "2018-03-10T00:00:00",
          "2018-03-11T00:00:00",
          "2018-03-12T00:00:00",
          "2018-03-13T00:00:00",
          "2018-03-14T00:00:00",
          "2018-03-15T00:00:00",
          "2018-03-16T00:00:00",
          "2018-03-17T00:00:00",
          "2018-03-18T00:00:00",
          "2018-03-19T00:00:00",
          "2018-03-20T00:00:00",
          "2018-03-21T00:00:00",
          "2018-03-22T00:00:00",
          "2018-03-23T00:00:00",
          "2018-03-24T00:00:00",
          "2018-03-25T00:00:00",
          "2018-03-26T00:00:00",
          "2018-03-27T00:00:00",
          "2018-03-28T00:00:00",
          "2018-03-29T00:00:00",
          "2018-03-30T00:00:00",
          "2018-03-31T00:00:00",
          "2018-04-01T00:00:00",
          "2018-04-02T00:00:00",
          "2018-04-03T00:00:00",
          "2018-04-04T00:00:00",
          "2018-04-05T00:00:00",
          "2018-04-06T00:00:00",
          "2018-04-07T00:00:00",
          "2018-04-08T00:00:00",
          "2018-04-09T00:00:00",
          "2018-04-10T00:00:00",
          "2018-04-11T00:00:00",
          "2018-04-12T00:00:00",
          "2018-04-13T00:00:00",
          "2018-04-14T00:00:00",
          "2018-04-15T00:00:00",
          "2018-04-16T00:00:00",
          "2018-04-17T00:00:00",
          "2018-04-18T00:00:00",
          "2018-04-19T00:00:00",
          "2018-04-20T00:00:00",
          "2018-04-21T00:00:00",
          "2018-04-22T00:00:00",
          "2018-04-23T00:00:00",
          "2018-04-24T00:00:00",
          "2018-04-25T00:00:00",
          "2018-04-26T00:00:00",
          "2018-04-27T00:00:00",
          "2018-04-28T00:00:00",
          "2018-04-29T00:00:00",
          "2018-04-30T00:00:00",
          "2018-05-01T00:00:00",
          "2018-05-02T00:00:00",
          "2018-05-03T00:00:00",
          "2018-05-04T00:00:00",
          "2018-05-05T00:00:00",
          "2018-05-06T00:00:00",
          "2018-05-07T00:00:00",
          "2018-05-08T00:00:00",
          "2018-05-09T00:00:00",
          "2018-05-10T00:00:00",
          "2018-05-11T00:00:00",
          "2018-05-12T00:00:00",
          "2018-05-13T00:00:00",
          "2018-05-14T00:00:00",
          "2018-05-15T00:00:00",
          "2018-05-16T00:00:00",
          "2018-05-17T00:00:00",
          "2018-05-18T00:00:00",
          "2018-05-19T00:00:00",
          "2018-05-20T00:00:00",
          "2018-05-21T00:00:00",
          "2018-05-22T00:00:00",
          "2018-05-23T00:00:00",
          "2018-05-24T00:00:00",
          "2018-05-25T00:00:00",
          "2018-05-26T00:00:00",
          "2018-05-27T00:00:00",
          "2018-05-28T00:00:00",
          "2018-05-29T00:00:00",
          "2018-05-30T00:00:00",
          "2018-05-31T00:00:00",
          "2018-06-01T00:00:00",
          "2018-06-02T00:00:00",
          "2018-06-03T00:00:00",
          "2018-06-04T00:00:00",
          "2018-06-05T00:00:00",
          "2018-06-06T00:00:00",
          "2018-06-07T00:00:00",
          "2018-06-08T00:00:00",
          "2018-06-09T00:00:00",
          "2018-06-10T00:00:00",
          "2018-06-11T00:00:00",
          "2018-06-12T00:00:00",
          "2018-06-13T00:00:00",
          "2018-06-14T00:00:00",
          "2018-06-15T00:00:00",
          "2018-06-16T00:00:00",
          "2018-06-17T00:00:00",
          "2018-06-18T00:00:00",
          "2018-06-19T00:00:00",
          "2018-06-20T00:00:00",
          "2018-06-21T00:00:00",
          "2018-06-22T00:00:00",
          "2018-06-23T00:00:00",
          "2018-06-24T00:00:00",
          "2018-06-25T00:00:00",
          "2018-06-26T00:00:00",
          "2018-06-27T00:00:00",
          "2018-06-28T00:00:00",
          "2018-06-29T00:00:00",
          "2018-06-30T00:00:00",
          "2018-07-01T00:00:00",
          "2018-07-02T00:00:00",
          "2018-07-03T00:00:00",
          "2018-07-04T00:00:00",
          "2018-07-05T00:00:00",
          "2018-07-06T00:00:00",
          "2018-07-07T00:00:00",
          "2018-07-08T00:00:00",
          "2018-07-09T00:00:00",
          "2018-07-10T00:00:00",
          "2018-07-11T00:00:00",
          "2018-07-12T00:00:00",
          "2018-07-13T00:00:00",
          "2018-07-14T00:00:00",
          "2018-07-15T00:00:00",
          "2018-07-16T00:00:00",
          "2018-07-17T00:00:00",
          "2018-07-18T00:00:00",
          "2018-07-19T00:00:00",
          "2018-07-20T00:00:00",
          "2018-07-21T00:00:00",
          "2018-07-22T00:00:00",
          "2018-07-23T00:00:00",
          "2018-07-24T00:00:00",
          "2018-07-25T00:00:00",
          "2018-07-26T00:00:00",
          "2018-07-27T00:00:00",
          "2018-07-28T00:00:00",
          "2018-07-29T00:00:00",
          "2018-07-30T00:00:00",
          "2018-07-31T00:00:00",
          "2018-08-01T00:00:00",
          "2018-08-02T00:00:00",
          "2018-08-03T00:00:00",
          "2018-08-04T00:00:00",
          "2018-08-05T00:00:00",
          "2018-08-06T00:00:00",
          "2018-08-07T00:00:00",
          "2018-08-08T00:00:00",
          "2018-08-09T00:00:00",
          "2018-08-10T00:00:00",
          "2018-08-11T00:00:00",
          "2018-08-12T00:00:00",
          "2018-08-13T00:00:00",
          "2018-08-14T00:00:00",
          "2018-08-15T00:00:00",
          "2018-08-16T00:00:00",
          "2018-08-17T00:00:00",
          "2018-08-18T00:00:00",
          "2018-08-19T00:00:00",
          "2018-08-20T00:00:00",
          "2018-08-21T00:00:00",
          "2018-08-22T00:00:00",
          "2018-08-23T00:00:00",
          "2018-08-24T00:00:00",
          "2018-08-25T00:00:00",
          "2018-08-26T00:00:00",
          "2018-08-27T00:00:00",
          "2018-08-28T00:00:00",
          "2018-08-29T00:00:00",
          "2018-08-30T00:00:00",
          "2018-08-31T00:00:00",
          "2018-09-01T00:00:00",
          "2018-09-02T00:00:00",
          "2018-09-03T00:00:00",
          "2018-09-04T00:00:00",
          "2018-09-05T00:00:00",
          "2018-09-06T00:00:00",
          "2018-09-07T00:00:00",
          "2018-09-08T00:00:00",
          "2018-09-09T00:00:00",
          "2018-09-10T00:00:00",
          "2018-09-11T00:00:00",
          "2018-09-12T00:00:00",
          "2018-09-13T00:00:00",
          "2018-09-14T00:00:00",
          "2018-09-15T00:00:00",
          "2018-09-16T00:00:00",
          "2018-09-17T00:00:00",
          "2018-09-18T00:00:00",
          "2018-09-19T00:00:00",
          "2018-09-20T00:00:00",
          "2018-09-21T00:00:00",
          "2018-09-22T00:00:00",
          "2018-09-23T00:00:00",
          "2018-09-24T00:00:00",
          "2018-09-25T00:00:00",
          "2018-09-26T00:00:00",
          "2018-09-27T00:00:00",
          "2018-09-28T00:00:00",
          "2018-09-29T00:00:00",
          "2018-09-30T00:00:00",
          "2018-10-01T00:00:00",
          "2018-10-02T00:00:00",
          "2018-10-03T00:00:00",
          "2018-10-04T00:00:00",
          "2018-10-05T00:00:00",
          "2018-10-06T00:00:00",
          "2018-10-07T00:00:00",
          "2018-10-08T00:00:00",
          "2018-10-09T00:00:00",
          "2018-10-10T00:00:00",
          "2018-10-11T00:00:00",
          "2018-10-12T00:00:00",
          "2018-10-13T00:00:00",
          "2018-10-14T00:00:00",
          "2018-10-15T00:00:00",
          "2018-10-16T00:00:00",
          "2018-10-17T00:00:00",
          "2018-10-18T00:00:00",
          "2018-10-19T00:00:00",
          "2018-10-20T00:00:00",
          "2018-10-21T00:00:00",
          "2018-10-22T00:00:00",
          "2018-10-23T00:00:00",
          "2018-10-24T00:00:00",
          "2018-10-25T00:00:00",
          "2018-10-26T00:00:00",
          "2018-10-27T00:00:00",
          "2018-10-28T00:00:00",
          "2018-10-29T00:00:00",
          "2018-10-30T00:00:00",
          "2018-10-31T00:00:00",
          "2018-11-01T00:00:00",
          "2018-11-02T00:00:00",
          "2018-11-03T00:00:00",
          "2018-11-04T00:00:00",
          "2018-11-05T00:00:00",
          "2018-11-06T00:00:00",
          "2018-11-07T00:00:00",
          "2018-11-08T00:00:00",
          "2018-11-09T00:00:00",
          "2018-11-10T00:00:00",
          "2018-11-11T00:00:00",
          "2018-11-12T00:00:00",
          "2018-11-13T00:00:00",
          "2018-11-14T00:00:00",
          "2018-11-15T00:00:00",
          "2018-11-16T00:00:00",
          "2018-11-17T00:00:00",
          "2018-11-18T00:00:00",
          "2018-11-19T00:00:00",
          "2018-11-20T00:00:00",
          "2018-11-21T00:00:00",
          "2018-11-22T00:00:00",
          "2018-11-23T00:00:00",
          "2018-11-24T00:00:00",
          "2018-11-25T00:00:00",
          "2018-11-26T00:00:00",
          "2018-11-27T00:00:00",
          "2018-11-28T00:00:00",
          "2018-11-29T00:00:00",
          "2018-11-30T00:00:00",
          "2018-12-01T00:00:00",
          "2018-12-02T00:00:00",
          "2018-12-03T00:00:00",
          "2018-12-04T00:00:00",
          "2018-12-05T00:00:00",
          "2018-12-06T00:00:00",
          "2018-12-07T00:00:00",
          "2018-12-08T00:00:00",
          "2018-12-09T00:00:00",
          "2018-12-10T00:00:00",
          "2018-12-11T00:00:00",
          "2018-12-12T00:00:00",
          "2018-12-13T00:00:00",
          "2018-12-14T00:00:00",
          "2018-12-15T00:00:00",
          "2018-12-16T00:00:00",
          "2018-12-17T00:00:00",
          "2018-12-18T00:00:00",
          "2018-12-19T00:00:00",
          "2018-12-20T00:00:00",
          "2018-12-21T00:00:00",
          "2018-12-22T00:00:00",
          "2018-12-23T00:00:00",
          "2018-12-24T00:00:00",
          "2018-12-25T00:00:00",
          "2018-12-26T00:00:00",
          "2018-12-27T00:00:00",
          "2018-12-28T00:00:00",
          "2018-12-29T00:00:00",
          "2018-12-30T00:00:00"
         ],
         "xaxis": "x",
         "y": [
          90.53145712350855,
          88.51879208872678,
          87.77569402948049,
          84.97128767335664,
          85.09942460354848,
          83.11556110421279,
          87.56186807104798,
          91.73098115218768,
          89.87916347634828,
          85.44694065551694,
          84.11347966190685,
          83.8843667023602,
          78.4446879812808,
          80.85130636665538,
          88.73835039552746,
          88.32735685831871,
          83.26593016848052,
          76.84585889996566,
          75.92411528152664,
          78.50025671605164,
          81.70638380193574,
          78.88438787340749,
          81.35982176515643,
          85.90281416195079,
          87.28493037636089,
          78.53694746265208,
          80.20775414184475,
          81.48414153068464,
          86.79414781885436,
          90.1310396341959,
          90.62889216500369,
          88.98036802408132,
          84.16384179248644,
          83.70809841717833,
          86.03678334411872,
          87.54529639939939,
          83.81009533158549,
          85.23568869955828,
          85.55375852121924,
          84.2266908259072,
          82.67864243737785,
          85.37904733098242,
          84.18995396337242,
          76.00602868465526,
          81.34147379266518,
          83.87848630412685,
          88.86848115218768,
          87.63091405996745,
          84.78913531257845,
          86.01663457062833,
          89.90058874211135,
          88.83743374565944,
          83.64550878689174,
          78.93441374569612,
          77.3236837837192,
          78.37236404816585,
          81.03234044953844,
          80.88336823964495,
          80.93564617100635,
          84.20471493963771,
          74.95939015560825,
          78.97092398129776,
          83.83855322813913,
          81.59289241171071,
          83.60544558051308,
          80.45949791653871,
          89.21925010616695,
          89.61388099591629,
          87.59827918004245,
          79.13506658207638,
          85.48366655983511,
          84.10673167458151,
          86.79814049666204,
          85.11178366480313,
          83.18151711545282,
          80.24450693187721,
          87.57264021891515,
          82.54744796726627,
          80.9637196983271,
          76.21019045814762,
          83.39114599971064,
          85.78512243891936,
          84.96094145750918,
          73.23235875351743,
          72.29726927924824,
          74.59446588517696,
          79.07329351618563,
          73.92276842867105,
          68.95904997837256,
          73.43546220335888,
          80.85179380391693,
          84.39093123182252,
          80.2116864231211,
          84.77122259870113,
          79.50334492075054,
          77.03186738292696,
          77.64443136094701,
          75.74654746782412,
          72.25489750168062,
          78.93592248832533,
          76.5411598078789,
          78.49289261435698,
          81.76577739609957,
          79.12971351229471,
          82.58202756156967,
          77.86550624673572,
          79.06635481642405,
          74.2444567750193,
          69.46193127053992,
          67.03758677737987,
          72.79425461595767,
          79.86251554689765,
          73.38435903648097,
          75.09350889487934,
          69.51079046901528,
          77.68108737490937,
          74.38594275296467,
          80.36718037575801,
          73.17301504540022,
          75.9284989656884,
          80.20925359917089,
          80.08457217752715,
          84.70089002877359,
          84.46673449392351,
          79.76293226559856,
          86.54795109019611,
          83.36674517059231,
          83.07438420105815,
          75.33226636301514,
          72.16678238059627,
          82.15792494662128,
          82.2878566561422,
          77.73723299932227,
          76.59067756528326,
          74.25123789182094,
          73.25203845200616,
          80.20202758310855,
          88.67683585123227,
          82.32730611159847,
          79.77489361081412,
          75.72116378143991,
          73.4714748132573,
          80.76942991439088,
          83.45285956542445,
          74.5367413581205,
          69.78272475453022,
          76.79521193012647,
          79.34189512754028,
          82.74520539215864,
          81.55823821977317,
          80.10070461643926,
          75.09574477384723,
          78.28556057551087,
          81.05362671649223,
          75.0539192174899,
          75.75540721764061,
          78.33351689881329,
          75.59234604429315,
          75.65082486871118,
          76.74423552403987,
          72.24412349568809,
          77.57336898728524,
          77.38657809310692,
          76.85158397844442,
          72.83535804049866,
          75.91503610713642,
          76.46714329057795,
          75.47850451981991,
          73.38289024888313,
          70.14734207384832,
          69.26506255047501,
          68.2045796989647,
          78.70725958818353,
          77.24256259301015,
          76.18076464292062,
          76.95696000803855,
          75.88917121595841,
          83.8231741891695,
          84.17215088387283,
          80.63440810352093,
          84.6117768700547,
          83.35421365310013,
          82.18383038418533,
          80.0521114307646,
          77.84595940238954,
          73.11863998566812,
          70.4102567926155,
          71.60419920536793,
          75.64614669435652,
          76.38372845342062,
          80.83061439537818,
          77.1646339401381,
          81.71117600015727,
          73.20392218574703,
          77.20747943059669,
          75.59826359505946,
          80.92063173141779,
          78.68325799467291,
          68.88156130263579,
          75.1387100628793,
          76.89802993376777,
          71.79719942047282,
          78.95946114748624,
          80.43941234840611,
          84.14843120866327,
          79.30870876671666,
          85.25336332110123,
          77.36343755675205,
          75.76624929269337,
          77.38231321975388,
          74.54725215531396,
          75.81759830567668,
          75.13215988212022,
          73.37709083697568,
          74.82603731718501,
          79.0018485947398,
          77.48516854154866,
          74.4775892548864,
          72.53819797755399,
          82.6529760254619,
          82.07128807916406,
          84.3869314573376,
          79.79171187122334,
          84.5208507566596,
          77.74222401704783,
          74.70006464470704,
          79.36169057843773,
          77.93670322963995,
          83.38352277857344,
          79.52862146580249,
          77.31794478042531,
          75.24386480123862,
          82.85993951406218,
          79.98512402200234,
          81.14321792879808,
          78.81857431711451,
          78.687340301761,
          79.18702430329996,
          76.5552084792605,
          75.1899665481807,
          75.3078404893394,
          87.45163410491854,
          80.77196910174762,
          82.06981805308433,
          79.12741055862024,
          81.62778679985774,
          85.1547416162769,
          83.44820491171684,
          78.76603581405384,
          80.75911521613807,
          86.11913182126179,
          83.26554585623867,
          82.33114898777302,
          81.27486666814002,
          79.54456402993625,
          83.48414429536443,
          80.75410097287586,
          82.57228719926292,
          84.34876706922994,
          84.22987516868326,
          84.64779772256877,
          81.82933700906815,
          81.52498827210705,
          79.17516329040248,
          79.17341593532079,
          78.40380373414038,
          77.49130762964899,
          84.23234928802191,
          84.30081472445787,
          83.44547271575047,
          85.6921349843966,
          85.17533039348118,
          79.4337424799018,
          86.56044796726626,
          83.01084046964503,
          79.4383298973943,
          80.33380015626801,
          84.38254490967263,
          78.99144511563814,
          82.79710336189748,
          84.78425732919173,
          86.37878887652346,
          84.34941182347868,
          80.55323165967289,
          83.32512888082411,
          84.19614282657518,
          84.49144701693481,
          79.47432928080087,
          78.27862811932124,
          83.4565233359644,
          86.34295175349666,
          82.99775457026908,
          79.11631360993569,
          78.37291312910676,
          80.32984971659475,
          88.04100580092187,
          87.86395709815044,
          85.84161866458133,
          89.82780411101317,
          84.7003171992086,
          83.8504069818327,
          84.25563484099554,
          81.394321640692,
          83.62211430386157,
          79.29987526989302,
          86.10311524120726,
          86.00018748250415,
          85.51989892435014,
          80.9244213978209,
          80.58633690766766,
          80.92490448954446,
          85.39218068207468,
          86.18085620191188,
          83.09543852466958,
          89.09475526602685,
          81.39539206840067,
          80.05697005727426,
          84.15906153249504,
          85.35256853447187,
          87.2852506848155,
          87.49258785904593,
          86.4275666992657,
          83.3750451299708,
          86.51222151200889,
          84.42609098796784,
          75.7556022010967,
          80.18817476620076,
          87.11453700217174,
          82.26796998079297,
          81.99739620604834,
          86.13211176530736,
          84.04211114871144,
          85.16075293397641,
          81.65719044837428,
          84.87147372065438,
          88.07062650241889,
          89.97639134260153,
          86.39127888128526,
          86.84639163836114,
          81.77504120200518,
          86.15272785078923,
          78.4973924117107,
          83.51672574504404,
          84.11334315299699,
          86.27499970599729,
          83.80865258996229,
          86.29702468865489,
          82.31476901012499,
          83.8622094774903,
          81.63485149032115,
          87.49524462498944,
          85.43407162781212,
          89.94898651832793,
          90.8252715934659,
          91.48394796726626,
          90.87394756891636,
          90.49189241171071,
          89.4004765702344,
          87.31721842029187,
          84.88914408450204,
          82.27008290447192,
          82.679277208093,
          84.2189366747033,
          86.66717256324779,
          82.09721147474743,
          81.86241283514902,
          85.33423992832839,
          79.93357699048542,
          86.03057965651382,
          83.47005480870551,
          87.63145925705822,
          84.59835434947657,
          85.98710979650215,
          89.20146026457952,
          87.78681619310333,
          90.81601115853373,
          88.928839142064,
          86.23492574766783,
          87.90853126581335,
          87.11658719428496,
          82.13974275361836,
          78.09216825885086,
          83.28212693165848,
          81.89463536974527,
          87.68648268933711,
          88.83224630815498,
          85.82412320302878,
          87.19120771535408,
          85.16553899335345,
          85.84406490536621,
          86.31333267070396,
          87.84522695903989,
          89.72504316704274,
          86.0584463906692,
          89.40472780778599,
          85.3633512593706,
          80.27399631930935,
          81.93399042397307,
          87.56923380610158,
          79.59404931284372,
          81.60345984579997,
          81.47508058137723,
          80.57513121526279,
          82.60482710306628,
          82.08265003815781,
          82.94996440196226,
          80.29145983575222,
          79.26304138589053,
          84.17981938775753,
          87.10541619705411,
          86.4025417158325,
          81.29063580993203,
          80.54351952904292,
          84.82834757710928,
          90.42698649023225,
          88.26961552307213,
          79.34895369596006,
          76.57180381937272,
          73.35751356461674,
          69.59332816618183,
          64.9401706194661,
          65.45587147853351,
          67.22194296295585,
          63.07165377137106,
          78.46128859853404,
          79.94279015071983,
          80.79402779962288,
          86.97044274572134,
          83.76040772510838,
          84.79208092558022,
          84.17054533920953,
          83.7100660741479,
          85.83867046376281,
          82.64637729388392,
          79.49493023718718,
          83.40591573258968,
          82.02011358587504,
          75.40837053712715,
          81.49524541983179,
          82.22849499262094,
          86.14603623712885,
          82.19433730140993,
          80.60471120966305,
          74.57472297033225,
          77.86536170357158,
          79.43507047148343,
          82.93206682324005,
          82.31581401516212,
          82.29212318919079,
          79.71015773074033,
          85.7778172339649,
          84.51644202752281,
          82.49734841418294,
          83.69855981257375,
          82.78211837113231,
          79.14825786436447,
          79.03437868685745,
          82.76731093273612,
          80.82003601553554,
          75.13773416207256,
          72.53697583784667,
          80.23572197473592,
          85.10080074332106,
          86.46266747077473,
          81.89690229770459,
          78.20727498267144,
          85.33597707801572,
          83.54477428022572,
          85.17294309938879,
          82.66004118771964,
          76.82401381536071,
          71.9776977203805,
          69.84469702197231,
          69.94694848787375,
          73.37125596172712,
          71.55570725180823,
          75.11812775923951,
          79.3995480905721,
          79.5764037471926,
          78.84366119885911,
          75.42643603929717,
          75.77462204963109,
          79.78561074960051,
          87.71778555871492,
          86.17218688742612,
          75.31474568173944,
          81.36153273038163,
          78.19531141856395,
          77.12187365246106,
          75.76476185149693,
          75.81437550699809,
          74.16216277430716,
          78.46297989212529,
          79.76577358445043,
          77.14999612206923,
          73.48848882280765,
          85.62028621227178,
          80.55492242518636,
          78.2248363234748,
          78.86966366004727,
          80.77765749671478,
          75.84474948712403,
          76.4308985607055,
          77.77006624097505,
          79.41890333766584,
          79.47120990671353,
          79.08363465235354,
          83.67127446437682,
          83.76727330596297,
          85.24013037789754,
          79.23384677918473,
          77.55485512494906,
          80.80152137386798,
          85.83610689066444,
          81.16453569899339,
          83.94151164449569,
          84.83707249591892,
          80.32950528721723,
          76.83509469850414,
          84.99759714483802,
          87.69890455780214,
          87.14963092541474,
          83.8860193475662,
          84.07256704713738,
          85.51207692326187,
          85.24474035118298,
          86.04748340789034,
          83.5132845835831,
          78.09920453257949,
          82.67117432386371,
          78.7640578872396,
          77.20840465418354,
          77.20466775554975,
          81.473754653257,
          83.02753016006005,
          81.15745963706591,
          73.68286174647808,
          72.27938794480208,
          69.57389011984556,
          70.2378656526758,
          72.55182936674767,
          71.45074482531854,
          74.64579621757947,
          72.80292543687953,
          72.70846082178196,
          74.0095093640023,
          73.44317441394023,
          70.19250027908745,
          76.9285692645011,
          77.84974261572685,
          78.20773337415623,
          76.08293317892786,
          72.12083258007324,
          70.99527273221621,
          69.73190190633032,
          72.13771782580116,
          75.9092785541896,
          76.71571896612029,
          75.6499351613802,
          73.50681595817788,
          71.38696773099021,
          69.64665145976296,
          72.5570656825664,
          69.67346211114071,
          70.22579090061353,
          82.946830797761,
          80.87264578916539,
          76.93249930731957,
          74.1410093401541,
          73.72303871130977,
          73.79726155851921,
          69.60242486085785,
          75.6575284928435,
          70.77729669136981,
          77.11021084651806,
          77.28726665228902,
          74.47544232771737,
          73.27394513220182,
          71.55751940975358,
          69.07815175018457,
          73.22869183757737,
          71.39526766252374,
          68.20969031096652,
          72.84512662313021,
          72.73568217644839,
          81.99715072184614,
          76.45716333660242,
          75.76652080094446,
          74.22546485758646,
          81.78675629022338,
          79.28936622392531,
          78.57070048559557,
          81.01363031406146,
          76.90389302006766,
          79.97345458254671,
          80.01077431079896,
          82.30364680537586,
          83.07339858575568,
          81.4748874349867,
          81.63441086428693,
          75.15269860943997,
          74.95869012618388,
          76.53702282630418,
          78.49575188298351,
          75.79141320588425,
          83.77235959781223,
          82.01785129578217,
          77.68212195561536,
          71.20236771889509,
          71.32341319931224,
          76.70351199952854,
          83.08730950879699,
          86.47529286687957,
          79.47506450979864,
          75.06664104140464,
          75.73500957807816,
          75.27574398986029,
          78.63714548475198,
          77.29241465647733,
          82.2368421047732,
          81.26462615854317,
          77.51066550138616,
          77.5278384579864,
          73.0307150729413,
          66.77800397640691,
          75.34861300238973,
          77.28905619400362,
          75.88076142462116,
          72.81805582590025,
          80.86800363788274,
          84.81294224848266,
          75.01004638568729,
          73.22450765350304,
          72.67183746791281,
          72.58249842199601,
          77.95928850171656,
          71.87714551067057,
          76.46986562762179,
          71.8548929794971,
          83.85469578348948,
          80.91415897980612,
          79.85888963956299,
          74.98581933300446,
          82.60677159078884,
          82.1176471365635,
          79.06111463393293,
          79.2789300699567,
          76.03166433598402,
          80.33676454983562,
          78.10540664798413,
          76.26203798410243,
          78.77916733009668,
          78.33514781885435,
          78.23055892649096,
          82.70345136881257,
          80.5263945494261,
          82.01138497921146,
          80.12911208953402,
          79.93711071196505,
          81.63308722598651,
          79.9894992711064,
          85.0772592411266,
          83.2714507668004,
          78.38203956356683,
          81.22058236136567,
          76.85243543154111,
          79.49375107455568,
          79.66844420347094,
          82.88925546052059,
          83.64158016838321,
          78.85797271224287,
          79.46391919904106,
          82.03576876487445,
          81.09435309999482,
          82.19401212345544,
          83.05366418837805,
          82.50107838164142,
          82.01137672954596,
          85.41225555046861,
          85.06832954711969,
          85.20856788913616,
          82.3147918516826,
          86.09490951607837,
          88.7159822052374,
          89.75601870240281,
          84.01002089538527,
          76.20338712345544,
          77.23949443313666,
          84.11550335152562,
          84.21186937928327,
          88.43870912971975,
          88.13857289948295,
          87.66976724234372,
          88.06003323699687,
          85.73983827234133,
          87.34695903389228,
          84.39581647928551,
          79.04959071243219,
          82.62500492519015,
          87.3473765313264,
          87.26559199092773,
          84.1861383611445,
          81.46369734326139,
          86.31519061927544,
          86.20615512765742,
          82.39216467528846,
          81.6423480503854,
          79.64255861782054,
          81.36553812453259,
          85.62864471899641,
          82.6448603019576,
          80.67059385697726,
          80.19014757738982,
          84.15599269367344,
          88.5429657831355,
          85.72214877143674,
          82.25050184342602,
          84.71343597139823,
          83.17285299765445,
          84.87346945313763,
          83.4663162411997,
          88.26193662877748,
          86.20621459422735,
          83.63292230051215,
          82.8843089833749,
          86.00953138486712,
          89.03261903816488,
          87.92584766432087,
          89.09126569905631
         ],
         "yaxis": "y"
        }
       ],
       "layout": {
        "legend": {
         "title": {
          "text": "variable"
         },
         "tracegroupgap": 0
        },
        "template": {
         "data": {
          "bar": [
           {
            "error_x": {
             "color": "#2a3f5f"
            },
            "error_y": {
             "color": "#2a3f5f"
            },
            "marker": {
             "line": {
              "color": "#E5ECF6",
              "width": 0.5
             },
             "pattern": {
              "fillmode": "overlay",
              "size": 10,
              "solidity": 0.2
             }
            },
            "type": "bar"
           }
          ],
          "barpolar": [
           {
            "marker": {
             "line": {
              "color": "#E5ECF6",
              "width": 0.5
             },
             "pattern": {
              "fillmode": "overlay",
              "size": 10,
              "solidity": 0.2
             }
            },
            "type": "barpolar"
           }
          ],
          "carpet": [
           {
            "aaxis": {
             "endlinecolor": "#2a3f5f",
             "gridcolor": "white",
             "linecolor": "white",
             "minorgridcolor": "white",
             "startlinecolor": "#2a3f5f"
            },
            "baxis": {
             "endlinecolor": "#2a3f5f",
             "gridcolor": "white",
             "linecolor": "white",
             "minorgridcolor": "white",
             "startlinecolor": "#2a3f5f"
            },
            "type": "carpet"
           }
          ],
          "choropleth": [
           {
            "colorbar": {
             "outlinewidth": 0,
             "ticks": ""
            },
            "type": "choropleth"
           }
          ],
          "contour": [
           {
            "colorbar": {
             "outlinewidth": 0,
             "ticks": ""
            },
            "colorscale": [
             [
              0,
              "#0d0887"
             ],
             [
              0.1111111111111111,
              "#46039f"
             ],
             [
              0.2222222222222222,
              "#7201a8"
             ],
             [
              0.3333333333333333,
              "#9c179e"
             ],
             [
              0.4444444444444444,
              "#bd3786"
             ],
             [
              0.5555555555555556,
              "#d8576b"
             ],
             [
              0.6666666666666666,
              "#ed7953"
             ],
             [
              0.7777777777777778,
              "#fb9f3a"
             ],
             [
              0.8888888888888888,
              "#fdca26"
             ],
             [
              1,
              "#f0f921"
             ]
            ],
            "type": "contour"
           }
          ],
          "contourcarpet": [
           {
            "colorbar": {
             "outlinewidth": 0,
             "ticks": ""
            },
            "type": "contourcarpet"
           }
          ],
          "heatmap": [
           {
            "colorbar": {
             "outlinewidth": 0,
             "ticks": ""
            },
            "colorscale": [
             [
              0,
              "#0d0887"
             ],
             [
              0.1111111111111111,
              "#46039f"
             ],
             [
              0.2222222222222222,
              "#7201a8"
             ],
             [
              0.3333333333333333,
              "#9c179e"
             ],
             [
              0.4444444444444444,
              "#bd3786"
             ],
             [
              0.5555555555555556,
              "#d8576b"
             ],
             [
              0.6666666666666666,
              "#ed7953"
             ],
             [
              0.7777777777777778,
              "#fb9f3a"
             ],
             [
              0.8888888888888888,
              "#fdca26"
             ],
             [
              1,
              "#f0f921"
             ]
            ],
            "type": "heatmap"
           }
          ],
          "heatmapgl": [
           {
            "colorbar": {
             "outlinewidth": 0,
             "ticks": ""
            },
            "colorscale": [
             [
              0,
              "#0d0887"
             ],
             [
              0.1111111111111111,
              "#46039f"
             ],
             [
              0.2222222222222222,
              "#7201a8"
             ],
             [
              0.3333333333333333,
              "#9c179e"
             ],
             [
              0.4444444444444444,
              "#bd3786"
             ],
             [
              0.5555555555555556,
              "#d8576b"
             ],
             [
              0.6666666666666666,
              "#ed7953"
             ],
             [
              0.7777777777777778,
              "#fb9f3a"
             ],
             [
              0.8888888888888888,
              "#fdca26"
             ],
             [
              1,
              "#f0f921"
             ]
            ],
            "type": "heatmapgl"
           }
          ],
          "histogram": [
           {
            "marker": {
             "pattern": {
              "fillmode": "overlay",
              "size": 10,
              "solidity": 0.2
             }
            },
            "type": "histogram"
           }
          ],
          "histogram2d": [
           {
            "colorbar": {
             "outlinewidth": 0,
             "ticks": ""
            },
            "colorscale": [
             [
              0,
              "#0d0887"
             ],
             [
              0.1111111111111111,
              "#46039f"
             ],
             [
              0.2222222222222222,
              "#7201a8"
             ],
             [
              0.3333333333333333,
              "#9c179e"
             ],
             [
              0.4444444444444444,
              "#bd3786"
             ],
             [
              0.5555555555555556,
              "#d8576b"
             ],
             [
              0.6666666666666666,
              "#ed7953"
             ],
             [
              0.7777777777777778,
              "#fb9f3a"
             ],
             [
              0.8888888888888888,
              "#fdca26"
             ],
             [
              1,
              "#f0f921"
             ]
            ],
            "type": "histogram2d"
           }
          ],
          "histogram2dcontour": [
           {
            "colorbar": {
             "outlinewidth": 0,
             "ticks": ""
            },
            "colorscale": [
             [
              0,
              "#0d0887"
             ],
             [
              0.1111111111111111,
              "#46039f"
             ],
             [
              0.2222222222222222,
              "#7201a8"
             ],
             [
              0.3333333333333333,
              "#9c179e"
             ],
             [
              0.4444444444444444,
              "#bd3786"
             ],
             [
              0.5555555555555556,
              "#d8576b"
             ],
             [
              0.6666666666666666,
              "#ed7953"
             ],
             [
              0.7777777777777778,
              "#fb9f3a"
             ],
             [
              0.8888888888888888,
              "#fdca26"
             ],
             [
              1,
              "#f0f921"
             ]
            ],
            "type": "histogram2dcontour"
           }
          ],
          "mesh3d": [
           {
            "colorbar": {
             "outlinewidth": 0,
             "ticks": ""
            },
            "type": "mesh3d"
           }
          ],
          "parcoords": [
           {
            "line": {
             "colorbar": {
              "outlinewidth": 0,
              "ticks": ""
             }
            },
            "type": "parcoords"
           }
          ],
          "pie": [
           {
            "automargin": true,
            "type": "pie"
           }
          ],
          "scatter": [
           {
            "fillpattern": {
             "fillmode": "overlay",
             "size": 10,
             "solidity": 0.2
            },
            "type": "scatter"
           }
          ],
          "scatter3d": [
           {
            "line": {
             "colorbar": {
              "outlinewidth": 0,
              "ticks": ""
             }
            },
            "marker": {
             "colorbar": {
              "outlinewidth": 0,
              "ticks": ""
             }
            },
            "type": "scatter3d"
           }
          ],
          "scattercarpet": [
           {
            "marker": {
             "colorbar": {
              "outlinewidth": 0,
              "ticks": ""
             }
            },
            "type": "scattercarpet"
           }
          ],
          "scattergeo": [
           {
            "marker": {
             "colorbar": {
              "outlinewidth": 0,
              "ticks": ""
             }
            },
            "type": "scattergeo"
           }
          ],
          "scattergl": [
           {
            "marker": {
             "colorbar": {
              "outlinewidth": 0,
              "ticks": ""
             }
            },
            "type": "scattergl"
           }
          ],
          "scattermapbox": [
           {
            "marker": {
             "colorbar": {
              "outlinewidth": 0,
              "ticks": ""
             }
            },
            "type": "scattermapbox"
           }
          ],
          "scatterpolar": [
           {
            "marker": {
             "colorbar": {
              "outlinewidth": 0,
              "ticks": ""
             }
            },
            "type": "scatterpolar"
           }
          ],
          "scatterpolargl": [
           {
            "marker": {
             "colorbar": {
              "outlinewidth": 0,
              "ticks": ""
             }
            },
            "type": "scatterpolargl"
           }
          ],
          "scatterternary": [
           {
            "marker": {
             "colorbar": {
              "outlinewidth": 0,
              "ticks": ""
             }
            },
            "type": "scatterternary"
           }
          ],
          "surface": [
           {
            "colorbar": {
             "outlinewidth": 0,
             "ticks": ""
            },
            "colorscale": [
             [
              0,
              "#0d0887"
             ],
             [
              0.1111111111111111,
              "#46039f"
             ],
             [
              0.2222222222222222,
              "#7201a8"
             ],
             [
              0.3333333333333333,
              "#9c179e"
             ],
             [
              0.4444444444444444,
              "#bd3786"
             ],
             [
              0.5555555555555556,
              "#d8576b"
             ],
             [
              0.6666666666666666,
              "#ed7953"
             ],
             [
              0.7777777777777778,
              "#fb9f3a"
             ],
             [
              0.8888888888888888,
              "#fdca26"
             ],
             [
              1,
              "#f0f921"
             ]
            ],
            "type": "surface"
           }
          ],
          "table": [
           {
            "cells": {
             "fill": {
              "color": "#EBF0F8"
             },
             "line": {
              "color": "white"
             }
            },
            "header": {
             "fill": {
              "color": "#C8D4E3"
             },
             "line": {
              "color": "white"
             }
            },
            "type": "table"
           }
          ]
         },
         "layout": {
          "annotationdefaults": {
           "arrowcolor": "#2a3f5f",
           "arrowhead": 0,
           "arrowwidth": 1
          },
          "autotypenumbers": "strict",
          "coloraxis": {
           "colorbar": {
            "outlinewidth": 0,
            "ticks": ""
           }
          },
          "colorscale": {
           "diverging": [
            [
             0,
             "#8e0152"
            ],
            [
             0.1,
             "#c51b7d"
            ],
            [
             0.2,
             "#de77ae"
            ],
            [
             0.3,
             "#f1b6da"
            ],
            [
             0.4,
             "#fde0ef"
            ],
            [
             0.5,
             "#f7f7f7"
            ],
            [
             0.6,
             "#e6f5d0"
            ],
            [
             0.7,
             "#b8e186"
            ],
            [
             0.8,
             "#7fbc41"
            ],
            [
             0.9,
             "#4d9221"
            ],
            [
             1,
             "#276419"
            ]
           ],
           "sequential": [
            [
             0,
             "#0d0887"
            ],
            [
             0.1111111111111111,
             "#46039f"
            ],
            [
             0.2222222222222222,
             "#7201a8"
            ],
            [
             0.3333333333333333,
             "#9c179e"
            ],
            [
             0.4444444444444444,
             "#bd3786"
            ],
            [
             0.5555555555555556,
             "#d8576b"
            ],
            [
             0.6666666666666666,
             "#ed7953"
            ],
            [
             0.7777777777777778,
             "#fb9f3a"
            ],
            [
             0.8888888888888888,
             "#fdca26"
            ],
            [
             1,
             "#f0f921"
            ]
           ],
           "sequentialminus": [
            [
             0,
             "#0d0887"
            ],
            [
             0.1111111111111111,
             "#46039f"
            ],
            [
             0.2222222222222222,
             "#7201a8"
            ],
            [
             0.3333333333333333,
             "#9c179e"
            ],
            [
             0.4444444444444444,
             "#bd3786"
            ],
            [
             0.5555555555555556,
             "#d8576b"
            ],
            [
             0.6666666666666666,
             "#ed7953"
            ],
            [
             0.7777777777777778,
             "#fb9f3a"
            ],
            [
             0.8888888888888888,
             "#fdca26"
            ],
            [
             1,
             "#f0f921"
            ]
           ]
          },
          "colorway": [
           "#636efa",
           "#EF553B",
           "#00cc96",
           "#ab63fa",
           "#FFA15A",
           "#19d3f3",
           "#FF6692",
           "#B6E880",
           "#FF97FF",
           "#FECB52"
          ],
          "font": {
           "color": "#2a3f5f"
          },
          "geo": {
           "bgcolor": "white",
           "lakecolor": "white",
           "landcolor": "#E5ECF6",
           "showlakes": true,
           "showland": true,
           "subunitcolor": "white"
          },
          "hoverlabel": {
           "align": "left"
          },
          "hovermode": "closest",
          "mapbox": {
           "style": "light"
          },
          "paper_bgcolor": "white",
          "plot_bgcolor": "#E5ECF6",
          "polar": {
           "angularaxis": {
            "gridcolor": "white",
            "linecolor": "white",
            "ticks": ""
           },
           "bgcolor": "#E5ECF6",
           "radialaxis": {
            "gridcolor": "white",
            "linecolor": "white",
            "ticks": ""
           }
          },
          "scene": {
           "xaxis": {
            "backgroundcolor": "#E5ECF6",
            "gridcolor": "white",
            "gridwidth": 2,
            "linecolor": "white",
            "showbackground": true,
            "ticks": "",
            "zerolinecolor": "white"
           },
           "yaxis": {
            "backgroundcolor": "#E5ECF6",
            "gridcolor": "white",
            "gridwidth": 2,
            "linecolor": "white",
            "showbackground": true,
            "ticks": "",
            "zerolinecolor": "white"
           },
           "zaxis": {
            "backgroundcolor": "#E5ECF6",
            "gridcolor": "white",
            "gridwidth": 2,
            "linecolor": "white",
            "showbackground": true,
            "ticks": "",
            "zerolinecolor": "white"
           }
          },
          "shapedefaults": {
           "line": {
            "color": "#2a3f5f"
           }
          },
          "ternary": {
           "aaxis": {
            "gridcolor": "white",
            "linecolor": "white",
            "ticks": ""
           },
           "baxis": {
            "gridcolor": "white",
            "linecolor": "white",
            "ticks": ""
           },
           "bgcolor": "#E5ECF6",
           "caxis": {
            "gridcolor": "white",
            "linecolor": "white",
            "ticks": ""
           }
          },
          "title": {
           "x": 0.05
          },
          "xaxis": {
           "automargin": true,
           "gridcolor": "white",
           "linecolor": "white",
           "ticks": "",
           "title": {
            "standoff": 15
           },
           "zerolinecolor": "white",
           "zerolinewidth": 2
          },
          "yaxis": {
           "automargin": true,
           "gridcolor": "white",
           "linecolor": "white",
           "ticks": "",
           "title": {
            "standoff": 15
           },
           "zerolinecolor": "white",
           "zerolinewidth": 2
          }
         }
        },
        "title": {
         "text": "Temperature (°C) - Humidity ratio"
        },
        "xaxis": {
         "anchor": "y",
         "domain": [
          0,
          1
         ],
         "rangeselector": {
          "buttons": [
           {
            "count": 1,
            "label": "1m",
            "step": "month",
            "stepmode": "backward"
           },
           {
            "count": 6,
            "label": "6m",
            "step": "month",
            "stepmode": "backward"
           },
           {
            "count": 1,
            "label": "YTD",
            "step": "year",
            "stepmode": "todate"
           },
           {
            "count": 1,
            "label": "1y",
            "step": "year",
            "stepmode": "backward"
           },
           {
            "step": "all"
           }
          ]
         },
         "rangeslider": {
          "visible": true
         },
         "title": {
          "text": "date"
         }
        },
        "yaxis": {
         "anchor": "x",
         "domain": [
          0,
          1
         ],
         "title": {
          "text": "value"
         }
        }
       }
      },
      "text/html": [
       "<div>                            <div id=\"f54e99e9-779c-4471-97dc-2624a02b2727\" class=\"plotly-graph-div\" style=\"height:525px; width:100%;\"></div>            <script type=\"text/javascript\">                require([\"plotly\"], function(Plotly) {                    window.PLOTLYENV=window.PLOTLYENV || {};                                    if (document.getElementById(\"f54e99e9-779c-4471-97dc-2624a02b2727\")) {                    Plotly.newPlot(                        \"f54e99e9-779c-4471-97dc-2624a02b2727\",                        [{\"hovertemplate\":\"variable=t<br>date=%{x}<br>value=%{y}<extra></extra>\",\"legendgroup\":\"t\",\"line\":{\"color\":\"#636efa\",\"dash\":\"solid\"},\"marker\":{\"symbol\":\"circle\"},\"mode\":\"lines\",\"name\":\"t\",\"showlegend\":true,\"x\":[\"2017-01-01T00:00:00\",\"2017-01-02T00:00:00\",\"2017-01-03T00:00:00\",\"2017-01-04T00:00:00\",\"2017-01-05T00:00:00\",\"2017-01-06T00:00:00\",\"2017-01-07T00:00:00\",\"2017-01-08T00:00:00\",\"2017-01-09T00:00:00\",\"2017-01-10T00:00:00\",\"2017-01-11T00:00:00\",\"2017-01-12T00:00:00\",\"2017-01-13T00:00:00\",\"2017-01-14T00:00:00\",\"2017-01-15T00:00:00\",\"2017-01-16T00:00:00\",\"2017-01-17T00:00:00\",\"2017-01-18T00:00:00\",\"2017-01-19T00:00:00\",\"2017-01-20T00:00:00\",\"2017-01-21T00:00:00\",\"2017-01-22T00:00:00\",\"2017-01-23T00:00:00\",\"2017-01-24T00:00:00\",\"2017-01-25T00:00:00\",\"2017-01-26T00:00:00\",\"2017-01-27T00:00:00\",\"2017-01-28T00:00:00\",\"2017-01-29T00:00:00\",\"2017-01-30T00:00:00\",\"2017-01-31T00:00:00\",\"2017-02-01T00:00:00\",\"2017-02-02T00:00:00\",\"2017-02-03T00:00:00\",\"2017-02-04T00:00:00\",\"2017-02-05T00:00:00\",\"2017-02-06T00:00:00\",\"2017-02-07T00:00:00\",\"2017-02-08T00:00:00\",\"2017-02-09T00:00:00\",\"2017-02-10T00:00:00\",\"2017-02-11T00:00:00\",\"2017-02-12T00:00:00\",\"2017-02-13T00:00:00\",\"2017-02-14T00:00:00\",\"2017-02-15T00:00:00\",\"2017-02-16T00:00:00\",\"2017-02-17T00:00:00\",\"2017-02-18T00:00:00\",\"2017-02-19T00:00:00\",\"2017-02-20T00:00:00\",\"2017-02-21T00:00:00\",\"2017-02-22T00:00:00\",\"2017-02-23T00:00:00\",\"2017-02-24T00:00:00\",\"2017-02-25T00:00:00\",\"2017-02-26T00:00:00\",\"2017-02-27T00:00:00\",\"2017-02-28T00:00:00\",\"2017-03-01T00:00:00\",\"2017-03-02T00:00:00\",\"2017-03-03T00:00:00\",\"2017-03-04T00:00:00\",\"2017-03-05T00:00:00\",\"2017-03-06T00:00:00\",\"2017-03-07T00:00:00\",\"2017-03-08T00:00:00\",\"2017-03-09T00:00:00\",\"2017-03-10T00:00:00\",\"2017-03-11T00:00:00\",\"2017-03-12T00:00:00\",\"2017-03-13T00:00:00\",\"2017-03-14T00:00:00\",\"2017-03-15T00:00:00\",\"2017-03-16T00:00:00\",\"2017-03-17T00:00:00\",\"2017-03-18T00:00:00\",\"2017-03-19T00:00:00\",\"2017-03-20T00:00:00\",\"2017-03-21T00:00:00\",\"2017-03-22T00:00:00\",\"2017-03-23T00:00:00\",\"2017-03-24T00:00:00\",\"2017-03-25T00:00:00\",\"2017-03-26T00:00:00\",\"2017-03-27T00:00:00\",\"2017-03-28T00:00:00\",\"2017-03-29T00:00:00\",\"2017-03-30T00:00:00\",\"2017-03-31T00:00:00\",\"2017-04-01T00:00:00\",\"2017-04-02T00:00:00\",\"2017-04-03T00:00:00\",\"2017-04-04T00:00:00\",\"2017-04-05T00:00:00\",\"2017-04-06T00:00:00\",\"2017-04-07T00:00:00\",\"2017-04-08T00:00:00\",\"2017-04-09T00:00:00\",\"2017-04-10T00:00:00\",\"2017-04-11T00:00:00\",\"2017-04-12T00:00:00\",\"2017-04-13T00:00:00\",\"2017-04-14T00:00:00\",\"2017-04-15T00:00:00\",\"2017-04-16T00:00:00\",\"2017-04-17T00:00:00\",\"2017-04-18T00:00:00\",\"2017-04-19T00:00:00\",\"2017-04-20T00:00:00\",\"2017-04-21T00:00:00\",\"2017-04-22T00:00:00\",\"2017-04-23T00:00:00\",\"2017-04-24T00:00:00\",\"2017-04-25T00:00:00\",\"2017-04-26T00:00:00\",\"2017-04-27T00:00:00\",\"2017-04-28T00:00:00\",\"2017-04-29T00:00:00\",\"2017-04-30T00:00:00\",\"2017-05-01T00:00:00\",\"2017-05-02T00:00:00\",\"2017-05-03T00:00:00\",\"2017-05-04T00:00:00\",\"2017-05-05T00:00:00\",\"2017-05-06T00:00:00\",\"2017-05-07T00:00:00\",\"2017-05-08T00:00:00\",\"2017-05-09T00:00:00\",\"2017-05-10T00:00:00\",\"2017-05-11T00:00:00\",\"2017-05-12T00:00:00\",\"2017-05-13T00:00:00\",\"2017-05-14T00:00:00\",\"2017-05-15T00:00:00\",\"2017-05-16T00:00:00\",\"2017-05-17T00:00:00\",\"2017-05-18T00:00:00\",\"2017-05-19T00:00:00\",\"2017-05-20T00:00:00\",\"2017-05-21T00:00:00\",\"2017-05-22T00:00:00\",\"2017-05-23T00:00:00\",\"2017-05-24T00:00:00\",\"2017-05-25T00:00:00\",\"2017-05-26T00:00:00\",\"2017-05-27T00:00:00\",\"2017-05-28T00:00:00\",\"2017-05-29T00:00:00\",\"2017-05-30T00:00:00\",\"2017-05-31T00:00:00\",\"2017-06-01T00:00:00\",\"2017-06-02T00:00:00\",\"2017-06-03T00:00:00\",\"2017-06-04T00:00:00\",\"2017-06-05T00:00:00\",\"2017-06-06T00:00:00\",\"2017-06-07T00:00:00\",\"2017-06-08T00:00:00\",\"2017-06-09T00:00:00\",\"2017-06-10T00:00:00\",\"2017-06-11T00:00:00\",\"2017-06-12T00:00:00\",\"2017-06-13T00:00:00\",\"2017-06-14T00:00:00\",\"2017-06-15T00:00:00\",\"2017-06-16T00:00:00\",\"2017-06-17T00:00:00\",\"2017-06-18T00:00:00\",\"2017-06-19T00:00:00\",\"2017-06-20T00:00:00\",\"2017-06-21T00:00:00\",\"2017-06-22T00:00:00\",\"2017-06-23T00:00:00\",\"2017-06-24T00:00:00\",\"2017-06-25T00:00:00\",\"2017-06-26T00:00:00\",\"2017-06-27T00:00:00\",\"2017-06-28T00:00:00\",\"2017-06-29T00:00:00\",\"2017-06-30T00:00:00\",\"2017-07-01T00:00:00\",\"2017-07-02T00:00:00\",\"2017-07-03T00:00:00\",\"2017-07-04T00:00:00\",\"2017-07-05T00:00:00\",\"2017-07-06T00:00:00\",\"2017-07-07T00:00:00\",\"2017-07-08T00:00:00\",\"2017-07-09T00:00:00\",\"2017-07-10T00:00:00\",\"2017-07-11T00:00:00\",\"2017-07-12T00:00:00\",\"2017-07-13T00:00:00\",\"2017-07-14T00:00:00\",\"2017-07-15T00:00:00\",\"2017-07-16T00:00:00\",\"2017-07-17T00:00:00\",\"2017-07-18T00:00:00\",\"2017-07-19T00:00:00\",\"2017-07-20T00:00:00\",\"2017-07-21T00:00:00\",\"2017-07-22T00:00:00\",\"2017-07-23T00:00:00\",\"2017-07-24T00:00:00\",\"2017-07-25T00:00:00\",\"2017-07-26T00:00:00\",\"2017-07-27T00:00:00\",\"2017-07-28T00:00:00\",\"2017-07-29T00:00:00\",\"2017-07-30T00:00:00\",\"2017-07-31T00:00:00\",\"2017-08-01T00:00:00\",\"2017-08-02T00:00:00\",\"2017-08-03T00:00:00\",\"2017-08-04T00:00:00\",\"2017-08-05T00:00:00\",\"2017-08-06T00:00:00\",\"2017-08-07T00:00:00\",\"2017-08-08T00:00:00\",\"2017-08-09T00:00:00\",\"2017-08-10T00:00:00\",\"2017-08-11T00:00:00\",\"2017-08-12T00:00:00\",\"2017-08-13T00:00:00\",\"2017-08-14T00:00:00\",\"2017-08-15T00:00:00\",\"2017-08-16T00:00:00\",\"2017-08-17T00:00:00\",\"2017-08-18T00:00:00\",\"2017-08-19T00:00:00\",\"2017-08-20T00:00:00\",\"2017-08-21T00:00:00\",\"2017-08-22T00:00:00\",\"2017-08-23T00:00:00\",\"2017-08-24T00:00:00\",\"2017-08-25T00:00:00\",\"2017-08-26T00:00:00\",\"2017-08-27T00:00:00\",\"2017-08-28T00:00:00\",\"2017-08-29T00:00:00\",\"2017-08-30T00:00:00\",\"2017-08-31T00:00:00\",\"2017-09-01T00:00:00\",\"2017-09-02T00:00:00\",\"2017-09-03T00:00:00\",\"2017-09-04T00:00:00\",\"2017-09-05T00:00:00\",\"2017-09-06T00:00:00\",\"2017-09-07T00:00:00\",\"2017-09-08T00:00:00\",\"2017-09-09T00:00:00\",\"2017-09-10T00:00:00\",\"2017-09-11T00:00:00\",\"2017-09-12T00:00:00\",\"2017-09-13T00:00:00\",\"2017-09-14T00:00:00\",\"2017-09-15T00:00:00\",\"2017-09-16T00:00:00\",\"2017-09-17T00:00:00\",\"2017-09-18T00:00:00\",\"2017-09-19T00:00:00\",\"2017-09-20T00:00:00\",\"2017-09-21T00:00:00\",\"2017-09-22T00:00:00\",\"2017-09-23T00:00:00\",\"2017-09-24T00:00:00\",\"2017-09-25T00:00:00\",\"2017-09-26T00:00:00\",\"2017-09-27T00:00:00\",\"2017-09-28T00:00:00\",\"2017-09-29T00:00:00\",\"2017-09-30T00:00:00\",\"2017-10-01T00:00:00\",\"2017-10-02T00:00:00\",\"2017-10-03T00:00:00\",\"2017-10-04T00:00:00\",\"2017-10-05T00:00:00\",\"2017-10-06T00:00:00\",\"2017-10-07T00:00:00\",\"2017-10-08T00:00:00\",\"2017-10-09T00:00:00\",\"2017-10-10T00:00:00\",\"2017-10-11T00:00:00\",\"2017-10-12T00:00:00\",\"2017-10-13T00:00:00\",\"2017-10-14T00:00:00\",\"2017-10-15T00:00:00\",\"2017-10-16T00:00:00\",\"2017-10-17T00:00:00\",\"2017-10-18T00:00:00\",\"2017-10-19T00:00:00\",\"2017-10-20T00:00:00\",\"2017-10-21T00:00:00\",\"2017-10-22T00:00:00\",\"2017-10-23T00:00:00\",\"2017-10-24T00:00:00\",\"2017-10-25T00:00:00\",\"2017-10-26T00:00:00\",\"2017-10-27T00:00:00\",\"2017-10-28T00:00:00\",\"2017-10-29T00:00:00\",\"2017-10-30T00:00:00\",\"2017-10-31T00:00:00\",\"2017-11-01T00:00:00\",\"2017-11-02T00:00:00\",\"2017-11-03T00:00:00\",\"2017-11-04T00:00:00\",\"2017-11-05T00:00:00\",\"2017-11-06T00:00:00\",\"2017-11-07T00:00:00\",\"2017-11-08T00:00:00\",\"2017-11-09T00:00:00\",\"2017-11-10T00:00:00\",\"2017-11-11T00:00:00\",\"2017-11-12T00:00:00\",\"2017-11-13T00:00:00\",\"2017-11-14T00:00:00\",\"2017-11-15T00:00:00\",\"2017-11-16T00:00:00\",\"2017-11-17T00:00:00\",\"2017-11-18T00:00:00\",\"2017-11-19T00:00:00\",\"2017-11-20T00:00:00\",\"2017-11-21T00:00:00\",\"2017-11-22T00:00:00\",\"2017-11-23T00:00:00\",\"2017-11-24T00:00:00\",\"2017-11-25T00:00:00\",\"2017-11-26T00:00:00\",\"2017-11-27T00:00:00\",\"2017-11-28T00:00:00\",\"2017-11-29T00:00:00\",\"2017-11-30T00:00:00\",\"2017-12-01T00:00:00\",\"2017-12-02T00:00:00\",\"2017-12-03T00:00:00\",\"2017-12-04T00:00:00\",\"2017-12-05T00:00:00\",\"2017-12-06T00:00:00\",\"2017-12-07T00:00:00\",\"2017-12-08T00:00:00\",\"2017-12-09T00:00:00\",\"2017-12-10T00:00:00\",\"2017-12-11T00:00:00\",\"2017-12-12T00:00:00\",\"2017-12-13T00:00:00\",\"2017-12-14T00:00:00\",\"2017-12-15T00:00:00\",\"2017-12-16T00:00:00\",\"2017-12-17T00:00:00\",\"2017-12-18T00:00:00\",\"2017-12-19T00:00:00\",\"2017-12-20T00:00:00\",\"2017-12-21T00:00:00\",\"2017-12-22T00:00:00\",\"2017-12-23T00:00:00\",\"2017-12-24T00:00:00\",\"2017-12-25T00:00:00\",\"2017-12-26T00:00:00\",\"2017-12-27T00:00:00\",\"2017-12-28T00:00:00\",\"2017-12-29T00:00:00\",\"2017-12-30T00:00:00\",\"2017-12-31T00:00:00\",\"2018-01-01T00:00:00\",\"2018-01-02T00:00:00\",\"2018-01-03T00:00:00\",\"2018-01-04T00:00:00\",\"2018-01-05T00:00:00\",\"2018-01-06T00:00:00\",\"2018-01-07T00:00:00\",\"2018-01-08T00:00:00\",\"2018-01-09T00:00:00\",\"2018-01-10T00:00:00\",\"2018-01-11T00:00:00\",\"2018-01-12T00:00:00\",\"2018-01-13T00:00:00\",\"2018-01-14T00:00:00\",\"2018-01-15T00:00:00\",\"2018-01-16T00:00:00\",\"2018-01-17T00:00:00\",\"2018-01-18T00:00:00\",\"2018-01-19T00:00:00\",\"2018-01-20T00:00:00\",\"2018-01-21T00:00:00\",\"2018-01-22T00:00:00\",\"2018-01-23T00:00:00\",\"2018-01-24T00:00:00\",\"2018-01-25T00:00:00\",\"2018-01-26T00:00:00\",\"2018-01-27T00:00:00\",\"2018-01-28T00:00:00\",\"2018-01-29T00:00:00\",\"2018-01-30T00:00:00\",\"2018-01-31T00:00:00\",\"2018-02-01T00:00:00\",\"2018-02-02T00:00:00\",\"2018-02-03T00:00:00\",\"2018-02-04T00:00:00\",\"2018-02-05T00:00:00\",\"2018-02-06T00:00:00\",\"2018-02-07T00:00:00\",\"2018-02-08T00:00:00\",\"2018-02-09T00:00:00\",\"2018-02-10T00:00:00\",\"2018-02-11T00:00:00\",\"2018-02-12T00:00:00\",\"2018-02-13T00:00:00\",\"2018-02-14T00:00:00\",\"2018-02-15T00:00:00\",\"2018-02-16T00:00:00\",\"2018-02-17T00:00:00\",\"2018-02-18T00:00:00\",\"2018-02-19T00:00:00\",\"2018-02-20T00:00:00\",\"2018-02-21T00:00:00\",\"2018-02-22T00:00:00\",\"2018-02-23T00:00:00\",\"2018-02-24T00:00:00\",\"2018-02-25T00:00:00\",\"2018-02-26T00:00:00\",\"2018-02-27T00:00:00\",\"2018-02-28T00:00:00\",\"2018-03-01T00:00:00\",\"2018-03-02T00:00:00\",\"2018-03-03T00:00:00\",\"2018-03-04T00:00:00\",\"2018-03-05T00:00:00\",\"2018-03-06T00:00:00\",\"2018-03-07T00:00:00\",\"2018-03-08T00:00:00\",\"2018-03-09T00:00:00\",\"2018-03-10T00:00:00\",\"2018-03-11T00:00:00\",\"2018-03-12T00:00:00\",\"2018-03-13T00:00:00\",\"2018-03-14T00:00:00\",\"2018-03-15T00:00:00\",\"2018-03-16T00:00:00\",\"2018-03-17T00:00:00\",\"2018-03-18T00:00:00\",\"2018-03-19T00:00:00\",\"2018-03-20T00:00:00\",\"2018-03-21T00:00:00\",\"2018-03-22T00:00:00\",\"2018-03-23T00:00:00\",\"2018-03-24T00:00:00\",\"2018-03-25T00:00:00\",\"2018-03-26T00:00:00\",\"2018-03-27T00:00:00\",\"2018-03-28T00:00:00\",\"2018-03-29T00:00:00\",\"2018-03-30T00:00:00\",\"2018-03-31T00:00:00\",\"2018-04-01T00:00:00\",\"2018-04-02T00:00:00\",\"2018-04-03T00:00:00\",\"2018-04-04T00:00:00\",\"2018-04-05T00:00:00\",\"2018-04-06T00:00:00\",\"2018-04-07T00:00:00\",\"2018-04-08T00:00:00\",\"2018-04-09T00:00:00\",\"2018-04-10T00:00:00\",\"2018-04-11T00:00:00\",\"2018-04-12T00:00:00\",\"2018-04-13T00:00:00\",\"2018-04-14T00:00:00\",\"2018-04-15T00:00:00\",\"2018-04-16T00:00:00\",\"2018-04-17T00:00:00\",\"2018-04-18T00:00:00\",\"2018-04-19T00:00:00\",\"2018-04-20T00:00:00\",\"2018-04-21T00:00:00\",\"2018-04-22T00:00:00\",\"2018-04-23T00:00:00\",\"2018-04-24T00:00:00\",\"2018-04-25T00:00:00\",\"2018-04-26T00:00:00\",\"2018-04-27T00:00:00\",\"2018-04-28T00:00:00\",\"2018-04-29T00:00:00\",\"2018-04-30T00:00:00\",\"2018-05-01T00:00:00\",\"2018-05-02T00:00:00\",\"2018-05-03T00:00:00\",\"2018-05-04T00:00:00\",\"2018-05-05T00:00:00\",\"2018-05-06T00:00:00\",\"2018-05-07T00:00:00\",\"2018-05-08T00:00:00\",\"2018-05-09T00:00:00\",\"2018-05-10T00:00:00\",\"2018-05-11T00:00:00\",\"2018-05-12T00:00:00\",\"2018-05-13T00:00:00\",\"2018-05-14T00:00:00\",\"2018-05-15T00:00:00\",\"2018-05-16T00:00:00\",\"2018-05-17T00:00:00\",\"2018-05-18T00:00:00\",\"2018-05-19T00:00:00\",\"2018-05-20T00:00:00\",\"2018-05-21T00:00:00\",\"2018-05-22T00:00:00\",\"2018-05-23T00:00:00\",\"2018-05-24T00:00:00\",\"2018-05-25T00:00:00\",\"2018-05-26T00:00:00\",\"2018-05-27T00:00:00\",\"2018-05-28T00:00:00\",\"2018-05-29T00:00:00\",\"2018-05-30T00:00:00\",\"2018-05-31T00:00:00\",\"2018-06-01T00:00:00\",\"2018-06-02T00:00:00\",\"2018-06-03T00:00:00\",\"2018-06-04T00:00:00\",\"2018-06-05T00:00:00\",\"2018-06-06T00:00:00\",\"2018-06-07T00:00:00\",\"2018-06-08T00:00:00\",\"2018-06-09T00:00:00\",\"2018-06-10T00:00:00\",\"2018-06-11T00:00:00\",\"2018-06-12T00:00:00\",\"2018-06-13T00:00:00\",\"2018-06-14T00:00:00\",\"2018-06-15T00:00:00\",\"2018-06-16T00:00:00\",\"2018-06-17T00:00:00\",\"2018-06-18T00:00:00\",\"2018-06-19T00:00:00\",\"2018-06-20T00:00:00\",\"2018-06-21T00:00:00\",\"2018-06-22T00:00:00\",\"2018-06-23T00:00:00\",\"2018-06-24T00:00:00\",\"2018-06-25T00:00:00\",\"2018-06-26T00:00:00\",\"2018-06-27T00:00:00\",\"2018-06-28T00:00:00\",\"2018-06-29T00:00:00\",\"2018-06-30T00:00:00\",\"2018-07-01T00:00:00\",\"2018-07-02T00:00:00\",\"2018-07-03T00:00:00\",\"2018-07-04T00:00:00\",\"2018-07-05T00:00:00\",\"2018-07-06T00:00:00\",\"2018-07-07T00:00:00\",\"2018-07-08T00:00:00\",\"2018-07-09T00:00:00\",\"2018-07-10T00:00:00\",\"2018-07-11T00:00:00\",\"2018-07-12T00:00:00\",\"2018-07-13T00:00:00\",\"2018-07-14T00:00:00\",\"2018-07-15T00:00:00\",\"2018-07-16T00:00:00\",\"2018-07-17T00:00:00\",\"2018-07-18T00:00:00\",\"2018-07-19T00:00:00\",\"2018-07-20T00:00:00\",\"2018-07-21T00:00:00\",\"2018-07-22T00:00:00\",\"2018-07-23T00:00:00\",\"2018-07-24T00:00:00\",\"2018-07-25T00:00:00\",\"2018-07-26T00:00:00\",\"2018-07-27T00:00:00\",\"2018-07-28T00:00:00\",\"2018-07-29T00:00:00\",\"2018-07-30T00:00:00\",\"2018-07-31T00:00:00\",\"2018-08-01T00:00:00\",\"2018-08-02T00:00:00\",\"2018-08-03T00:00:00\",\"2018-08-04T00:00:00\",\"2018-08-05T00:00:00\",\"2018-08-06T00:00:00\",\"2018-08-07T00:00:00\",\"2018-08-08T00:00:00\",\"2018-08-09T00:00:00\",\"2018-08-10T00:00:00\",\"2018-08-11T00:00:00\",\"2018-08-12T00:00:00\",\"2018-08-13T00:00:00\",\"2018-08-14T00:00:00\",\"2018-08-15T00:00:00\",\"2018-08-16T00:00:00\",\"2018-08-17T00:00:00\",\"2018-08-18T00:00:00\",\"2018-08-19T00:00:00\",\"2018-08-20T00:00:00\",\"2018-08-21T00:00:00\",\"2018-08-22T00:00:00\",\"2018-08-23T00:00:00\",\"2018-08-24T00:00:00\",\"2018-08-25T00:00:00\",\"2018-08-26T00:00:00\",\"2018-08-27T00:00:00\",\"2018-08-28T00:00:00\",\"2018-08-29T00:00:00\",\"2018-08-30T00:00:00\",\"2018-08-31T00:00:00\",\"2018-09-01T00:00:00\",\"2018-09-02T00:00:00\",\"2018-09-03T00:00:00\",\"2018-09-04T00:00:00\",\"2018-09-05T00:00:00\",\"2018-09-06T00:00:00\",\"2018-09-07T00:00:00\",\"2018-09-08T00:00:00\",\"2018-09-09T00:00:00\",\"2018-09-10T00:00:00\",\"2018-09-11T00:00:00\",\"2018-09-12T00:00:00\",\"2018-09-13T00:00:00\",\"2018-09-14T00:00:00\",\"2018-09-15T00:00:00\",\"2018-09-16T00:00:00\",\"2018-09-17T00:00:00\",\"2018-09-18T00:00:00\",\"2018-09-19T00:00:00\",\"2018-09-20T00:00:00\",\"2018-09-21T00:00:00\",\"2018-09-22T00:00:00\",\"2018-09-23T00:00:00\",\"2018-09-24T00:00:00\",\"2018-09-25T00:00:00\",\"2018-09-26T00:00:00\",\"2018-09-27T00:00:00\",\"2018-09-28T00:00:00\",\"2018-09-29T00:00:00\",\"2018-09-30T00:00:00\",\"2018-10-01T00:00:00\",\"2018-10-02T00:00:00\",\"2018-10-03T00:00:00\",\"2018-10-04T00:00:00\",\"2018-10-05T00:00:00\",\"2018-10-06T00:00:00\",\"2018-10-07T00:00:00\",\"2018-10-08T00:00:00\",\"2018-10-09T00:00:00\",\"2018-10-10T00:00:00\",\"2018-10-11T00:00:00\",\"2018-10-12T00:00:00\",\"2018-10-13T00:00:00\",\"2018-10-14T00:00:00\",\"2018-10-15T00:00:00\",\"2018-10-16T00:00:00\",\"2018-10-17T00:00:00\",\"2018-10-18T00:00:00\",\"2018-10-19T00:00:00\",\"2018-10-20T00:00:00\",\"2018-10-21T00:00:00\",\"2018-10-22T00:00:00\",\"2018-10-23T00:00:00\",\"2018-10-24T00:00:00\",\"2018-10-25T00:00:00\",\"2018-10-26T00:00:00\",\"2018-10-27T00:00:00\",\"2018-10-28T00:00:00\",\"2018-10-29T00:00:00\",\"2018-10-30T00:00:00\",\"2018-10-31T00:00:00\",\"2018-11-01T00:00:00\",\"2018-11-02T00:00:00\",\"2018-11-03T00:00:00\",\"2018-11-04T00:00:00\",\"2018-11-05T00:00:00\",\"2018-11-06T00:00:00\",\"2018-11-07T00:00:00\",\"2018-11-08T00:00:00\",\"2018-11-09T00:00:00\",\"2018-11-10T00:00:00\",\"2018-11-11T00:00:00\",\"2018-11-12T00:00:00\",\"2018-11-13T00:00:00\",\"2018-11-14T00:00:00\",\"2018-11-15T00:00:00\",\"2018-11-16T00:00:00\",\"2018-11-17T00:00:00\",\"2018-11-18T00:00:00\",\"2018-11-19T00:00:00\",\"2018-11-20T00:00:00\",\"2018-11-21T00:00:00\",\"2018-11-22T00:00:00\",\"2018-11-23T00:00:00\",\"2018-11-24T00:00:00\",\"2018-11-25T00:00:00\",\"2018-11-26T00:00:00\",\"2018-11-27T00:00:00\",\"2018-11-28T00:00:00\",\"2018-11-29T00:00:00\",\"2018-11-30T00:00:00\",\"2018-12-01T00:00:00\",\"2018-12-02T00:00:00\",\"2018-12-03T00:00:00\",\"2018-12-04T00:00:00\",\"2018-12-05T00:00:00\",\"2018-12-06T00:00:00\",\"2018-12-07T00:00:00\",\"2018-12-08T00:00:00\",\"2018-12-09T00:00:00\",\"2018-12-10T00:00:00\",\"2018-12-11T00:00:00\",\"2018-12-12T00:00:00\",\"2018-12-13T00:00:00\",\"2018-12-14T00:00:00\",\"2018-12-15T00:00:00\",\"2018-12-16T00:00:00\",\"2018-12-17T00:00:00\",\"2018-12-18T00:00:00\",\"2018-12-19T00:00:00\",\"2018-12-20T00:00:00\",\"2018-12-21T00:00:00\",\"2018-12-22T00:00:00\",\"2018-12-23T00:00:00\",\"2018-12-24T00:00:00\",\"2018-12-25T00:00:00\",\"2018-12-26T00:00:00\",\"2018-12-27T00:00:00\",\"2018-12-28T00:00:00\",\"2018-12-29T00:00:00\",\"2018-12-30T00:00:00\"],\"xaxis\":\"x\",\"y\":[-0.8180508194898657,1.9839604524119927,0.3086091702027263,3.621729018141814,1.9234260591301695,-0.2885354022308749,1.9648197027973056,6.473079146948417,6.9667698111366585,6.037257581028094,7.887556292064519,5.685088473770374,3.331033386114025,3.287264920136711,3.9864856953303325,3.1000675123052788,-0.712133976675298,-1.4638934553191185,-1.4081288065973832,-2.5102393140056884,-2.7305688262353542,-0.3128036708513094,-0.19608691515266927,0.5557187801609232,-0.9923896409432502,-0.9535507959317227,3.61729815201025,6.315772533510123,5.4319545687700055,9.06416418182814,9.866349698815299,9.234054079474362,9.343049798409924,6.995604746410841,5.5500633274431195,5.847306870659593,5.4290364698155,6.8036416865342,4.769516647693321,2.8320335316286998,1.6367891674548316,0.6651064693323216,2.346988092388029,6.8752626741735865,8.045987897130548,9.018229597968764,6.325576790992229,5.522828542953564,5.174799412748568,5.712363323924928,8.974620452573067,9.380429557468817,9.581526392588641,8.48824275212115,4.952323849598372,5.713610792990037,9.061231238506986,7.404499957597648,5.192128549302086,7.645466328461362,7.237457071540014,9.266655494075232,7.676802921064706,6.499913323924929,5.943534414617665,6.619513656780369,9.98028891158177,10.787890167363054,9.76754523215579,9.78057057784592,8.974813282432136,8.840540576179162,7.670040178089345,9.681978853817917,9.820910445187193,8.449926246032355,9.623463864287864,10.263963323924928,9.86093736904199,7.348452289442544,5.899841066384124,7.079125351780879,8.259120399547076,9.88885961046175,9.90520394746297,10.931443335408023,10.44490136304099,12.96476022840744,15.078825285099393,12.927584740613579,9.988937704652827,9.311043710980156,10.001091001152915,9.471732370749956,9.920414443237805,8.669597688475651,9.564347913951007,12.174560592401711,14.464414878207707,10.151270020688383,8.73491623904178,8.803162367007689,9.47947662392966,9.311921118529671,9.75816803686708,8.828199934139606,8.882017563965794,7.1309122553580755,6.260594127995981,6.069474860865941,8.85117925445336,9.231627307750534,8.351460822810651,9.03771136318643,6.369451072511763,4.593326624069424,5.777192903608233,8.111043478518175,9.758987830715803,9.591703186680864,8.710642757771932,10.178889259740224,9.227980940787775,10.274896030289996,11.430983843476259,10.517866424384748,10.434915229478067,8.89054841388788,9.762657191269367,12.189593978838532,13.624148462134627,13.983833433592121,13.535919180465738,13.165992227400944,15.948518726279753,18.807168757953992,17.559232128476435,11.603533297938043,10.090519338386649,10.985579516359701,13.748040666295216,16.487185054337637,15.513024129687714,15.83850201366193,18.262074589489306,19.907013320808183,19.28614997388745,19.611937452928824,18.144126927737563,14.733736430203937,14.99303962229345,17.986638416979094,18.053092748970094,13.679230625963248,13.738979680024633,14.706681846183518,12.252836426505345,13.47638987488062,16.966045294376293,15.806453931530324,18.17050923901854,17.45975851062675,14.023437989874898,15.339674364312035,19.616571462493344,17.98120472152344,15.53615981475749,18.45916212809379,21.113478202302762,22.854141409316764,24.33782778022304,25.480082742063004,19.764858892346428,16.083572403191262,17.479079738153228,18.036175152387987,18.761076549057854,17.192551385189947,15.796979153357215,14.84730738178736,14.591787913563968,14.926112770366665,15.5876872942266,15.563042731153445,17.536581503285234,20.893488571866843,23.372853733677047,20.912708668920352,19.38126684790709,19.60432843343945,16.833807606057835,16.888091314151723,16.884803459322487,17.02150802598193,15.419650526731967,16.635339472755234,18.318346937303367,20.010191154801262,23.452560758618908,21.200724435036037,16.289147083314088,16.311021519192003,15.021719721656316,14.912707768369373,15.156081679947135,16.567102920382492,16.35006890244797,16.427747267762207,17.08777171763996,19.447223972364768,17.807776163072276,16.458805637228295,16.835620176139027,18.14005884931223,18.61406637604825,17.402298897198282,16.028460930695005,14.882729298262282,16.093447880367663,14.182597326936614,13.727878013960634,14.19722726567102,15.287744928190515,15.450285736638243,15.52732495169197,17.67840374717231,18.11616298813924,17.04604386096474,18.21784610964564,16.870172297463185,14.853223326424636,15.296315142219635,17.753064226644742,19.842731528914637,17.665946417175096,16.719900904708183,17.880204716003618,18.745061931607484,19.5662600282066,21.389327101628638,22.060377578234945,14.56132242722289,13.835380059587257,13.719590011564602,13.85489226471519,13.392439976932756,16.93800528653989,17.32515776614564,14.725488350464225,14.482313679433034,14.677684749453102,12.998383174600319,13.703662570563411,13.060604134479195,13.610257220774214,13.882730021087703,11.86880072636908,10.409399139299556,10.026832997993628,10.596869723390801,10.779469898115739,11.697340671593906,11.892271555795446,13.374727929332586,12.72834151381191,12.707527631015541,15.709612148171846,15.409344313780922,15.256264019927142,14.992665694241275,16.129090188367538,15.957858146330919,13.765943758995872,14.851007768369374,15.25179725634371,11.979184927790724,11.180407507124517,11.903149960029378,9.947501379940464,10.83043445917266,12.627271909692674,12.674239586078164,13.591398957200328,14.35305255198626,15.058013361038928,15.29999061365524,14.523443706558991,16.928454884132137,17.498313547470982,13.614263437728187,14.490587101092721,14.529989665233828,12.35565378330918,12.639868316609183,10.281321701926606,12.187820980646075,15.080565188620866,13.788427017418286,12.01853420341283,11.053550772165602,9.630511957100287,11.515521614681328,7.599532513137744,6.620784392575719,8.329882734436643,9.746086191259847,11.12842256143092,11.299090629360526,6.989822604160392,5.490590049978053,4.812236127863651,6.8950126153120666,8.082309971948783,10.186145246057672,11.005735755053088,8.527631529192295,5.994260072290173,6.365171679196901,8.700135157925699,7.784122028183796,7.162670013759919,6.365670438057998,7.120780182367829,8.414432488062154,10.069912376614703,11.073469475665295,11.52472487734484,8.115552697836609,4.655726320646334,4.606253992722458,7.412444504207294,5.214235199613516,3.3058157210058066,2.6503767284908415,2.543324061793165,1.717707765597689,4.338590048291102,6.596655175973464,6.812872837167566,6.258175209865743,5.899312022128888,3.725995420076915,2.3349065311880257,6.09718693046194,4.7905399895422045,3.2284842512400744,7.126218056595463,4.925318768752049,4.745037482906858,4.432336920674805,4.677768257467463,6.072719120900713,2.5340135506640387,6.774964710853309,8.928979990591596,8.827203360577425,8.597913323924928,8.19186833890696,6.25066155392796,5.993988729203194,4.327623128450603,2.6263096536145203,5.731016770232732,11.816717122934918,10.591057279106563,7.154074043423744,8.321936345031231,9.055383409036626,10.442028281465248,7.738256275316419,5.547985508570277,4.627683855354114,4.318804796601992,5.470852729282046,6.658435899210791,4.825437017137666,4.492118906502596,3.6966168420903753,2.6734292591389113,6.876690054977243,6.815965177484226,5.368119131081428,8.280193391908437,4.857169309171397,7.390565794825302,7.703215040314945,9.789864042267324,9.406342927067255,10.879465013157375,7.342498016168257,5.434333787404548,4.7812784044554855,9.032671510833675,9.078000094563112,8.467404515776737,7.278952371124713,4.368170241207169,4.1321340351929825,3.7630197557061464,2.6500209439503246,0.12965319995719496,0.7800952354288084,0.3335416956672379,0.6999493806788503,1.9194384755005878,2.844753847765574,4.944376448447253,2.4007450357148636,1.838836579963231,2.6034122776872186,7.688205573527809,4.315377457726698,4.6649870009719825,4.724378984253364,6.298502641932031,6.283455589109974,2.809917075712732,1.1555657658813574,0.27831072068494556,0.8820955998136928,0.2419090918565671,-2.159231425210533,-3.4781646501451293,-4.156065575630864,-1.6480707958780743,2.909627569675982,5.065936486858995,5.390717100824245,6.682415837547091,6.30006149938766,5.554866807598686,6.147794911349102,8.706639062378144,11.551665666546176,10.991327767928864,8.815452693167158,7.4477700036131615,8.324720711185176,9.146330864950095,7.722423413887877,2.7658299454194095,0.7822881500467896,0.2358381468774577,2.7142280206576532,3.2349564019227772,4.664161551545763,5.980917862938522,7.741011583919567,7.828534512100761,7.543967446796957,7.99014842604754,7.2042074423324856,5.500942770367691,5.73119030577977,5.814889630104094,7.044717468347979,9.875019262954492,10.05446014348205,9.541149537984769,7.5096202925774715,10.921738069888024,12.353453819293284,11.557049343274024,11.044666431747165,10.572747062622698,10.57198330311471,9.597368919706712,10.279874353112099,10.115955687544847,10.743871154906328,10.430904159340447,13.002168945501083,16.20721130911893,17.46571233913668,17.449723910116006,17.95490302998548,16.117281910803907,11.018798523468114,12.030789717682445,10.996784345208996,9.728297807537093,10.806583134099045,10.438362030817242,8.244568577734801,5.466125720718365,8.028706531188025,8.691928501762764,9.103707964541874,10.104150256883477,13.253599019567345,16.395144880619206,17.72745527870351,15.187951054983083,12.366702403864567,10.649060620608394,12.721946027783785,10.726145608007235,9.970006619447323,11.707830769195144,13.099831353171929,12.546354153955317,11.424381324963013,10.339150317788045,11.056683836646885,12.725976084086257,14.650467772235867,14.781649147897298,13.408047534973488,14.807141905337854,14.821764241723907,18.321459322150027,18.934395085593252,18.32886035859211,16.580993724949852,17.6796045478874,17.15124556858616,15.470554728847663,15.715643317785677,17.767315023360844,16.482548255747886,14.505176777736432,14.520681747920356,17.31744179881828,17.487700140034462,17.072919876242562,17.339285823720196,16.57099135940251,14.925322404191883,14.049077615904606,14.280118093295462,14.538013646983194,14.67387816543371,14.974365679881119,16.273529992236266,17.19357708756372,18.431659294973876,14.443436822757223,13.644148081989421,14.744983149234319,16.164115223459905,17.54940090906681,18.640865850311382,18.94411667096298,19.35180117576311,19.88464567003713,21.088346584994465,22.457931769790612,21.18159617854288,20.172760216752508,19.832149230039818,18.61451287289414,19.35936477190945,21.05582394898311,21.002982369256404,20.06147877854814,17.29561525721917,16.65921837071343,17.28422611864579,18.941424786976917,19.617339217162915,19.959929290373832,19.779681117219646,18.109256538043084,18.999395827414574,20.078625580902347,17.223731800710485,17.296969693689302,18.76655605906117,20.430910194348282,20.964690344271887,21.29128805586217,23.746491834131202,21.411943179407444,18.614351542925913,18.472420928777197,20.358763387224368,18.952317729353084,18.57247036547936,20.139271313366304,22.685782451317607,21.690509786267384,20.89579350123175,22.526731431894667,21.60272321743798,18.292282286846415,14.648427555812786,15.46227176611797,17.388793816722448,18.625391085378304,17.271953174547146,17.66676949399767,17.941337232697197,17.602375254664008,16.052504610611905,15.811375122689698,18.21477740299609,19.208861832820652,18.89514918639205,18.60547644104554,17.60603790210334,14.764847482118379,13.384235546147151,14.838194351381231,16.15566650419908,16.889284776088793,15.467769903778404,14.834897641167148,15.534229815618252,15.871273229702398,15.47972117298958,16.22488651856379,16.17598554614715,16.525675916125504,16.106710898464236,14.592320123149513,14.586542570424237,16.81581308650449,16.299760292068168,17.306533476636194,16.52885608819816,14.179207887429042,12.650627183697846,13.657535078434687,14.96051753457504,17.966416657382055,18.471382180357544,17.832084467871,18.542488111661797,14.203742937215395,13.339369261165325,14.044002212813817,10.28094172434457,10.101309333216015,11.53655899775793,14.672753395735164,13.468763148610126,10.669626361039281,10.173461909198549,10.697691694924675,12.620163695726133,14.426639599168727,13.945608162924641,14.266619798159935,13.0552620348017,11.345983479117917,10.13564789443961,13.210873395292094,16.41039443066366,15.93601839815193,16.723396022902712,18.833208468262754,17.355212717702187,16.345086783328497,14.587791855223937,13.001771100606613,13.41948788372873,11.439756412297948,10.170862870227843,10.615183906480377,10.939302442944914,9.822718444668185,12.640550854886943,10.58440720465202,9.276809706555191,5.0771896836978465,5.144695166153987,4.535634991110752,6.463357446855741,7.056433104750477,9.304377183697845,6.312732446855741,4.796397271267543,7.297376087206619,11.343441601687063,11.554340743101594,10.320986214232384,7.848303162713432,9.91888986452136,11.100333008519103,10.635724128761309,10.305527010979272,9.883009376876863,9.08813022990444,9.141667634556022,7.969173111918008,5.179184076830289,4.10638802419871,2.764331270603468,1.9896226733215163,1.3374856328520335,2.4696906784385604,5.159425896303442,6.215176099271868,5.946921043346969,5.064929318255569,5.912264212036471,10.718177265673498,10.771402028404829,8.780654929491439,9.355256212120201,13.225242374910168,11.871201103453938,8.989363140287248,10.311859499439805,11.351802817733148,9.370542693548579,9.312732011241906,9.124478982893457,7.219504487878072,4.545017656821969,2.532479824277403,0.8503243036216016,-1.2554357913245262,0.36480193888791734,5.2857577941997596,6.610689054849098,7.199315366931149,7.477237736057565,7.804418645532382,11.878141412640305,10.146233011041542,11.04730162088594,8.024370082337208,3.3314949469118216,1.8368178559138229,0.6631947960307746,2.9365598958810524,6.266625531961511,8.204485623174886],\"yaxis\":\"y\",\"type\":\"scattergl\"},{\"hovertemplate\":\"variable=hu<br>date=%{x}<br>value=%{y}<extra></extra>\",\"legendgroup\":\"hu\",\"line\":{\"color\":\"#EF553B\",\"dash\":\"solid\"},\"marker\":{\"symbol\":\"circle\"},\"mode\":\"lines\",\"name\":\"hu\",\"showlegend\":true,\"x\":[\"2017-01-01T00:00:00\",\"2017-01-02T00:00:00\",\"2017-01-03T00:00:00\",\"2017-01-04T00:00:00\",\"2017-01-05T00:00:00\",\"2017-01-06T00:00:00\",\"2017-01-07T00:00:00\",\"2017-01-08T00:00:00\",\"2017-01-09T00:00:00\",\"2017-01-10T00:00:00\",\"2017-01-11T00:00:00\",\"2017-01-12T00:00:00\",\"2017-01-13T00:00:00\",\"2017-01-14T00:00:00\",\"2017-01-15T00:00:00\",\"2017-01-16T00:00:00\",\"2017-01-17T00:00:00\",\"2017-01-18T00:00:00\",\"2017-01-19T00:00:00\",\"2017-01-20T00:00:00\",\"2017-01-21T00:00:00\",\"2017-01-22T00:00:00\",\"2017-01-23T00:00:00\",\"2017-01-24T00:00:00\",\"2017-01-25T00:00:00\",\"2017-01-26T00:00:00\",\"2017-01-27T00:00:00\",\"2017-01-28T00:00:00\",\"2017-01-29T00:00:00\",\"2017-01-30T00:00:00\",\"2017-01-31T00:00:00\",\"2017-02-01T00:00:00\",\"2017-02-02T00:00:00\",\"2017-02-03T00:00:00\",\"2017-02-04T00:00:00\",\"2017-02-05T00:00:00\",\"2017-02-06T00:00:00\",\"2017-02-07T00:00:00\",\"2017-02-08T00:00:00\",\"2017-02-09T00:00:00\",\"2017-02-10T00:00:00\",\"2017-02-11T00:00:00\",\"2017-02-12T00:00:00\",\"2017-02-13T00:00:00\",\"2017-02-14T00:00:00\",\"2017-02-15T00:00:00\",\"2017-02-16T00:00:00\",\"2017-02-17T00:00:00\",\"2017-02-18T00:00:00\",\"2017-02-19T00:00:00\",\"2017-02-20T00:00:00\",\"2017-02-21T00:00:00\",\"2017-02-22T00:00:00\",\"2017-02-23T00:00:00\",\"2017-02-24T00:00:00\",\"2017-02-25T00:00:00\",\"2017-02-26T00:00:00\",\"2017-02-27T00:00:00\",\"2017-02-28T00:00:00\",\"2017-03-01T00:00:00\",\"2017-03-02T00:00:00\",\"2017-03-03T00:00:00\",\"2017-03-04T00:00:00\",\"2017-03-05T00:00:00\",\"2017-03-06T00:00:00\",\"2017-03-07T00:00:00\",\"2017-03-08T00:00:00\",\"2017-03-09T00:00:00\",\"2017-03-10T00:00:00\",\"2017-03-11T00:00:00\",\"2017-03-12T00:00:00\",\"2017-03-13T00:00:00\",\"2017-03-14T00:00:00\",\"2017-03-15T00:00:00\",\"2017-03-16T00:00:00\",\"2017-03-17T00:00:00\",\"2017-03-18T00:00:00\",\"2017-03-19T00:00:00\",\"2017-03-20T00:00:00\",\"2017-03-21T00:00:00\",\"2017-03-22T00:00:00\",\"2017-03-23T00:00:00\",\"2017-03-24T00:00:00\",\"2017-03-25T00:00:00\",\"2017-03-26T00:00:00\",\"2017-03-27T00:00:00\",\"2017-03-28T00:00:00\",\"2017-03-29T00:00:00\",\"2017-03-30T00:00:00\",\"2017-03-31T00:00:00\",\"2017-04-01T00:00:00\",\"2017-04-02T00:00:00\",\"2017-04-03T00:00:00\",\"2017-04-04T00:00:00\",\"2017-04-05T00:00:00\",\"2017-04-06T00:00:00\",\"2017-04-07T00:00:00\",\"2017-04-08T00:00:00\",\"2017-04-09T00:00:00\",\"2017-04-10T00:00:00\",\"2017-04-11T00:00:00\",\"2017-04-12T00:00:00\",\"2017-04-13T00:00:00\",\"2017-04-14T00:00:00\",\"2017-04-15T00:00:00\",\"2017-04-16T00:00:00\",\"2017-04-17T00:00:00\",\"2017-04-18T00:00:00\",\"2017-04-19T00:00:00\",\"2017-04-20T00:00:00\",\"2017-04-21T00:00:00\",\"2017-04-22T00:00:00\",\"2017-04-23T00:00:00\",\"2017-04-24T00:00:00\",\"2017-04-25T00:00:00\",\"2017-04-26T00:00:00\",\"2017-04-27T00:00:00\",\"2017-04-28T00:00:00\",\"2017-04-29T00:00:00\",\"2017-04-30T00:00:00\",\"2017-05-01T00:00:00\",\"2017-05-02T00:00:00\",\"2017-05-03T00:00:00\",\"2017-05-04T00:00:00\",\"2017-05-05T00:00:00\",\"2017-05-06T00:00:00\",\"2017-05-07T00:00:00\",\"2017-05-08T00:00:00\",\"2017-05-09T00:00:00\",\"2017-05-10T00:00:00\",\"2017-05-11T00:00:00\",\"2017-05-12T00:00:00\",\"2017-05-13T00:00:00\",\"2017-05-14T00:00:00\",\"2017-05-15T00:00:00\",\"2017-05-16T00:00:00\",\"2017-05-17T00:00:00\",\"2017-05-18T00:00:00\",\"2017-05-19T00:00:00\",\"2017-05-20T00:00:00\",\"2017-05-21T00:00:00\",\"2017-05-22T00:00:00\",\"2017-05-23T00:00:00\",\"2017-05-24T00:00:00\",\"2017-05-25T00:00:00\",\"2017-05-26T00:00:00\",\"2017-05-27T00:00:00\",\"2017-05-28T00:00:00\",\"2017-05-29T00:00:00\",\"2017-05-30T00:00:00\",\"2017-05-31T00:00:00\",\"2017-06-01T00:00:00\",\"2017-06-02T00:00:00\",\"2017-06-03T00:00:00\",\"2017-06-04T00:00:00\",\"2017-06-05T00:00:00\",\"2017-06-06T00:00:00\",\"2017-06-07T00:00:00\",\"2017-06-08T00:00:00\",\"2017-06-09T00:00:00\",\"2017-06-10T00:00:00\",\"2017-06-11T00:00:00\",\"2017-06-12T00:00:00\",\"2017-06-13T00:00:00\",\"2017-06-14T00:00:00\",\"2017-06-15T00:00:00\",\"2017-06-16T00:00:00\",\"2017-06-17T00:00:00\",\"2017-06-18T00:00:00\",\"2017-06-19T00:00:00\",\"2017-06-20T00:00:00\",\"2017-06-21T00:00:00\",\"2017-06-22T00:00:00\",\"2017-06-23T00:00:00\",\"2017-06-24T00:00:00\",\"2017-06-25T00:00:00\",\"2017-06-26T00:00:00\",\"2017-06-27T00:00:00\",\"2017-06-28T00:00:00\",\"2017-06-29T00:00:00\",\"2017-06-30T00:00:00\",\"2017-07-01T00:00:00\",\"2017-07-02T00:00:00\",\"2017-07-03T00:00:00\",\"2017-07-04T00:00:00\",\"2017-07-05T00:00:00\",\"2017-07-06T00:00:00\",\"2017-07-07T00:00:00\",\"2017-07-08T00:00:00\",\"2017-07-09T00:00:00\",\"2017-07-10T00:00:00\",\"2017-07-11T00:00:00\",\"2017-07-12T00:00:00\",\"2017-07-13T00:00:00\",\"2017-07-14T00:00:00\",\"2017-07-15T00:00:00\",\"2017-07-16T00:00:00\",\"2017-07-17T00:00:00\",\"2017-07-18T00:00:00\",\"2017-07-19T00:00:00\",\"2017-07-20T00:00:00\",\"2017-07-21T00:00:00\",\"2017-07-22T00:00:00\",\"2017-07-23T00:00:00\",\"2017-07-24T00:00:00\",\"2017-07-25T00:00:00\",\"2017-07-26T00:00:00\",\"2017-07-27T00:00:00\",\"2017-07-28T00:00:00\",\"2017-07-29T00:00:00\",\"2017-07-30T00:00:00\",\"2017-07-31T00:00:00\",\"2017-08-01T00:00:00\",\"2017-08-02T00:00:00\",\"2017-08-03T00:00:00\",\"2017-08-04T00:00:00\",\"2017-08-05T00:00:00\",\"2017-08-06T00:00:00\",\"2017-08-07T00:00:00\",\"2017-08-08T00:00:00\",\"2017-08-09T00:00:00\",\"2017-08-10T00:00:00\",\"2017-08-11T00:00:00\",\"2017-08-12T00:00:00\",\"2017-08-13T00:00:00\",\"2017-08-14T00:00:00\",\"2017-08-15T00:00:00\",\"2017-08-16T00:00:00\",\"2017-08-17T00:00:00\",\"2017-08-18T00:00:00\",\"2017-08-19T00:00:00\",\"2017-08-20T00:00:00\",\"2017-08-21T00:00:00\",\"2017-08-22T00:00:00\",\"2017-08-23T00:00:00\",\"2017-08-24T00:00:00\",\"2017-08-25T00:00:00\",\"2017-08-26T00:00:00\",\"2017-08-27T00:00:00\",\"2017-08-28T00:00:00\",\"2017-08-29T00:00:00\",\"2017-08-30T00:00:00\",\"2017-08-31T00:00:00\",\"2017-09-01T00:00:00\",\"2017-09-02T00:00:00\",\"2017-09-03T00:00:00\",\"2017-09-04T00:00:00\",\"2017-09-05T00:00:00\",\"2017-09-06T00:00:00\",\"2017-09-07T00:00:00\",\"2017-09-08T00:00:00\",\"2017-09-09T00:00:00\",\"2017-09-10T00:00:00\",\"2017-09-11T00:00:00\",\"2017-09-12T00:00:00\",\"2017-09-13T00:00:00\",\"2017-09-14T00:00:00\",\"2017-09-15T00:00:00\",\"2017-09-16T00:00:00\",\"2017-09-17T00:00:00\",\"2017-09-18T00:00:00\",\"2017-09-19T00:00:00\",\"2017-09-20T00:00:00\",\"2017-09-21T00:00:00\",\"2017-09-22T00:00:00\",\"2017-09-23T00:00:00\",\"2017-09-24T00:00:00\",\"2017-09-25T00:00:00\",\"2017-09-26T00:00:00\",\"2017-09-27T00:00:00\",\"2017-09-28T00:00:00\",\"2017-09-29T00:00:00\",\"2017-09-30T00:00:00\",\"2017-10-01T00:00:00\",\"2017-10-02T00:00:00\",\"2017-10-03T00:00:00\",\"2017-10-04T00:00:00\",\"2017-10-05T00:00:00\",\"2017-10-06T00:00:00\",\"2017-10-07T00:00:00\",\"2017-10-08T00:00:00\",\"2017-10-09T00:00:00\",\"2017-10-10T00:00:00\",\"2017-10-11T00:00:00\",\"2017-10-12T00:00:00\",\"2017-10-13T00:00:00\",\"2017-10-14T00:00:00\",\"2017-10-15T00:00:00\",\"2017-10-16T00:00:00\",\"2017-10-17T00:00:00\",\"2017-10-18T00:00:00\",\"2017-10-19T00:00:00\",\"2017-10-20T00:00:00\",\"2017-10-21T00:00:00\",\"2017-10-22T00:00:00\",\"2017-10-23T00:00:00\",\"2017-10-24T00:00:00\",\"2017-10-25T00:00:00\",\"2017-10-26T00:00:00\",\"2017-10-27T00:00:00\",\"2017-10-28T00:00:00\",\"2017-10-29T00:00:00\",\"2017-10-30T00:00:00\",\"2017-10-31T00:00:00\",\"2017-11-01T00:00:00\",\"2017-11-02T00:00:00\",\"2017-11-03T00:00:00\",\"2017-11-04T00:00:00\",\"2017-11-05T00:00:00\",\"2017-11-06T00:00:00\",\"2017-11-07T00:00:00\",\"2017-11-08T00:00:00\",\"2017-11-09T00:00:00\",\"2017-11-10T00:00:00\",\"2017-11-11T00:00:00\",\"2017-11-12T00:00:00\",\"2017-11-13T00:00:00\",\"2017-11-14T00:00:00\",\"2017-11-15T00:00:00\",\"2017-11-16T00:00:00\",\"2017-11-17T00:00:00\",\"2017-11-18T00:00:00\",\"2017-11-19T00:00:00\",\"2017-11-20T00:00:00\",\"2017-11-21T00:00:00\",\"2017-11-22T00:00:00\",\"2017-11-23T00:00:00\",\"2017-11-24T00:00:00\",\"2017-11-25T00:00:00\",\"2017-11-26T00:00:00\",\"2017-11-27T00:00:00\",\"2017-11-28T00:00:00\",\"2017-11-29T00:00:00\",\"2017-11-30T00:00:00\",\"2017-12-01T00:00:00\",\"2017-12-02T00:00:00\",\"2017-12-03T00:00:00\",\"2017-12-04T00:00:00\",\"2017-12-05T00:00:00\",\"2017-12-06T00:00:00\",\"2017-12-07T00:00:00\",\"2017-12-08T00:00:00\",\"2017-12-09T00:00:00\",\"2017-12-10T00:00:00\",\"2017-12-11T00:00:00\",\"2017-12-12T00:00:00\",\"2017-12-13T00:00:00\",\"2017-12-14T00:00:00\",\"2017-12-15T00:00:00\",\"2017-12-16T00:00:00\",\"2017-12-17T00:00:00\",\"2017-12-18T00:00:00\",\"2017-12-19T00:00:00\",\"2017-12-20T00:00:00\",\"2017-12-21T00:00:00\",\"2017-12-22T00:00:00\",\"2017-12-23T00:00:00\",\"2017-12-24T00:00:00\",\"2017-12-25T00:00:00\",\"2017-12-26T00:00:00\",\"2017-12-27T00:00:00\",\"2017-12-28T00:00:00\",\"2017-12-29T00:00:00\",\"2017-12-30T00:00:00\",\"2017-12-31T00:00:00\",\"2018-01-01T00:00:00\",\"2018-01-02T00:00:00\",\"2018-01-03T00:00:00\",\"2018-01-04T00:00:00\",\"2018-01-05T00:00:00\",\"2018-01-06T00:00:00\",\"2018-01-07T00:00:00\",\"2018-01-08T00:00:00\",\"2018-01-09T00:00:00\",\"2018-01-10T00:00:00\",\"2018-01-11T00:00:00\",\"2018-01-12T00:00:00\",\"2018-01-13T00:00:00\",\"2018-01-14T00:00:00\",\"2018-01-15T00:00:00\",\"2018-01-16T00:00:00\",\"2018-01-17T00:00:00\",\"2018-01-18T00:00:00\",\"2018-01-19T00:00:00\",\"2018-01-20T00:00:00\",\"2018-01-21T00:00:00\",\"2018-01-22T00:00:00\",\"2018-01-23T00:00:00\",\"2018-01-24T00:00:00\",\"2018-01-25T00:00:00\",\"2018-01-26T00:00:00\",\"2018-01-27T00:00:00\",\"2018-01-28T00:00:00\",\"2018-01-29T00:00:00\",\"2018-01-30T00:00:00\",\"2018-01-31T00:00:00\",\"2018-02-01T00:00:00\",\"2018-02-02T00:00:00\",\"2018-02-03T00:00:00\",\"2018-02-04T00:00:00\",\"2018-02-05T00:00:00\",\"2018-02-06T00:00:00\",\"2018-02-07T00:00:00\",\"2018-02-08T00:00:00\",\"2018-02-09T00:00:00\",\"2018-02-10T00:00:00\",\"2018-02-11T00:00:00\",\"2018-02-12T00:00:00\",\"2018-02-13T00:00:00\",\"2018-02-14T00:00:00\",\"2018-02-15T00:00:00\",\"2018-02-16T00:00:00\",\"2018-02-17T00:00:00\",\"2018-02-18T00:00:00\",\"2018-02-19T00:00:00\",\"2018-02-20T00:00:00\",\"2018-02-21T00:00:00\",\"2018-02-22T00:00:00\",\"2018-02-23T00:00:00\",\"2018-02-24T00:00:00\",\"2018-02-25T00:00:00\",\"2018-02-26T00:00:00\",\"2018-02-27T00:00:00\",\"2018-02-28T00:00:00\",\"2018-03-01T00:00:00\",\"2018-03-02T00:00:00\",\"2018-03-03T00:00:00\",\"2018-03-04T00:00:00\",\"2018-03-05T00:00:00\",\"2018-03-06T00:00:00\",\"2018-03-07T00:00:00\",\"2018-03-08T00:00:00\",\"2018-03-09T00:00:00\",\"2018-03-10T00:00:00\",\"2018-03-11T00:00:00\",\"2018-03-12T00:00:00\",\"2018-03-13T00:00:00\",\"2018-03-14T00:00:00\",\"2018-03-15T00:00:00\",\"2018-03-16T00:00:00\",\"2018-03-17T00:00:00\",\"2018-03-18T00:00:00\",\"2018-03-19T00:00:00\",\"2018-03-20T00:00:00\",\"2018-03-21T00:00:00\",\"2018-03-22T00:00:00\",\"2018-03-23T00:00:00\",\"2018-03-24T00:00:00\",\"2018-03-25T00:00:00\",\"2018-03-26T00:00:00\",\"2018-03-27T00:00:00\",\"2018-03-28T00:00:00\",\"2018-03-29T00:00:00\",\"2018-03-30T00:00:00\",\"2018-03-31T00:00:00\",\"2018-04-01T00:00:00\",\"2018-04-02T00:00:00\",\"2018-04-03T00:00:00\",\"2018-04-04T00:00:00\",\"2018-04-05T00:00:00\",\"2018-04-06T00:00:00\",\"2018-04-07T00:00:00\",\"2018-04-08T00:00:00\",\"2018-04-09T00:00:00\",\"2018-04-10T00:00:00\",\"2018-04-11T00:00:00\",\"2018-04-12T00:00:00\",\"2018-04-13T00:00:00\",\"2018-04-14T00:00:00\",\"2018-04-15T00:00:00\",\"2018-04-16T00:00:00\",\"2018-04-17T00:00:00\",\"2018-04-18T00:00:00\",\"2018-04-19T00:00:00\",\"2018-04-20T00:00:00\",\"2018-04-21T00:00:00\",\"2018-04-22T00:00:00\",\"2018-04-23T00:00:00\",\"2018-04-24T00:00:00\",\"2018-04-25T00:00:00\",\"2018-04-26T00:00:00\",\"2018-04-27T00:00:00\",\"2018-04-28T00:00:00\",\"2018-04-29T00:00:00\",\"2018-04-30T00:00:00\",\"2018-05-01T00:00:00\",\"2018-05-02T00:00:00\",\"2018-05-03T00:00:00\",\"2018-05-04T00:00:00\",\"2018-05-05T00:00:00\",\"2018-05-06T00:00:00\",\"2018-05-07T00:00:00\",\"2018-05-08T00:00:00\",\"2018-05-09T00:00:00\",\"2018-05-10T00:00:00\",\"2018-05-11T00:00:00\",\"2018-05-12T00:00:00\",\"2018-05-13T00:00:00\",\"2018-05-14T00:00:00\",\"2018-05-15T00:00:00\",\"2018-05-16T00:00:00\",\"2018-05-17T00:00:00\",\"2018-05-18T00:00:00\",\"2018-05-19T00:00:00\",\"2018-05-20T00:00:00\",\"2018-05-21T00:00:00\",\"2018-05-22T00:00:00\",\"2018-05-23T00:00:00\",\"2018-05-24T00:00:00\",\"2018-05-25T00:00:00\",\"2018-05-26T00:00:00\",\"2018-05-27T00:00:00\",\"2018-05-28T00:00:00\",\"2018-05-29T00:00:00\",\"2018-05-30T00:00:00\",\"2018-05-31T00:00:00\",\"2018-06-01T00:00:00\",\"2018-06-02T00:00:00\",\"2018-06-03T00:00:00\",\"2018-06-04T00:00:00\",\"2018-06-05T00:00:00\",\"2018-06-06T00:00:00\",\"2018-06-07T00:00:00\",\"2018-06-08T00:00:00\",\"2018-06-09T00:00:00\",\"2018-06-10T00:00:00\",\"2018-06-11T00:00:00\",\"2018-06-12T00:00:00\",\"2018-06-13T00:00:00\",\"2018-06-14T00:00:00\",\"2018-06-15T00:00:00\",\"2018-06-16T00:00:00\",\"2018-06-17T00:00:00\",\"2018-06-18T00:00:00\",\"2018-06-19T00:00:00\",\"2018-06-20T00:00:00\",\"2018-06-21T00:00:00\",\"2018-06-22T00:00:00\",\"2018-06-23T00:00:00\",\"2018-06-24T00:00:00\",\"2018-06-25T00:00:00\",\"2018-06-26T00:00:00\",\"2018-06-27T00:00:00\",\"2018-06-28T00:00:00\",\"2018-06-29T00:00:00\",\"2018-06-30T00:00:00\",\"2018-07-01T00:00:00\",\"2018-07-02T00:00:00\",\"2018-07-03T00:00:00\",\"2018-07-04T00:00:00\",\"2018-07-05T00:00:00\",\"2018-07-06T00:00:00\",\"2018-07-07T00:00:00\",\"2018-07-08T00:00:00\",\"2018-07-09T00:00:00\",\"2018-07-10T00:00:00\",\"2018-07-11T00:00:00\",\"2018-07-12T00:00:00\",\"2018-07-13T00:00:00\",\"2018-07-14T00:00:00\",\"2018-07-15T00:00:00\",\"2018-07-16T00:00:00\",\"2018-07-17T00:00:00\",\"2018-07-18T00:00:00\",\"2018-07-19T00:00:00\",\"2018-07-20T00:00:00\",\"2018-07-21T00:00:00\",\"2018-07-22T00:00:00\",\"2018-07-23T00:00:00\",\"2018-07-24T00:00:00\",\"2018-07-25T00:00:00\",\"2018-07-26T00:00:00\",\"2018-07-27T00:00:00\",\"2018-07-28T00:00:00\",\"2018-07-29T00:00:00\",\"2018-07-30T00:00:00\",\"2018-07-31T00:00:00\",\"2018-08-01T00:00:00\",\"2018-08-02T00:00:00\",\"2018-08-03T00:00:00\",\"2018-08-04T00:00:00\",\"2018-08-05T00:00:00\",\"2018-08-06T00:00:00\",\"2018-08-07T00:00:00\",\"2018-08-08T00:00:00\",\"2018-08-09T00:00:00\",\"2018-08-10T00:00:00\",\"2018-08-11T00:00:00\",\"2018-08-12T00:00:00\",\"2018-08-13T00:00:00\",\"2018-08-14T00:00:00\",\"2018-08-15T00:00:00\",\"2018-08-16T00:00:00\",\"2018-08-17T00:00:00\",\"2018-08-18T00:00:00\",\"2018-08-19T00:00:00\",\"2018-08-20T00:00:00\",\"2018-08-21T00:00:00\",\"2018-08-22T00:00:00\",\"2018-08-23T00:00:00\",\"2018-08-24T00:00:00\",\"2018-08-25T00:00:00\",\"2018-08-26T00:00:00\",\"2018-08-27T00:00:00\",\"2018-08-28T00:00:00\",\"2018-08-29T00:00:00\",\"2018-08-30T00:00:00\",\"2018-08-31T00:00:00\",\"2018-09-01T00:00:00\",\"2018-09-02T00:00:00\",\"2018-09-03T00:00:00\",\"2018-09-04T00:00:00\",\"2018-09-05T00:00:00\",\"2018-09-06T00:00:00\",\"2018-09-07T00:00:00\",\"2018-09-08T00:00:00\",\"2018-09-09T00:00:00\",\"2018-09-10T00:00:00\",\"2018-09-11T00:00:00\",\"2018-09-12T00:00:00\",\"2018-09-13T00:00:00\",\"2018-09-14T00:00:00\",\"2018-09-15T00:00:00\",\"2018-09-16T00:00:00\",\"2018-09-17T00:00:00\",\"2018-09-18T00:00:00\",\"2018-09-19T00:00:00\",\"2018-09-20T00:00:00\",\"2018-09-21T00:00:00\",\"2018-09-22T00:00:00\",\"2018-09-23T00:00:00\",\"2018-09-24T00:00:00\",\"2018-09-25T00:00:00\",\"2018-09-26T00:00:00\",\"2018-09-27T00:00:00\",\"2018-09-28T00:00:00\",\"2018-09-29T00:00:00\",\"2018-09-30T00:00:00\",\"2018-10-01T00:00:00\",\"2018-10-02T00:00:00\",\"2018-10-03T00:00:00\",\"2018-10-04T00:00:00\",\"2018-10-05T00:00:00\",\"2018-10-06T00:00:00\",\"2018-10-07T00:00:00\",\"2018-10-08T00:00:00\",\"2018-10-09T00:00:00\",\"2018-10-10T00:00:00\",\"2018-10-11T00:00:00\",\"2018-10-12T00:00:00\",\"2018-10-13T00:00:00\",\"2018-10-14T00:00:00\",\"2018-10-15T00:00:00\",\"2018-10-16T00:00:00\",\"2018-10-17T00:00:00\",\"2018-10-18T00:00:00\",\"2018-10-19T00:00:00\",\"2018-10-20T00:00:00\",\"2018-10-21T00:00:00\",\"2018-10-22T00:00:00\",\"2018-10-23T00:00:00\",\"2018-10-24T00:00:00\",\"2018-10-25T00:00:00\",\"2018-10-26T00:00:00\",\"2018-10-27T00:00:00\",\"2018-10-28T00:00:00\",\"2018-10-29T00:00:00\",\"2018-10-30T00:00:00\",\"2018-10-31T00:00:00\",\"2018-11-01T00:00:00\",\"2018-11-02T00:00:00\",\"2018-11-03T00:00:00\",\"2018-11-04T00:00:00\",\"2018-11-05T00:00:00\",\"2018-11-06T00:00:00\",\"2018-11-07T00:00:00\",\"2018-11-08T00:00:00\",\"2018-11-09T00:00:00\",\"2018-11-10T00:00:00\",\"2018-11-11T00:00:00\",\"2018-11-12T00:00:00\",\"2018-11-13T00:00:00\",\"2018-11-14T00:00:00\",\"2018-11-15T00:00:00\",\"2018-11-16T00:00:00\",\"2018-11-17T00:00:00\",\"2018-11-18T00:00:00\",\"2018-11-19T00:00:00\",\"2018-11-20T00:00:00\",\"2018-11-21T00:00:00\",\"2018-11-22T00:00:00\",\"2018-11-23T00:00:00\",\"2018-11-24T00:00:00\",\"2018-11-25T00:00:00\",\"2018-11-26T00:00:00\",\"2018-11-27T00:00:00\",\"2018-11-28T00:00:00\",\"2018-11-29T00:00:00\",\"2018-11-30T00:00:00\",\"2018-12-01T00:00:00\",\"2018-12-02T00:00:00\",\"2018-12-03T00:00:00\",\"2018-12-04T00:00:00\",\"2018-12-05T00:00:00\",\"2018-12-06T00:00:00\",\"2018-12-07T00:00:00\",\"2018-12-08T00:00:00\",\"2018-12-09T00:00:00\",\"2018-12-10T00:00:00\",\"2018-12-11T00:00:00\",\"2018-12-12T00:00:00\",\"2018-12-13T00:00:00\",\"2018-12-14T00:00:00\",\"2018-12-15T00:00:00\",\"2018-12-16T00:00:00\",\"2018-12-17T00:00:00\",\"2018-12-18T00:00:00\",\"2018-12-19T00:00:00\",\"2018-12-20T00:00:00\",\"2018-12-21T00:00:00\",\"2018-12-22T00:00:00\",\"2018-12-23T00:00:00\",\"2018-12-24T00:00:00\",\"2018-12-25T00:00:00\",\"2018-12-26T00:00:00\",\"2018-12-27T00:00:00\",\"2018-12-28T00:00:00\",\"2018-12-29T00:00:00\",\"2018-12-30T00:00:00\"],\"xaxis\":\"x\",\"y\":[90.53145712350855,88.51879208872678,87.77569402948049,84.97128767335664,85.09942460354848,83.11556110421279,87.56186807104798,91.73098115218768,89.87916347634828,85.44694065551694,84.11347966190685,83.8843667023602,78.4446879812808,80.85130636665538,88.73835039552746,88.32735685831871,83.26593016848052,76.84585889996566,75.92411528152664,78.50025671605164,81.70638380193574,78.88438787340749,81.35982176515643,85.90281416195079,87.28493037636089,78.53694746265208,80.20775414184475,81.48414153068464,86.79414781885436,90.1310396341959,90.62889216500369,88.98036802408132,84.16384179248644,83.70809841717833,86.03678334411872,87.54529639939939,83.81009533158549,85.23568869955828,85.55375852121924,84.2266908259072,82.67864243737785,85.37904733098242,84.18995396337242,76.00602868465526,81.34147379266518,83.87848630412685,88.86848115218768,87.63091405996745,84.78913531257845,86.01663457062833,89.90058874211135,88.83743374565944,83.64550878689174,78.93441374569612,77.3236837837192,78.37236404816585,81.03234044953844,80.88336823964495,80.93564617100635,84.20471493963771,74.95939015560825,78.97092398129776,83.83855322813913,81.59289241171071,83.60544558051308,80.45949791653871,89.21925010616695,89.61388099591629,87.59827918004245,79.13506658207638,85.48366655983511,84.10673167458151,86.79814049666204,85.11178366480313,83.18151711545282,80.24450693187721,87.57264021891515,82.54744796726627,80.9637196983271,76.21019045814762,83.39114599971064,85.78512243891936,84.96094145750918,73.23235875351743,72.29726927924824,74.59446588517696,79.07329351618563,73.92276842867105,68.95904997837256,73.43546220335888,80.85179380391693,84.39093123182252,80.2116864231211,84.77122259870113,79.50334492075054,77.03186738292696,77.64443136094701,75.74654746782412,72.25489750168062,78.93592248832533,76.5411598078789,78.49289261435698,81.76577739609957,79.12971351229471,82.58202756156967,77.86550624673572,79.06635481642405,74.2444567750193,69.46193127053992,67.03758677737987,72.79425461595767,79.86251554689765,73.38435903648097,75.09350889487934,69.51079046901528,77.68108737490937,74.38594275296467,80.36718037575801,73.17301504540022,75.9284989656884,80.20925359917089,80.08457217752715,84.70089002877359,84.46673449392351,79.76293226559856,86.54795109019611,83.36674517059231,83.07438420105815,75.33226636301514,72.16678238059627,82.15792494662128,82.2878566561422,77.73723299932227,76.59067756528326,74.25123789182094,73.25203845200616,80.20202758310855,88.67683585123227,82.32730611159847,79.77489361081412,75.72116378143991,73.4714748132573,80.76942991439088,83.45285956542445,74.5367413581205,69.78272475453022,76.79521193012647,79.34189512754028,82.74520539215864,81.55823821977317,80.10070461643926,75.09574477384723,78.28556057551087,81.05362671649223,75.0539192174899,75.75540721764061,78.33351689881329,75.59234604429315,75.65082486871118,76.74423552403987,72.24412349568809,77.57336898728524,77.38657809310692,76.85158397844442,72.83535804049866,75.91503610713642,76.46714329057795,75.47850451981991,73.38289024888313,70.14734207384832,69.26506255047501,68.2045796989647,78.70725958818353,77.24256259301015,76.18076464292062,76.95696000803855,75.88917121595841,83.8231741891695,84.17215088387283,80.63440810352093,84.6117768700547,83.35421365310013,82.18383038418533,80.0521114307646,77.84595940238954,73.11863998566812,70.4102567926155,71.60419920536793,75.64614669435652,76.38372845342062,80.83061439537818,77.1646339401381,81.71117600015727,73.20392218574703,77.20747943059669,75.59826359505946,80.92063173141779,78.68325799467291,68.88156130263579,75.1387100628793,76.89802993376777,71.79719942047282,78.95946114748624,80.43941234840611,84.14843120866327,79.30870876671666,85.25336332110123,77.36343755675205,75.76624929269337,77.38231321975388,74.54725215531396,75.81759830567668,75.13215988212022,73.37709083697568,74.82603731718501,79.0018485947398,77.48516854154866,74.4775892548864,72.53819797755399,82.6529760254619,82.07128807916406,84.3869314573376,79.79171187122334,84.5208507566596,77.74222401704783,74.70006464470704,79.36169057843773,77.93670322963995,83.38352277857344,79.52862146580249,77.31794478042531,75.24386480123862,82.85993951406218,79.98512402200234,81.14321792879808,78.81857431711451,78.687340301761,79.18702430329996,76.5552084792605,75.1899665481807,75.3078404893394,87.45163410491854,80.77196910174762,82.06981805308433,79.12741055862024,81.62778679985774,85.1547416162769,83.44820491171684,78.76603581405384,80.75911521613807,86.11913182126179,83.26554585623867,82.33114898777302,81.27486666814002,79.54456402993625,83.48414429536443,80.75410097287586,82.57228719926292,84.34876706922994,84.22987516868326,84.64779772256877,81.82933700906815,81.52498827210705,79.17516329040248,79.17341593532079,78.40380373414038,77.49130762964899,84.23234928802191,84.30081472445787,83.44547271575047,85.6921349843966,85.17533039348118,79.4337424799018,86.56044796726626,83.01084046964503,79.4383298973943,80.33380015626801,84.38254490967263,78.99144511563814,82.79710336189748,84.78425732919173,86.37878887652346,84.34941182347868,80.55323165967289,83.32512888082411,84.19614282657518,84.49144701693481,79.47432928080087,78.27862811932124,83.4565233359644,86.34295175349666,82.99775457026908,79.11631360993569,78.37291312910676,80.32984971659475,88.04100580092187,87.86395709815044,85.84161866458133,89.82780411101317,84.7003171992086,83.8504069818327,84.25563484099554,81.394321640692,83.62211430386157,79.29987526989302,86.10311524120726,86.00018748250415,85.51989892435014,80.9244213978209,80.58633690766766,80.92490448954446,85.39218068207468,86.18085620191188,83.09543852466958,89.09475526602685,81.39539206840067,80.05697005727426,84.15906153249504,85.35256853447187,87.2852506848155,87.49258785904593,86.4275666992657,83.3750451299708,86.51222151200889,84.42609098796784,75.7556022010967,80.18817476620076,87.11453700217174,82.26796998079297,81.99739620604834,86.13211176530736,84.04211114871144,85.16075293397641,81.65719044837428,84.87147372065438,88.07062650241889,89.97639134260153,86.39127888128526,86.84639163836114,81.77504120200518,86.15272785078923,78.4973924117107,83.51672574504404,84.11334315299699,86.27499970599729,83.80865258996229,86.29702468865489,82.31476901012499,83.8622094774903,81.63485149032115,87.49524462498944,85.43407162781212,89.94898651832793,90.8252715934659,91.48394796726626,90.87394756891636,90.49189241171071,89.4004765702344,87.31721842029187,84.88914408450204,82.27008290447192,82.679277208093,84.2189366747033,86.66717256324779,82.09721147474743,81.86241283514902,85.33423992832839,79.93357699048542,86.03057965651382,83.47005480870551,87.63145925705822,84.59835434947657,85.98710979650215,89.20146026457952,87.78681619310333,90.81601115853373,88.928839142064,86.23492574766783,87.90853126581335,87.11658719428496,82.13974275361836,78.09216825885086,83.28212693165848,81.89463536974527,87.68648268933711,88.83224630815498,85.82412320302878,87.19120771535408,85.16553899335345,85.84406490536621,86.31333267070396,87.84522695903989,89.72504316704274,86.0584463906692,89.40472780778599,85.3633512593706,80.27399631930935,81.93399042397307,87.56923380610158,79.59404931284372,81.60345984579997,81.47508058137723,80.57513121526279,82.60482710306628,82.08265003815781,82.94996440196226,80.29145983575222,79.26304138589053,84.17981938775753,87.10541619705411,86.4025417158325,81.29063580993203,80.54351952904292,84.82834757710928,90.42698649023225,88.26961552307213,79.34895369596006,76.57180381937272,73.35751356461674,69.59332816618183,64.9401706194661,65.45587147853351,67.22194296295585,63.07165377137106,78.46128859853404,79.94279015071983,80.79402779962288,86.97044274572134,83.76040772510838,84.79208092558022,84.17054533920953,83.7100660741479,85.83867046376281,82.64637729388392,79.49493023718718,83.40591573258968,82.02011358587504,75.40837053712715,81.49524541983179,82.22849499262094,86.14603623712885,82.19433730140993,80.60471120966305,74.57472297033225,77.86536170357158,79.43507047148343,82.93206682324005,82.31581401516212,82.29212318919079,79.71015773074033,85.7778172339649,84.51644202752281,82.49734841418294,83.69855981257375,82.78211837113231,79.14825786436447,79.03437868685745,82.76731093273612,80.82003601553554,75.13773416207256,72.53697583784667,80.23572197473592,85.10080074332106,86.46266747077473,81.89690229770459,78.20727498267144,85.33597707801572,83.54477428022572,85.17294309938879,82.66004118771964,76.82401381536071,71.9776977203805,69.84469702197231,69.94694848787375,73.37125596172712,71.55570725180823,75.11812775923951,79.3995480905721,79.5764037471926,78.84366119885911,75.42643603929717,75.77462204963109,79.78561074960051,87.71778555871492,86.17218688742612,75.31474568173944,81.36153273038163,78.19531141856395,77.12187365246106,75.76476185149693,75.81437550699809,74.16216277430716,78.46297989212529,79.76577358445043,77.14999612206923,73.48848882280765,85.62028621227178,80.55492242518636,78.2248363234748,78.86966366004727,80.77765749671478,75.84474948712403,76.4308985607055,77.77006624097505,79.41890333766584,79.47120990671353,79.08363465235354,83.67127446437682,83.76727330596297,85.24013037789754,79.23384677918473,77.55485512494906,80.80152137386798,85.83610689066444,81.16453569899339,83.94151164449569,84.83707249591892,80.32950528721723,76.83509469850414,84.99759714483802,87.69890455780214,87.14963092541474,83.8860193475662,84.07256704713738,85.51207692326187,85.24474035118298,86.04748340789034,83.5132845835831,78.09920453257949,82.67117432386371,78.7640578872396,77.20840465418354,77.20466775554975,81.473754653257,83.02753016006005,81.15745963706591,73.68286174647808,72.27938794480208,69.57389011984556,70.2378656526758,72.55182936674767,71.45074482531854,74.64579621757947,72.80292543687953,72.70846082178196,74.0095093640023,73.44317441394023,70.19250027908745,76.9285692645011,77.84974261572685,78.20773337415623,76.08293317892786,72.12083258007324,70.99527273221621,69.73190190633032,72.13771782580116,75.9092785541896,76.71571896612029,75.6499351613802,73.50681595817788,71.38696773099021,69.64665145976296,72.5570656825664,69.67346211114071,70.22579090061353,82.946830797761,80.87264578916539,76.93249930731957,74.1410093401541,73.72303871130977,73.79726155851921,69.60242486085785,75.6575284928435,70.77729669136981,77.11021084651806,77.28726665228902,74.47544232771737,73.27394513220182,71.55751940975358,69.07815175018457,73.22869183757737,71.39526766252374,68.20969031096652,72.84512662313021,72.73568217644839,81.99715072184614,76.45716333660242,75.76652080094446,74.22546485758646,81.78675629022338,79.28936622392531,78.57070048559557,81.01363031406146,76.90389302006766,79.97345458254671,80.01077431079896,82.30364680537586,83.07339858575568,81.4748874349867,81.63441086428693,75.15269860943997,74.95869012618388,76.53702282630418,78.49575188298351,75.79141320588425,83.77235959781223,82.01785129578217,77.68212195561536,71.20236771889509,71.32341319931224,76.70351199952854,83.08730950879699,86.47529286687957,79.47506450979864,75.06664104140464,75.73500957807816,75.27574398986029,78.63714548475198,77.29241465647733,82.2368421047732,81.26462615854317,77.51066550138616,77.5278384579864,73.0307150729413,66.77800397640691,75.34861300238973,77.28905619400362,75.88076142462116,72.81805582590025,80.86800363788274,84.81294224848266,75.01004638568729,73.22450765350304,72.67183746791281,72.58249842199601,77.95928850171656,71.87714551067057,76.46986562762179,71.8548929794971,83.85469578348948,80.91415897980612,79.85888963956299,74.98581933300446,82.60677159078884,82.1176471365635,79.06111463393293,79.2789300699567,76.03166433598402,80.33676454983562,78.10540664798413,76.26203798410243,78.77916733009668,78.33514781885435,78.23055892649096,82.70345136881257,80.5263945494261,82.01138497921146,80.12911208953402,79.93711071196505,81.63308722598651,79.9894992711064,85.0772592411266,83.2714507668004,78.38203956356683,81.22058236136567,76.85243543154111,79.49375107455568,79.66844420347094,82.88925546052059,83.64158016838321,78.85797271224287,79.46391919904106,82.03576876487445,81.09435309999482,82.19401212345544,83.05366418837805,82.50107838164142,82.01137672954596,85.41225555046861,85.06832954711969,85.20856788913616,82.3147918516826,86.09490951607837,88.7159822052374,89.75601870240281,84.01002089538527,76.20338712345544,77.23949443313666,84.11550335152562,84.21186937928327,88.43870912971975,88.13857289948295,87.66976724234372,88.06003323699687,85.73983827234133,87.34695903389228,84.39581647928551,79.04959071243219,82.62500492519015,87.3473765313264,87.26559199092773,84.1861383611445,81.46369734326139,86.31519061927544,86.20615512765742,82.39216467528846,81.6423480503854,79.64255861782054,81.36553812453259,85.62864471899641,82.6448603019576,80.67059385697726,80.19014757738982,84.15599269367344,88.5429657831355,85.72214877143674,82.25050184342602,84.71343597139823,83.17285299765445,84.87346945313763,83.4663162411997,88.26193662877748,86.20621459422735,83.63292230051215,82.8843089833749,86.00953138486712,89.03261903816488,87.92584766432087,89.09126569905631],\"yaxis\":\"y\",\"type\":\"scattergl\"}],                        {\"template\":{\"data\":{\"histogram2dcontour\":[{\"type\":\"histogram2dcontour\",\"colorbar\":{\"outlinewidth\":0,\"ticks\":\"\"},\"colorscale\":[[0.0,\"#0d0887\"],[0.1111111111111111,\"#46039f\"],[0.2222222222222222,\"#7201a8\"],[0.3333333333333333,\"#9c179e\"],[0.4444444444444444,\"#bd3786\"],[0.5555555555555556,\"#d8576b\"],[0.6666666666666666,\"#ed7953\"],[0.7777777777777778,\"#fb9f3a\"],[0.8888888888888888,\"#fdca26\"],[1.0,\"#f0f921\"]]}],\"choropleth\":[{\"type\":\"choropleth\",\"colorbar\":{\"outlinewidth\":0,\"ticks\":\"\"}}],\"histogram2d\":[{\"type\":\"histogram2d\",\"colorbar\":{\"outlinewidth\":0,\"ticks\":\"\"},\"colorscale\":[[0.0,\"#0d0887\"],[0.1111111111111111,\"#46039f\"],[0.2222222222222222,\"#7201a8\"],[0.3333333333333333,\"#9c179e\"],[0.4444444444444444,\"#bd3786\"],[0.5555555555555556,\"#d8576b\"],[0.6666666666666666,\"#ed7953\"],[0.7777777777777778,\"#fb9f3a\"],[0.8888888888888888,\"#fdca26\"],[1.0,\"#f0f921\"]]}],\"heatmap\":[{\"type\":\"heatmap\",\"colorbar\":{\"outlinewidth\":0,\"ticks\":\"\"},\"colorscale\":[[0.0,\"#0d0887\"],[0.1111111111111111,\"#46039f\"],[0.2222222222222222,\"#7201a8\"],[0.3333333333333333,\"#9c179e\"],[0.4444444444444444,\"#bd3786\"],[0.5555555555555556,\"#d8576b\"],[0.6666666666666666,\"#ed7953\"],[0.7777777777777778,\"#fb9f3a\"],[0.8888888888888888,\"#fdca26\"],[1.0,\"#f0f921\"]]}],\"heatmapgl\":[{\"type\":\"heatmapgl\",\"colorbar\":{\"outlinewidth\":0,\"ticks\":\"\"},\"colorscale\":[[0.0,\"#0d0887\"],[0.1111111111111111,\"#46039f\"],[0.2222222222222222,\"#7201a8\"],[0.3333333333333333,\"#9c179e\"],[0.4444444444444444,\"#bd3786\"],[0.5555555555555556,\"#d8576b\"],[0.6666666666666666,\"#ed7953\"],[0.7777777777777778,\"#fb9f3a\"],[0.8888888888888888,\"#fdca26\"],[1.0,\"#f0f921\"]]}],\"contourcarpet\":[{\"type\":\"contourcarpet\",\"colorbar\":{\"outlinewidth\":0,\"ticks\":\"\"}}],\"contour\":[{\"type\":\"contour\",\"colorbar\":{\"outlinewidth\":0,\"ticks\":\"\"},\"colorscale\":[[0.0,\"#0d0887\"],[0.1111111111111111,\"#46039f\"],[0.2222222222222222,\"#7201a8\"],[0.3333333333333333,\"#9c179e\"],[0.4444444444444444,\"#bd3786\"],[0.5555555555555556,\"#d8576b\"],[0.6666666666666666,\"#ed7953\"],[0.7777777777777778,\"#fb9f3a\"],[0.8888888888888888,\"#fdca26\"],[1.0,\"#f0f921\"]]}],\"surface\":[{\"type\":\"surface\",\"colorbar\":{\"outlinewidth\":0,\"ticks\":\"\"},\"colorscale\":[[0.0,\"#0d0887\"],[0.1111111111111111,\"#46039f\"],[0.2222222222222222,\"#7201a8\"],[0.3333333333333333,\"#9c179e\"],[0.4444444444444444,\"#bd3786\"],[0.5555555555555556,\"#d8576b\"],[0.6666666666666666,\"#ed7953\"],[0.7777777777777778,\"#fb9f3a\"],[0.8888888888888888,\"#fdca26\"],[1.0,\"#f0f921\"]]}],\"mesh3d\":[{\"type\":\"mesh3d\",\"colorbar\":{\"outlinewidth\":0,\"ticks\":\"\"}}],\"scatter\":[{\"fillpattern\":{\"fillmode\":\"overlay\",\"size\":10,\"solidity\":0.2},\"type\":\"scatter\"}],\"parcoords\":[{\"type\":\"parcoords\",\"line\":{\"colorbar\":{\"outlinewidth\":0,\"ticks\":\"\"}}}],\"scatterpolargl\":[{\"type\":\"scatterpolargl\",\"marker\":{\"colorbar\":{\"outlinewidth\":0,\"ticks\":\"\"}}}],\"bar\":[{\"error_x\":{\"color\":\"#2a3f5f\"},\"error_y\":{\"color\":\"#2a3f5f\"},\"marker\":{\"line\":{\"color\":\"#E5ECF6\",\"width\":0.5},\"pattern\":{\"fillmode\":\"overlay\",\"size\":10,\"solidity\":0.2}},\"type\":\"bar\"}],\"scattergeo\":[{\"type\":\"scattergeo\",\"marker\":{\"colorbar\":{\"outlinewidth\":0,\"ticks\":\"\"}}}],\"scatterpolar\":[{\"type\":\"scatterpolar\",\"marker\":{\"colorbar\":{\"outlinewidth\":0,\"ticks\":\"\"}}}],\"histogram\":[{\"marker\":{\"pattern\":{\"fillmode\":\"overlay\",\"size\":10,\"solidity\":0.2}},\"type\":\"histogram\"}],\"scattergl\":[{\"type\":\"scattergl\",\"marker\":{\"colorbar\":{\"outlinewidth\":0,\"ticks\":\"\"}}}],\"scatter3d\":[{\"type\":\"scatter3d\",\"line\":{\"colorbar\":{\"outlinewidth\":0,\"ticks\":\"\"}},\"marker\":{\"colorbar\":{\"outlinewidth\":0,\"ticks\":\"\"}}}],\"scattermapbox\":[{\"type\":\"scattermapbox\",\"marker\":{\"colorbar\":{\"outlinewidth\":0,\"ticks\":\"\"}}}],\"scatterternary\":[{\"type\":\"scatterternary\",\"marker\":{\"colorbar\":{\"outlinewidth\":0,\"ticks\":\"\"}}}],\"scattercarpet\":[{\"type\":\"scattercarpet\",\"marker\":{\"colorbar\":{\"outlinewidth\":0,\"ticks\":\"\"}}}],\"carpet\":[{\"aaxis\":{\"endlinecolor\":\"#2a3f5f\",\"gridcolor\":\"white\",\"linecolor\":\"white\",\"minorgridcolor\":\"white\",\"startlinecolor\":\"#2a3f5f\"},\"baxis\":{\"endlinecolor\":\"#2a3f5f\",\"gridcolor\":\"white\",\"linecolor\":\"white\",\"minorgridcolor\":\"white\",\"startlinecolor\":\"#2a3f5f\"},\"type\":\"carpet\"}],\"table\":[{\"cells\":{\"fill\":{\"color\":\"#EBF0F8\"},\"line\":{\"color\":\"white\"}},\"header\":{\"fill\":{\"color\":\"#C8D4E3\"},\"line\":{\"color\":\"white\"}},\"type\":\"table\"}],\"barpolar\":[{\"marker\":{\"line\":{\"color\":\"#E5ECF6\",\"width\":0.5},\"pattern\":{\"fillmode\":\"overlay\",\"size\":10,\"solidity\":0.2}},\"type\":\"barpolar\"}],\"pie\":[{\"automargin\":true,\"type\":\"pie\"}]},\"layout\":{\"autotypenumbers\":\"strict\",\"colorway\":[\"#636efa\",\"#EF553B\",\"#00cc96\",\"#ab63fa\",\"#FFA15A\",\"#19d3f3\",\"#FF6692\",\"#B6E880\",\"#FF97FF\",\"#FECB52\"],\"font\":{\"color\":\"#2a3f5f\"},\"hovermode\":\"closest\",\"hoverlabel\":{\"align\":\"left\"},\"paper_bgcolor\":\"white\",\"plot_bgcolor\":\"#E5ECF6\",\"polar\":{\"bgcolor\":\"#E5ECF6\",\"angularaxis\":{\"gridcolor\":\"white\",\"linecolor\":\"white\",\"ticks\":\"\"},\"radialaxis\":{\"gridcolor\":\"white\",\"linecolor\":\"white\",\"ticks\":\"\"}},\"ternary\":{\"bgcolor\":\"#E5ECF6\",\"aaxis\":{\"gridcolor\":\"white\",\"linecolor\":\"white\",\"ticks\":\"\"},\"baxis\":{\"gridcolor\":\"white\",\"linecolor\":\"white\",\"ticks\":\"\"},\"caxis\":{\"gridcolor\":\"white\",\"linecolor\":\"white\",\"ticks\":\"\"}},\"coloraxis\":{\"colorbar\":{\"outlinewidth\":0,\"ticks\":\"\"}},\"colorscale\":{\"sequential\":[[0.0,\"#0d0887\"],[0.1111111111111111,\"#46039f\"],[0.2222222222222222,\"#7201a8\"],[0.3333333333333333,\"#9c179e\"],[0.4444444444444444,\"#bd3786\"],[0.5555555555555556,\"#d8576b\"],[0.6666666666666666,\"#ed7953\"],[0.7777777777777778,\"#fb9f3a\"],[0.8888888888888888,\"#fdca26\"],[1.0,\"#f0f921\"]],\"sequentialminus\":[[0.0,\"#0d0887\"],[0.1111111111111111,\"#46039f\"],[0.2222222222222222,\"#7201a8\"],[0.3333333333333333,\"#9c179e\"],[0.4444444444444444,\"#bd3786\"],[0.5555555555555556,\"#d8576b\"],[0.6666666666666666,\"#ed7953\"],[0.7777777777777778,\"#fb9f3a\"],[0.8888888888888888,\"#fdca26\"],[1.0,\"#f0f921\"]],\"diverging\":[[0,\"#8e0152\"],[0.1,\"#c51b7d\"],[0.2,\"#de77ae\"],[0.3,\"#f1b6da\"],[0.4,\"#fde0ef\"],[0.5,\"#f7f7f7\"],[0.6,\"#e6f5d0\"],[0.7,\"#b8e186\"],[0.8,\"#7fbc41\"],[0.9,\"#4d9221\"],[1,\"#276419\"]]},\"xaxis\":{\"gridcolor\":\"white\",\"linecolor\":\"white\",\"ticks\":\"\",\"title\":{\"standoff\":15},\"zerolinecolor\":\"white\",\"automargin\":true,\"zerolinewidth\":2},\"yaxis\":{\"gridcolor\":\"white\",\"linecolor\":\"white\",\"ticks\":\"\",\"title\":{\"standoff\":15},\"zerolinecolor\":\"white\",\"automargin\":true,\"zerolinewidth\":2},\"scene\":{\"xaxis\":{\"backgroundcolor\":\"#E5ECF6\",\"gridcolor\":\"white\",\"linecolor\":\"white\",\"showbackground\":true,\"ticks\":\"\",\"zerolinecolor\":\"white\",\"gridwidth\":2},\"yaxis\":{\"backgroundcolor\":\"#E5ECF6\",\"gridcolor\":\"white\",\"linecolor\":\"white\",\"showbackground\":true,\"ticks\":\"\",\"zerolinecolor\":\"white\",\"gridwidth\":2},\"zaxis\":{\"backgroundcolor\":\"#E5ECF6\",\"gridcolor\":\"white\",\"linecolor\":\"white\",\"showbackground\":true,\"ticks\":\"\",\"zerolinecolor\":\"white\",\"gridwidth\":2}},\"shapedefaults\":{\"line\":{\"color\":\"#2a3f5f\"}},\"annotationdefaults\":{\"arrowcolor\":\"#2a3f5f\",\"arrowhead\":0,\"arrowwidth\":1},\"geo\":{\"bgcolor\":\"white\",\"landcolor\":\"#E5ECF6\",\"subunitcolor\":\"white\",\"showland\":true,\"showlakes\":true,\"lakecolor\":\"white\"},\"title\":{\"x\":0.05},\"mapbox\":{\"style\":\"light\"}}},\"xaxis\":{\"anchor\":\"y\",\"domain\":[0.0,1.0],\"title\":{\"text\":\"date\"},\"rangeslider\":{\"visible\":true},\"rangeselector\":{\"buttons\":[{\"count\":1,\"label\":\"1m\",\"step\":\"month\",\"stepmode\":\"backward\"},{\"count\":6,\"label\":\"6m\",\"step\":\"month\",\"stepmode\":\"backward\"},{\"count\":1,\"label\":\"YTD\",\"step\":\"year\",\"stepmode\":\"todate\"},{\"count\":1,\"label\":\"1y\",\"step\":\"year\",\"stepmode\":\"backward\"},{\"step\":\"all\"}]}},\"yaxis\":{\"anchor\":\"x\",\"domain\":[0.0,1.0],\"title\":{\"text\":\"value\"}},\"legend\":{\"title\":{\"text\":\"variable\"},\"tracegroupgap\":0},\"title\":{\"text\":\"Temperature (\\u00b0C) - Humidity ratio\"}},                        {\"responsive\": true}                    ).then(function(){\n",
       "                            \n",
       "var gd = document.getElementById('f54e99e9-779c-4471-97dc-2624a02b2727');\n",
       "var x = new MutationObserver(function (mutations, observer) {{\n",
       "        var display = window.getComputedStyle(gd).display;\n",
       "        if (!display || display === 'none') {{\n",
       "            console.log([gd, 'removed!']);\n",
       "            Plotly.purge(gd);\n",
       "            observer.disconnect();\n",
       "        }}\n",
       "}});\n",
       "\n",
       "// Listen for the removal of the full notebook cells\n",
       "var notebookContainer = gd.closest('#notebook-container');\n",
       "if (notebookContainer) {{\n",
       "    x.observe(notebookContainer, {childList: true});\n",
       "}}\n",
       "\n",
       "// Listen for the clearing of the current output cell\n",
       "var outputEl = gd.closest('.output');\n",
       "if (outputEl) {{\n",
       "    x.observe(outputEl, {childList: true});\n",
       "}}\n",
       "\n",
       "                        })                };                });            </script>        </div>"
      ]
     },
     "metadata": {},
     "output_type": "display_data"
    }
   ],
   "source": [
    "df = weather_data.set_index('date')\n",
    "df['t'] = df['t'] - 273.5\n",
    "fig = px.line(df['2017-01-01':'2018-12-30'][['t','hu']].resample('D').mean(),\n",
    "             title = 'Temperature (°C) - Humidity ratio')\n",
    "fig.update_xaxes(\n",
    "    rangeslider_visible=True,\n",
    "    rangeselector=dict(\n",
    "        buttons=list([\n",
    "            dict(count=1, label=\"1m\", step=\"month\", stepmode=\"backward\"),\n",
    "            dict(count=6, label=\"6m\", step=\"month\", stepmode=\"backward\"),\n",
    "            dict(count=1, label=\"YTD\", step=\"year\", stepmode=\"todate\"),\n",
    "            dict(count=1, label=\"1y\", step=\"year\", stepmode=\"backward\"),\n",
    "            dict(step=\"all\")\n",
    "        ])\n",
    "    )\n",
    ")\n",
    "fig.show()"
   ]
  },
  {
   "cell_type": "code",
   "execution_count": 40,
   "id": "95ce5056",
   "metadata": {},
   "outputs": [],
   "source": [
    "weather_data['dd'] = pd.to_numeric(weather_data['dd'], errors='coerce')\n",
    "weather_data['ff'] = pd.to_numeric(weather_data['ff'], errors='coerce')\n",
    "weather_data['precip'] = pd.to_numeric(weather_data['precip'], errors='coerce')\n",
    "weather_data['hu'] = pd.to_numeric(weather_data['hu'], errors='coerce')\n",
    "weather_data['td'] = pd.to_numeric(weather_data['td'], errors='coerce')\n",
    "weather_data['t'] = pd.to_numeric(weather_data['t'], errors='coerce')\n",
    "weather_data['psl'] = pd.to_numeric(weather_data['psl'], errors='coerce')\n",
    "\n",
    "# Handling missing values - options: fillna, dropna\n",
    "weather_data = weather_data.dropna(subset=['dd', 'ff', 'precip', 'hu', 'td', 't', 'psl'])"
   ]
  },
  {
   "cell_type": "code",
   "execution_count": 42,
   "id": "72da049b",
   "metadata": {},
   "outputs": [
    {
     "data": {
      "image/png": "[encoded data removed]",
      "text/plain": [
       "<Figure size 1000x400 with 1 Axes>"
      ]
     },
     "metadata": {},
     "output_type": "display_data"
    },
    {
     "data": {
      "image/png": "[encoded data removed]",
      "text/plain": [
       "<Figure size 1000x400 with 1 Axes>"
      ]
     },
     "metadata": {},
     "output_type": "display_data"
    },
    {
     "data": {
      "image/png": "[encoded data removed]",
      "text/plain": [
       "<Figure size 1000x400 with 1 Axes>"
      ]
     },
     "metadata": {},
     "output_type": "display_data"
    },
    {
     "data": {
      "image/png": "[encoded data removed]",
      "text/plain": [
       "<Figure size 1000x400 with 1 Axes>"
      ]
     },
     "metadata": {},
     "output_type": "display_data"
    },
    {
     "data": {
      "image/png": "[encoded data removed]",
      "text/plain": [
       "<Figure size 1000x400 with 1 Axes>"
      ]
     },
     "metadata": {},
     "output_type": "display_data"
    },
    {
     "data": {
      "image/png": "[encoded data removed]",
      "text/plain": [
       "<Figure size 1000x400 with 1 Axes>"
      ]
     },
     "metadata": {},
     "output_type": "display_data"
    },
    {
     "data": {
      "image/png": "[encoded data removed]",
      "text/plain": [
       "<Figure size 1000x400 with 1 Axes>"
      ]
     },
     "metadata": {},
     "output_type": "display_data"
    }
   ],
   "source": [
    "import matplotlib.pyplot as plt\n",
    "import seaborn as sns\n",
    "\n",
    "# Histograms for visual inspection of distributions\n",
    "for column in ['dd', 'ff', 'precip', 'hu', 'td', 't', 'psl']:\n",
    "    plt.figure(figsize=(10, 4))\n",
    "    sns.histplot(weather_data[column], kde=True, stat=\"density\", linewidth=0)\n",
    "    plt.title(f'Distribution of {column}')\n",
    "    plt.xlabel(column)\n",
    "    plt.ylabel('Density')\n",
    "    plt.show()\n"
   ]
  },
  {
   "cell_type": "code",
   "execution_count": 44,
   "id": "9506d192",
   "metadata": {},
   "outputs": [
    {
     "data": {
      "image/png": "[encoded data removed]",
      "text/plain": [
       "<Figure size 640x480 with 1 Axes>"
      ]
     },
     "metadata": {},
     "output_type": "display_data"
    }
   ],
   "source": [
    "from scipy import stats\n",
    "\n",
    "# Example of fitting a distribution for wind speed (ff)\n",
    "param_ff = stats.norm.fit(weather_data['ff'])  # Assuming a normal distribution as a starting point\n",
    "x = np.linspace(weather_data['ff'].min(), weather_data['ff'].max(), 100)\n",
    "pdf_fitted = stats.norm.pdf(x, *param_ff)\n",
    "\n",
    "plt.plot(x, pdf_fitted, 'r-')\n",
    "plt.hist(weather_data['ff'], density=True, alpha=0.75)\n",
    "plt.title('Fit results for Wind Speed')\n",
    "plt.show()"
   ]
  },
  {
   "cell_type": "code",
   "execution_count": 45,
   "id": "7ab7abd0",
   "metadata": {},
   "outputs": [
    {
     "name": "stdout",
     "output_type": "stream",
     "text": [
      "KS statistic=0.2412565036312761, p-value=0.0\n"
     ]
    }
   ],
   "source": [
    "# Example Kolmogorov-Smirnov test for wind speed\n",
    "D, p_value = stats.kstest(weather_data['ff'], 'norm', args=param_ff)\n",
    "print(f'KS statistic={D}, p-value={p_value}')\n"
   ]
  },
  {
   "cell_type": "code",
   "execution_count": 51,
   "id": "f23fcb40",
   "metadata": {},
   "outputs": [
    {
     "name": "stdout",
     "output_type": "stream",
     "text": [
      "  Variable Distribution                 Parameters\n",
      "0       dd       Normal      Mean=189.00, SD=80.89\n",
      "1       ff       Normal         Mean=3.82, SD=2.03\n",
      "2   precip       Normal         Mean=0.01, SD=0.08\n",
      "3       hu       Normal       Mean=80.60, SD=12.61\n",
      "4       td       Normal       Mean=280.95, SD=5.09\n",
      "5        t       Normal       Mean=284.69, SD=6.57\n",
      "6      psl       Normal  Mean=101688.95, SD=415.82\n"
     ]
    }
   ],
   "source": [
    "\n",
    "# Initialize an empty DataFrame to store summary data\n",
    "summary_table = pd.DataFrame(columns=['Variable', 'Distribution', 'Parameters'])\n",
    "\n",
    "# List of columns for which to fit distributions\n",
    "columns = ['dd', 'ff', 'precip', 'hu', 'td', 't', 'psl']\n",
    "\n",
    "# Loop through each variable\n",
    "for column in columns:\n",
    "    # Fitting a normal distribution to each variable\n",
    "    params = stats.norm.fit(weather_data[column])\n",
    "    # Creating a temporary DataFrame to hold the fit parameters for the current variable\n",
    "    temp_df = pd.DataFrame({\n",
    "        'Variable': [column],\n",
    "        'Distribution': ['Normal'],\n",
    "        'Parameters': [f'Mean={params[0]:.2f}, SD={params[1]:.2f}']\n",
    "    })\n",
    "    # Concatenate the temporary DataFrame to the main summary table\n",
    "    summary_table = pd.concat([summary_table, temp_df], ignore_index=True)\n",
    "\n",
    "# Display the summary table\n",
    "print(summary_table)"
   ]
  },
  {
   "cell_type": "code",
   "execution_count": null,
   "id": "aba15662",
   "metadata": {},
   "outputs": [],
   "source": []
  }
 ],
 "metadata": {
  "kernelspec": {
   "display_name": "Python 3 (ipykernel)",
   "language": "python",
   "name": "python3"
  },
  "language_info": {
   "codemirror_mode": {
    "name": "ipython",
    "version": 3
   },
   "file_extension": ".py",
   "mimetype": "text/x-python",
   "name": "python",
   "nbconvert_exporter": "python",
   "pygments_lexer": "ipython3",
   "version": "3.11.5"
  }
 },
 "nbformat": 4,
 "nbformat_minor": 5
}
